{
 "cells": [
  {
   "cell_type": "code",
   "execution_count": 1,
   "metadata": {},
   "outputs": [
    {
     "name": "stderr",
     "output_type": "stream",
     "text": [
      "/home/mcicek/anaconda3/lib/python3.6/site-packages/h5py/__init__.py:36: FutureWarning: Conversion of the second argument of issubdtype from `float` to `np.floating` is deprecated. In future, it will be treated as `np.float64 == np.dtype(float).type`.\n",
      "  from ._conv import register_converters as _register_converters\n",
      "Using TensorFlow backend.\n"
     ]
    }
   ],
   "source": [
    "from DatasetHandler.BiwiTarBrowser import *"
   ]
  },
  {
   "cell_type": "code",
   "execution_count": 2,
   "metadata": {},
   "outputs": [
    {
     "name": "stdout",
     "output_type": "stream",
     "text": [
      "/home/mcicek/Projects/deep_rl_for_head_pose_est/DeepRL_For_HPE/DatasetHandler/BIWI_Files/BIWI_Samples/SnippedBiwi.tgz has been started to read by 2018-11-24 01:59:45.044643\n",
      "Subject 01's frames have been started to read by 2018-11-24 01:59:45.052931\n",
      "Subject 01's all 10 frames have been read by 2018-11-24 01:59:45.171781\n",
      "/home/mcicek/Projects/deep_rl_for_head_pose_est/DeepRL_For_HPE/DatasetHandler/BIWI_Files/db_annotations.tgz has been started to read by 2018-11-24 01:59:45.171953\n",
      "24 annotations have been read by 2018-11-24 01:59:50.918443\n"
     ]
    }
   ],
   "source": [
    "snippedBiwi = readBIWIDataset(frameTarFile = BIWI_SnippedData_file, labelsTarFile = BIWI_Lebels_file_Local)"
   ]
  },
  {
   "cell_type": "code",
   "execution_count": 3,
   "metadata": {},
   "outputs": [
    {
     "name": "stdout",
     "output_type": "stream",
     "text": [
      "1 (10, 480, 640, 3) (10, 6)\n"
     ]
    }
   ],
   "source": [
    "for subj, (inputMatrix, labels) in snippedBiwi.items():\n",
    "    print(subj, inputMatrix.shape, labels.shape)"
   ]
  },
  {
   "cell_type": "code",
   "execution_count": null,
   "metadata": {
    "scrolled": true
   },
   "outputs": [
    {
     "name": "stdout",
     "output_type": "stream",
     "text": [
      "/home/mcicek/Datasets/HeadPoses/biwi/kinect_head_pose_db.tgz has been started to read by 2018-11-24 01:59:54.238224\n",
      "Subject 01's frames have been started to read by 2018-11-24 02:00:10.614586\n",
      "Subject 01's first 00010 frames have been read by 2018-11-24 02:01:17.384050\n",
      "Subject 01's first 00020 frames have been read by 2018-11-24 02:01:55.689518\n",
      "Subject 01's first 00030 frames have been read by 2018-11-24 02:02:52.673448\n",
      "Subject 01's first 00040 frames have been read by 2018-11-24 02:03:40.451292\n",
      "Subject 01's first 00050 frames have been read by 2018-11-24 02:04:28.366504\n",
      "Subject 01's first 00060 frames have been read by 2018-11-24 02:05:35.771263\n",
      "Subject 01's first 00070 frames have been read by 2018-11-24 02:06:13.851196\n",
      "Subject 01's first 00080 frames have been read by 2018-11-24 02:07:10.345582\n",
      "Subject 01's first 00090 frames have been read by 2018-11-24 02:07:48.321476\n",
      "Subject 01's first 00100 frames have been read by 2018-11-24 02:08:35.705210\n",
      "Subject 01's first 00110 frames have been read by 2018-11-24 02:09:23.101820\n",
      "Subject 01's first 00120 frames have been read by 2018-11-24 02:10:01.138186\n",
      "Subject 01's first 00130 frames have been read by 2018-11-24 02:10:48.531282\n",
      "Subject 01's first 00140 frames have been read by 2018-11-24 02:11:17.517934\n",
      "Subject 01's first 00150 frames have been read by 2018-11-24 02:12:13.872265\n"
     ]
    }
   ],
   "source": [
    "biwi = readBIWIDataset()"
   ]
  },
  {
   "cell_type": "code",
   "execution_count": null,
   "metadata": {},
   "outputs": [],
   "source": []
  }
 ],
 "metadata": {
  "kernelspec": {
   "display_name": "Python 3",
   "language": "python",
   "name": "python3"
  },
  "language_info": {
   "codemirror_mode": {
    "name": "ipython",
    "version": 3
   },
   "file_extension": ".py",
   "mimetype": "text/x-python",
   "name": "python",
   "nbconvert_exporter": "python",
   "pygments_lexer": "ipython3",
   "version": "3.6.5"
  }
 },
 "nbformat": 4,
 "nbformat_minor": 2
}
