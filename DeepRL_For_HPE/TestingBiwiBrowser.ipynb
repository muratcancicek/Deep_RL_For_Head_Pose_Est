{
 "cells": [
  {
   "cell_type": "code",
   "execution_count": 1,
   "metadata": {},
   "outputs": [
    {
     "name": "stderr",
     "output_type": "stream",
     "text": [
      "Using TensorFlow backend.\n"
     ]
    }
   ],
   "source": [
    "from DatasetHandler.BiwiBrowser import *"
   ]
  },
  {
   "cell_type": "code",
   "execution_count": 2,
   "metadata": {},
   "outputs": [
    {
     "name": "stdout",
     "output_type": "stream",
     "text": [
      "Frames from /home/mcicek/Datasets/HeadPoses/biwi/hpdb/ have been started to read by 2018-12-19 21:14:58.178415\n"
     ]
    },
    {
     "ename": "FileNotFoundError",
     "evalue": "[WinError 3] The system cannot find the path specified: '/home/mcicek/Datasets/HeadPoses/biwi/hpdb/01\\\\'",
     "output_type": "error",
     "traceback": [
      "\u001b[1;31m---------------------------------------------------------------------------\u001b[0m",
      "\u001b[1;31mFileNotFoundError\u001b[0m                         Traceback (most recent call last)",
      "\u001b[1;32m<ipython-input-2-29d8279a9409>\u001b[0m in \u001b[0;36m<module>\u001b[1;34m()\u001b[0m\n\u001b[1;32m----> 1\u001b[1;33m \u001b[0mbiwi\u001b[0m \u001b[1;33m=\u001b[0m \u001b[0mreadBIWIDataset\u001b[0m\u001b[1;33m(\u001b[0m\u001b[0msubjectList\u001b[0m \u001b[1;33m=\u001b[0m \u001b[1;33m[\u001b[0m\u001b[0ms\u001b[0m \u001b[1;32mfor\u001b[0m \u001b[0ms\u001b[0m \u001b[1;32min\u001b[0m \u001b[0mrange\u001b[0m\u001b[1;33m(\u001b[0m\u001b[1;36m1\u001b[0m\u001b[1;33m,\u001b[0m \u001b[1;36m3\u001b[0m\u001b[1;33m)\u001b[0m\u001b[1;33m]\u001b[0m\u001b[1;33m)\u001b[0m\u001b[1;31m#\u001b[0m\u001b[1;33m\u001b[0m\u001b[0m\n\u001b[0m",
      "\u001b[1;32mD:\\GoogleDrive\\Projects\\deep_rl_for_head_pose_est\\DeepRL_For_HPE\\DatasetHandler\\BiwiBrowser.py\u001b[0m in \u001b[0;36mreadBIWIDataset\u001b[1;34m(dataFolder, labelsTarFile, subjectList)\u001b[0m\n\u001b[0;32m     98\u001b[0m \u001b[1;32mdef\u001b[0m \u001b[0mreadBIWIDataset\u001b[0m\u001b[1;33m(\u001b[0m\u001b[0mdataFolder\u001b[0m \u001b[1;33m=\u001b[0m \u001b[0mBIWI_Data_folder\u001b[0m\u001b[1;33m,\u001b[0m \u001b[0mlabelsTarFile\u001b[0m \u001b[1;33m=\u001b[0m \u001b[0mBIWI_Lebels_file\u001b[0m\u001b[1;33m,\u001b[0m \u001b[0msubjectList\u001b[0m \u001b[1;33m=\u001b[0m \u001b[1;32mNone\u001b[0m\u001b[1;33m)\u001b[0m\u001b[1;33m:\u001b[0m\u001b[1;33m\u001b[0m\u001b[0m\n\u001b[0;32m     99\u001b[0m     \u001b[1;32mif\u001b[0m \u001b[0msubjectList\u001b[0m \u001b[1;33m==\u001b[0m \u001b[1;32mNone\u001b[0m\u001b[1;33m:\u001b[0m \u001b[0msubjectList\u001b[0m \u001b[1;33m=\u001b[0m \u001b[1;33m[\u001b[0m\u001b[0ms\u001b[0m \u001b[1;32mfor\u001b[0m \u001b[0ms\u001b[0m \u001b[1;32min\u001b[0m \u001b[0mrange\u001b[0m\u001b[1;33m(\u001b[0m\u001b[1;36m1\u001b[0m\u001b[1;33m,\u001b[0m \u001b[1;36m25\u001b[0m\u001b[1;33m)\u001b[0m\u001b[1;33m]\u001b[0m\u001b[1;33m\u001b[0m\u001b[0m\n\u001b[1;32m--> 100\u001b[1;33m     \u001b[0mbiwiFrames\u001b[0m \u001b[1;33m=\u001b[0m \u001b[0mreadBIWI_Frames\u001b[0m\u001b[1;33m(\u001b[0m\u001b[0mdataFolder\u001b[0m \u001b[1;33m=\u001b[0m \u001b[0mdataFolder\u001b[0m\u001b[1;33m,\u001b[0m \u001b[0msubjectList\u001b[0m \u001b[1;33m=\u001b[0m \u001b[0msubjectList\u001b[0m\u001b[1;33m)\u001b[0m\u001b[1;33m\u001b[0m\u001b[0m\n\u001b[0m\u001b[0;32m    101\u001b[0m     \u001b[0mbiwiAnnos\u001b[0m \u001b[1;33m=\u001b[0m \u001b[0mreadBIWI_Annos\u001b[0m\u001b[1;33m(\u001b[0m\u001b[0mtarFile\u001b[0m \u001b[1;33m=\u001b[0m \u001b[0mlabelsTarFile\u001b[0m\u001b[1;33m,\u001b[0m \u001b[0msubjectList\u001b[0m \u001b[1;33m=\u001b[0m \u001b[0msubjectList\u001b[0m\u001b[1;33m)\u001b[0m\u001b[1;33m\u001b[0m\u001b[0m\n\u001b[0;32m    102\u001b[0m     \u001b[0mbiwi\u001b[0m \u001b[1;33m=\u001b[0m \u001b[1;33m(\u001b[0m\u001b[0mlabelFramesForSubj\u001b[0m\u001b[1;33m(\u001b[0m\u001b[0mframes\u001b[0m\u001b[1;33m,\u001b[0m \u001b[0mbiwiAnnos\u001b[0m\u001b[1;33m[\u001b[0m\u001b[0msubj\u001b[0m\u001b[1;33m]\u001b[0m\u001b[1;33m)\u001b[0m \u001b[1;32mfor\u001b[0m \u001b[0msubj\u001b[0m\u001b[1;33m,\u001b[0m \u001b[0mframes\u001b[0m \u001b[1;32min\u001b[0m \u001b[0mbiwiFrames\u001b[0m\u001b[1;33m.\u001b[0m\u001b[0mitems\u001b[0m\u001b[1;33m(\u001b[0m\u001b[1;33m)\u001b[0m\u001b[1;33m)\u001b[0m\u001b[1;33m\u001b[0m\u001b[0m\n",
      "\u001b[1;32mD:\\GoogleDrive\\Projects\\deep_rl_for_head_pose_est\\DeepRL_For_HPE\\DatasetHandler\\BiwiBrowser.py\u001b[0m in \u001b[0;36mreadBIWI_Frames\u001b[1;34m(dataFolder, subjectList)\u001b[0m\n\u001b[0;32m     75\u001b[0m     \u001b[1;32mif\u001b[0m \u001b[0msubjectList\u001b[0m \u001b[1;33m==\u001b[0m \u001b[1;32mNone\u001b[0m\u001b[1;33m:\u001b[0m \u001b[0msubjectList\u001b[0m \u001b[1;33m=\u001b[0m \u001b[0mgetSubjectsListFromFolder\u001b[0m\u001b[1;33m(\u001b[0m\u001b[0mdataFolder\u001b[0m\u001b[1;33m)\u001b[0m\u001b[1;33m\u001b[0m\u001b[0m\n\u001b[0;32m     76\u001b[0m     \u001b[1;32mfor\u001b[0m \u001b[0msubj\u001b[0m \u001b[1;32min\u001b[0m \u001b[0msubjectList\u001b[0m\u001b[1;33m:\u001b[0m\u001b[1;33m\u001b[0m\u001b[0m\n\u001b[1;32m---> 77\u001b[1;33m         \u001b[0mframes\u001b[0m \u001b[1;33m=\u001b[0m \u001b[0mgetAllFramesForSubj\u001b[0m\u001b[1;33m(\u001b[0m\u001b[0msubj\u001b[0m\u001b[1;33m,\u001b[0m \u001b[0mdataFolder\u001b[0m\u001b[1;33m)\u001b[0m\u001b[1;33m\u001b[0m\u001b[0m\n\u001b[0m\u001b[0;32m     78\u001b[0m         \u001b[0mbiwiFrames\u001b[0m\u001b[1;33m[\u001b[0m\u001b[0msubj\u001b[0m\u001b[1;33m]\u001b[0m \u001b[1;33m=\u001b[0m \u001b[0mframes\u001b[0m\u001b[1;33m\u001b[0m\u001b[0m\n\u001b[0;32m     79\u001b[0m     \u001b[1;32mreturn\u001b[0m \u001b[0mbiwiFrames\u001b[0m\u001b[1;33m\u001b[0m\u001b[0m\n",
      "\u001b[1;32mD:\\GoogleDrive\\Projects\\deep_rl_for_head_pose_est\\DeepRL_For_HPE\\DatasetHandler\\BiwiBrowser.py\u001b[0m in \u001b[0;36mgetAllFramesForSubj\u001b[1;34m(subject, dataFolder)\u001b[0m\n\u001b[0;32m     53\u001b[0m \u001b[1;33m\u001b[0m\u001b[0m\n\u001b[0;32m     54\u001b[0m \u001b[1;32mdef\u001b[0m \u001b[0mgetAllFramesForSubj\u001b[0m\u001b[1;33m(\u001b[0m\u001b[0msubject\u001b[0m\u001b[1;33m,\u001b[0m \u001b[0mdataFolder\u001b[0m \u001b[1;33m=\u001b[0m \u001b[0mBIWI_Data_folder\u001b[0m\u001b[1;33m)\u001b[0m\u001b[1;33m:\u001b[0m\u001b[1;33m\u001b[0m\u001b[0m\n\u001b[1;32m---> 55\u001b[1;33m     \u001b[0mframeNamesForSubj\u001b[0m \u001b[1;33m=\u001b[0m \u001b[0mfilterFrameNamesForSubj\u001b[0m\u001b[1;33m(\u001b[0m\u001b[0msubject\u001b[0m\u001b[1;33m,\u001b[0m \u001b[0mdataFolder\u001b[0m\u001b[1;33m)\u001b[0m\u001b[1;33m\u001b[0m\u001b[0m\n\u001b[0m\u001b[0;32m     56\u001b[0m     \u001b[0mprint\u001b[0m\u001b[1;33m(\u001b[0m\u001b[1;34m'Subject '\u001b[0m \u001b[1;33m+\u001b[0m \u001b[0mstr\u001b[0m\u001b[1;33m(\u001b[0m\u001b[0msubject\u001b[0m\u001b[1;33m)\u001b[0m\u001b[1;33m.\u001b[0m\u001b[0mzfill\u001b[0m\u001b[1;33m(\u001b[0m\u001b[1;36m2\u001b[0m\u001b[1;33m)\u001b[0m \u001b[1;33m+\u001b[0m \u001b[1;34m'\\'s frames have been started to read '\u001b[0m \u001b[1;33m+\u001b[0m \u001b[0mnow\u001b[0m\u001b[1;33m(\u001b[0m\u001b[1;33m)\u001b[0m\u001b[1;33m)\u001b[0m\u001b[1;33m\u001b[0m\u001b[0m\n\u001b[0;32m     57\u001b[0m     \u001b[0mframes\u001b[0m \u001b[1;33m=\u001b[0m \u001b[1;33m(\u001b[0m\u001b[1;33m(\u001b[0m\u001b[0mn\u001b[0m\u001b[1;33m,\u001b[0m \u001b[0mpngObjToNpArr\u001b[0m\u001b[1;33m(\u001b[0m\u001b[0mframePath\u001b[0m\u001b[1;33m)\u001b[0m\u001b[1;33m)\u001b[0m \u001b[1;32mfor\u001b[0m \u001b[0mn\u001b[0m\u001b[1;33m,\u001b[0m \u001b[0mframePath\u001b[0m \u001b[1;32min\u001b[0m \u001b[0mframeNamesForSubj\u001b[0m\u001b[1;33m)\u001b[0m\u001b[1;33m\u001b[0m\u001b[0m\n",
      "\u001b[1;32mD:\\GoogleDrive\\Projects\\deep_rl_for_head_pose_est\\DeepRL_For_HPE\\DatasetHandler\\BiwiBrowser.py\u001b[0m in \u001b[0;36mfilterFrameNamesForSubj\u001b[1;34m(subject, dataFolder)\u001b[0m\n\u001b[0;32m     45\u001b[0m \u001b[1;32mdef\u001b[0m \u001b[0mfilterFrameNamesForSubj\u001b[0m\u001b[1;33m(\u001b[0m\u001b[0msubject\u001b[0m\u001b[1;33m,\u001b[0m \u001b[0mdataFolder\u001b[0m\u001b[1;33m)\u001b[0m\u001b[1;33m:\u001b[0m\u001b[1;33m\u001b[0m\u001b[0m\n\u001b[0;32m     46\u001b[0m     \u001b[0msubjectFolder\u001b[0m \u001b[1;33m=\u001b[0m \u001b[0mstr\u001b[0m\u001b[1;33m(\u001b[0m\u001b[0msubject\u001b[0m\u001b[1;33m)\u001b[0m\u001b[1;33m.\u001b[0m\u001b[0mzfill\u001b[0m\u001b[1;33m(\u001b[0m\u001b[1;36m2\u001b[0m\u001b[1;33m)\u001b[0m \u001b[1;33m+\u001b[0m \u001b[0mos\u001b[0m\u001b[1;33m.\u001b[0m\u001b[0mpath\u001b[0m\u001b[1;33m.\u001b[0m\u001b[0msep\u001b[0m\u001b[1;33m\u001b[0m\u001b[0m\n\u001b[1;32m---> 47\u001b[1;33m     \u001b[0mallNames\u001b[0m \u001b[1;33m=\u001b[0m \u001b[0mos\u001b[0m\u001b[1;33m.\u001b[0m\u001b[0mlistdir\u001b[0m\u001b[1;33m(\u001b[0m\u001b[0mdataFolder\u001b[0m \u001b[1;33m+\u001b[0m \u001b[0msubjectFolder\u001b[0m\u001b[1;33m)\u001b[0m\u001b[1;33m\u001b[0m\u001b[0m\n\u001b[0m\u001b[0;32m     48\u001b[0m     \u001b[0mframeNamesForSubj\u001b[0m \u001b[1;33m=\u001b[0m \u001b[1;33m(\u001b[0m\u001b[0mfn\u001b[0m \u001b[1;32mfor\u001b[0m \u001b[0mfn\u001b[0m \u001b[1;32min\u001b[0m \u001b[0mallNames\u001b[0m \u001b[1;32mif\u001b[0m \u001b[1;34m'_rgb.png'\u001b[0m \u001b[1;32min\u001b[0m \u001b[0mfn\u001b[0m\u001b[1;33m)\u001b[0m\u001b[1;33m\u001b[0m\u001b[0m\n\u001b[0;32m     49\u001b[0m     \u001b[0mframeKey\u001b[0m \u001b[1;33m=\u001b[0m \u001b[1;32mlambda\u001b[0m \u001b[0mn\u001b[0m\u001b[1;33m:\u001b[0m \u001b[0mstr\u001b[0m\u001b[1;33m(\u001b[0m\u001b[0msubject\u001b[0m\u001b[1;33m)\u001b[0m\u001b[1;33m.\u001b[0m\u001b[0mzfill\u001b[0m\u001b[1;33m(\u001b[0m\u001b[1;36m2\u001b[0m\u001b[1;33m)\u001b[0m \u001b[1;33m+\u001b[0m \u001b[1;34m'/'\u001b[0m \u001b[1;33m+\u001b[0m \u001b[0mn\u001b[0m\u001b[1;33m[\u001b[0m\u001b[1;33m:\u001b[0m\u001b[1;33m-\u001b[0m\u001b[1;36m8\u001b[0m\u001b[1;33m]\u001b[0m\u001b[1;33m\u001b[0m\u001b[0m\n",
      "\u001b[1;31mFileNotFoundError\u001b[0m: [WinError 3] The system cannot find the path specified: '/home/mcicek/Datasets/HeadPoses/biwi/hpdb/01\\\\'"
     ]
    }
   ],
   "source": [
    "biwi = readBIWIDataset(subjectList = [s for s in range(1, 3)])#"
   ]
  },
  {
   "cell_type": "code",
   "execution_count": 6,
   "metadata": {
    "collapsed": true
   },
   "outputs": [
    {
     "name": "stdout",
     "output_type": "stream",
     "text": [
      "2018-11-25 18:16:40.294981\n",
      "(498, 480, 640, 3) (498, 6)\n",
      "2018-11-25 18:16:44.989585\n",
      "(511, 480, 640, 3) (511, 6)\n",
      "2018-11-25 18:16:49.748465\n",
      "(730, 480, 640, 3) (730, 6)\n",
      "2018-11-25 18:16:56.560447\n",
      "(744, 480, 640, 3) (744, 6)\n",
      "2018-11-25 18:17:03.468438\n",
      "(946, 480, 640, 3) (946, 6)\n",
      "2018-11-25 18:17:12.034162\n",
      "(542, 480, 640, 3) (542, 6)\n",
      "2018-11-25 18:17:16.946352\n",
      "(745, 480, 640, 3) (745, 6)\n",
      "2018-11-25 18:17:23.987011\n",
      "(772, 480, 640, 3) (772, 6)\n",
      "2018-11-25 18:17:31.263877\n",
      "(882, 480, 640, 3) (882, 6)\n",
      "2018-11-25 18:17:39.548119\n",
      "(726, 480, 640, 3) (726, 6)\n",
      "2018-11-25 18:17:46.316646\n",
      "(572, 480, 640, 3) (572, 6)\n",
      "2018-11-25 18:17:51.688467\n",
      "(732, 480, 640, 3) (732, 6)\n",
      "2018-11-25 18:17:58.481056\n",
      "(485, 480, 640, 3) (485, 6)\n",
      "2018-11-25 18:18:03.021992\n",
      "(797, 480, 640, 3) (797, 6)\n",
      "2018-11-25 18:18:10.505422\n",
      "(654, 480, 640, 3) (654, 6)\n",
      "2018-11-25 18:18:16.482274\n",
      "(914, 480, 640, 3) (914, 6)\n",
      "2018-11-25 18:18:24.682501\n",
      "(395, 480, 640, 3) (395, 6)\n",
      "2018-11-25 18:18:28.276877\n",
      "(614, 480, 640, 3) (614, 6)\n",
      "2018-11-25 18:18:33.803057\n",
      "(502, 480, 640, 3) (502, 6)\n",
      "2018-11-25 18:18:38.385801\n",
      "(556, 480, 640, 3) (556, 6)\n",
      "2018-11-25 18:18:43.462110\n",
      "(634, 480, 640, 3) (634, 6)\n",
      "2018-11-25 18:18:49.131424\n",
      "(665, 480, 640, 3) (665, 6)\n",
      "2018-11-25 18:18:55.160847\n",
      "(569, 480, 640, 3) (569, 6)\n",
      "2018-11-25 18:19:00.283258\n",
      "(492, 480, 640, 3) (492, 6)\n",
      "2018-11-25 18:19:04.737584\n",
      "2018-11-25 18:19:04.739356\n"
     ]
    }
   ],
   "source": [
    "print(now())\n",
    "for inputMatrix, labels in biwi:\n",
    "    print(inputMatrix.shape, labels.shape)\n",
    "    print(now())\n",
    "print(now())"
   ]
  },
  {
   "cell_type": "code",
   "execution_count": 3,
   "metadata": {},
   "outputs": [
    {
     "ename": "TypeError",
     "evalue": "'generator' object is not subscriptable",
     "output_type": "error",
     "traceback": [
      "\u001b[0;31m---------------------------------------------------------------------------\u001b[0m",
      "\u001b[0;31mTypeError\u001b[0m                                 Traceback (most recent call last)",
      "\u001b[0;32m<ipython-input-3-f7d144e41d40>\u001b[0m in \u001b[0;36m<module>\u001b[0;34m()\u001b[0m\n\u001b[0;32m----> 1\u001b[0;31m \u001b[0;34m[\u001b[0m\u001b[0ms\u001b[0m \u001b[0;32mfor\u001b[0m \u001b[0ms\u001b[0m \u001b[0;32min\u001b[0m \u001b[0mbiwi\u001b[0m\u001b[0;34m[\u001b[0m\u001b[0;34m:\u001b[0m\u001b[0;36m3\u001b[0m\u001b[0;34m]\u001b[0m\u001b[0;34m]\u001b[0m\u001b[0;34m\u001b[0m\u001b[0m\n\u001b[0m",
      "\u001b[0;31mTypeError\u001b[0m: 'generator' object is not subscriptable"
     ]
    }
   ],
   "source": []
  },
  {
   "cell_type": "code",
   "execution_count": 4,
   "metadata": {},
   "outputs": [
    {
     "name": "stdout",
     "output_type": "stream",
     "text": [
      "1 (498, 480, 640, 3) (498, 6)\n",
      "2 (511, 480, 640, 3) (511, 6)\n",
      "3 (730, 480, 640, 3) (730, 6)\n"
     ]
    }
   ],
   "source": [
    "for subj, (inputMatrix, labels) in biwi.items():\n",
    "    print(subj, inputMatrix.shape, labels.shape)"
   ]
  },
  {
   "cell_type": "code",
   "execution_count": null,
   "metadata": {},
   "outputs": [],
   "source": [
    "snippedBiwi = readBIWIDataset(frameTarFile = BIWI_SnippedData_file, labelsTarFile = BIWI_Lebels_file_Local)"
   ]
  },
  {
   "cell_type": "code",
   "execution_count": null,
   "metadata": {},
   "outputs": [],
   "source": []
  }
 ],
 "metadata": {
  "kernelspec": {
   "display_name": "Python 3",
   "language": "python",
   "name": "python3"
  },
  "language_info": {
   "codemirror_mode": {
    "name": "ipython",
    "version": 3
   },
   "file_extension": ".py",
   "mimetype": "text/x-python",
   "name": "python",
   "nbconvert_exporter": "python",
   "pygments_lexer": "ipython3",
   "version": "3.5.6"
  }
 },
 "nbformat": 4,
 "nbformat_minor": 2
}
