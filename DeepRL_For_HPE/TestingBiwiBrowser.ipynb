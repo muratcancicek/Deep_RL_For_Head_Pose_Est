{
 "cells": [
  {
   "cell_type": "code",
   "execution_count": 1,
   "metadata": {},
   "outputs": [],
   "source": [
    "from DatasetHandler.BiwiBrowser import *"
   ]
  },
  {
   "cell_type": "code",
   "execution_count": 2,
   "metadata": {},
   "outputs": [],
   "source": [
    "snippedBiwi = readBIWIDataset(frameTarFile = BIWI_SnippedData_file, labelsTarFile = BIWI_Lebels_file_Local)"
   ]
  },
  {
   "cell_type": "code",
   "execution_count": null,
   "metadata": {},
   "outputs": [],
   "source": [
    "for subj, (inputMatrix, labels) in snippedBiwi.items():\n",
    "    print(subj, inputMatrix.shape, labels.shape)"
   ]
  },
  {
   "cell_type": "code",
   "execution_count": null,
   "metadata": {
    "scrolled": true
   },
   "outputs": [
    {
     "name": "stdout",
     "output_type": "stream",
     "text": [
      "Subject 01's first 00010 frames have been read by 2018-11-23 20:56:43.191650\n",
      "Subject 01's first 00020 frames have been read by 2018-11-23 20:57:29.586334\n",
      "Subject 01's first 00030 frames have been read by 2018-11-23 20:58:39.548710\n",
      "Subject 01's first 00040 frames have been read by 2018-11-23 20:59:31.468573\n",
      "Subject 01's first 00050 frames have been read by 2018-11-23 21:00:23.359484\n",
      "Subject 01's first 00060 frames have been read by 2018-11-23 21:01:24.332393\n",
      "Subject 01's first 00070 frames have been read by 2018-11-23 21:02:07.021980\n",
      "Subject 01's first 00080 frames have been read by 2018-11-23 21:03:09.269176\n",
      "Subject 01's first 00090 frames have been read by 2018-11-23 21:03:53.387527\n"
     ]
    }
   ],
   "source": [
    "biwi = readBIWIDataset()"
   ]
  },
  {
   "cell_type": "code",
   "execution_count": null,
   "metadata": {},
   "outputs": [],
   "source": [
    "biwiAnnos = readBIWI_Annos()"
   ]
  },
  {
   "cell_type": "code",
   "execution_count": null,
   "metadata": {},
   "outputs": [],
   "source": []
  }
 ],
 "metadata": {
  "kernelspec": {
   "display_name": "Python 3",
   "language": "python",
   "name": "python3"
  },
  "language_info": {
   "codemirror_mode": {
    "name": "ipython",
    "version": 3
   },
   "file_extension": ".py",
   "mimetype": "text/x-python",
   "name": "python",
   "nbconvert_exporter": "python",
   "pygments_lexer": "ipython3",
   "version": "3.6.5"
  }
 },
 "nbformat": 4,
 "nbformat_minor": 2
}
