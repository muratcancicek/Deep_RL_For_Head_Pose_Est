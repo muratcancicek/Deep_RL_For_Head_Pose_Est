{
 "cells": [
  {
   "cell_type": "code",
   "execution_count": 1,
   "metadata": {},
   "outputs": [
    {
     "name": "stderr",
     "output_type": "stream",
     "text": [
      "/home/mcicek/anaconda3/lib/python3.6/site-packages/h5py/__init__.py:36: FutureWarning: Conversion of the second argument of issubdtype from `float` to `np.floating` is deprecated. In future, it will be treated as `np.float64 == np.dtype(float).type`.\n",
      "  from ._conv import register_converters as _register_converters\n",
      "Using TensorFlow backend.\n"
     ]
    }
   ],
   "source": [
    "from DatasetHandler.BiwiBrowser import *"
   ]
  },
  {
   "cell_type": "code",
   "execution_count": null,
   "metadata": {
    "scrolled": true
   },
   "outputs": [
    {
     "name": "stdout",
     "output_type": "stream",
     "text": [
      "Frames from /home/mcicek/Datasets/HeadPoses/biwi/hpdb/ have been started to read by 2018-11-24 17:44:03.035536\n",
      "Subject 01's 499 frames have been started to read 2018-11-24 17:44:03.343145\n",
      "Subject 01's first 00100 frames have been read by 2018-11-24 17:44:05.361803\n",
      "Subject 01's first 00200 frames have been read by 2018-11-24 17:44:07.229842\n",
      "Subject 01's first 00300 frames have been read by 2018-11-24 17:44:09.157717\n",
      "Subject 01's first 00400 frames have been read by 2018-11-24 17:44:10.939791\n",
      "Subject 01's all 499 frames have been read by 2018-11-24 17:44:12.623753\n",
      "Subject 02's 511 frames have been started to read 2018-11-24 17:44:12.653940\n",
      "Subject 02's first 00100 frames have been read by 2018-11-24 17:44:14.327577\n",
      "Subject 02's first 00200 frames have been read by 2018-11-24 17:44:15.779491\n",
      "Subject 02's first 00300 frames have been read by 2018-11-24 17:44:17.249804\n",
      "Subject 02's first 00400 frames have been read by 2018-11-24 17:44:19.012161\n",
      "Subject 02's first 00500 frames have been read by 2018-11-24 17:44:20.522144\n",
      "Subject 02's all 511 frames have been read by 2018-11-24 17:44:20.654465\n",
      "Subject 03's 730 frames have been started to read 2018-11-24 17:44:20.702659\n",
      "Subject 03's first 00100 frames have been read by 2018-11-24 17:44:22.418857\n",
      "Subject 03's first 00200 frames have been read by 2018-11-24 17:44:23.842434\n",
      "Subject 03's first 00300 frames have been read by 2018-11-24 17:44:25.530931\n",
      "Subject 03's first 00400 frames have been read by 2018-11-24 17:44:27.205065\n",
      "Subject 03's first 00500 frames have been read by 2018-11-24 17:44:28.829396\n",
      "Subject 03's first 00600 frames have been read by 2018-11-24 17:44:30.556252\n",
      "Subject 03's first 00700 frames have been read by 2018-11-24 17:44:32.227988\n",
      "Subject 03's all 730 frames have been read by 2018-11-24 17:44:32.710385\n",
      "Subject 04's 744 frames have been started to read 2018-11-24 17:44:32.722510\n",
      "Subject 04's first 00100 frames have been read by 2018-11-24 17:44:34.469192\n",
      "Subject 04's first 00200 frames have been read by 2018-11-24 17:44:36.555214\n",
      "Subject 04's first 00300 frames have been read by 2018-11-24 17:44:38.155972\n",
      "Subject 04's first 00400 frames have been read by 2018-11-24 17:44:39.901328\n",
      "Subject 04's first 00500 frames have been read by 2018-11-24 17:44:41.647870\n",
      "Subject 04's first 00600 frames have been read by 2018-11-24 17:44:43.369528\n",
      "Subject 04's first 00700 frames have been read by 2018-11-24 17:44:44.805178\n",
      "Subject 04's all 744 frames have been read by 2018-11-24 17:44:45.492000\n",
      "Subject 05's 946 frames have been started to read 2018-11-24 17:44:45.506628\n",
      "Subject 05's first 00100 frames have been read by 2018-11-24 17:44:46.976866\n",
      "Subject 05's first 00200 frames have been read by 2018-11-24 17:44:48.402141\n",
      "Subject 05's first 00300 frames have been read by 2018-11-24 17:44:49.899997\n",
      "Subject 05's first 00400 frames have been read by 2018-11-24 17:44:51.384621\n",
      "Subject 05's first 00500 frames have been read by 2018-11-24 17:44:52.853564\n",
      "Subject 05's first 00600 frames have been read by 2018-11-24 17:44:54.310613\n",
      "Subject 05's first 00700 frames have been read by 2018-11-24 17:44:55.760217\n",
      "Subject 05's first 00800 frames have been read by 2018-11-24 17:44:57.222130\n",
      "Subject 05's first 00900 frames have been read by 2018-11-24 17:44:58.673680\n",
      "Subject 05's all 946 frames have been read by 2018-11-24 17:44:59.323616\n",
      "Subject 06's 542 frames have been started to read 2018-11-24 17:44:59.331596\n",
      "Subject 06's first 00100 frames have been read by 2018-11-24 17:45:01.659695\n",
      "Subject 06's first 00200 frames have been read by 2018-11-24 17:45:03.311512\n",
      "Subject 06's first 00300 frames have been read by 2018-11-24 17:45:04.936340\n",
      "Subject 06's first 00400 frames have been read by 2018-11-24 17:45:06.523045\n",
      "Subject 06's first 00500 frames have been read by 2018-11-24 17:45:08.084679\n",
      "Subject 06's all 542 frames have been read by 2018-11-24 17:45:08.752986\n",
      "Subject 07's 745 frames have been started to read 2018-11-24 17:45:08.779196\n",
      "Subject 07's first 00100 frames have been read by 2018-11-24 17:45:10.606393\n",
      "Subject 07's first 00200 frames have been read by 2018-11-24 17:45:13.017051\n",
      "Subject 07's first 00300 frames have been read by 2018-11-24 17:45:14.805749\n",
      "Subject 07's first 00400 frames have been read by 2018-11-24 17:45:16.681454\n",
      "Subject 07's first 00500 frames have been read by 2018-11-24 17:45:18.390819\n",
      "Subject 07's first 00600 frames have been read by 2018-11-24 17:45:20.192046\n",
      "Subject 07's first 00700 frames have been read by 2018-11-24 17:45:22.186260\n",
      "Subject 07's all 745 frames have been read by 2018-11-24 17:45:22.976484\n",
      "Subject 08's 772 frames have been started to read 2018-11-24 17:45:22.994100\n",
      "Subject 08's first 00100 frames have been read by 2018-11-24 17:45:24.793636\n",
      "Subject 08's first 00200 frames have been read by 2018-11-24 17:45:26.577000\n",
      "Subject 08's first 00300 frames have been read by 2018-11-24 17:45:28.282116\n",
      "Subject 08's first 00400 frames have been read by 2018-11-24 17:45:30.030752\n",
      "Subject 08's first 00500 frames have been read by 2018-11-24 17:45:31.682967\n",
      "Subject 08's first 00600 frames have been read by 2018-11-24 17:45:33.519669\n",
      "Subject 08's first 00700 frames have been read by 2018-11-24 17:45:35.438285\n",
      "Subject 08's all 772 frames have been read by 2018-11-24 17:45:36.697673\n",
      "Subject 09's 882 frames have been started to read 2018-11-24 17:45:36.715720\n",
      "Subject 09's first 00100 frames have been read by 2018-11-24 17:45:38.844432\n",
      "Subject 09's first 00200 frames have been read by 2018-11-24 17:45:40.702316\n",
      "Subject 09's first 00300 frames have been read by 2018-11-24 17:45:42.638789\n",
      "Subject 09's first 00400 frames have been read by 2018-11-24 17:45:44.615525\n",
      "Subject 09's first 00500 frames have been read by 2018-11-24 17:45:46.380566\n",
      "Subject 09's first 00600 frames have been read by 2018-11-24 17:45:48.172396\n",
      "Subject 09's first 00700 frames have been read by 2018-11-24 17:45:50.028118\n",
      "Subject 09's first 00800 frames have been read by 2018-11-24 17:45:51.837495\n",
      "Subject 09's all 882 frames have been read by 2018-11-24 17:45:53.251685\n",
      "Subject 10's 726 frames have been started to read 2018-11-24 17:45:53.279334\n",
      "Subject 10's first 00100 frames have been read by 2018-11-24 17:45:55.341580\n",
      "Subject 10's first 00200 frames have been read by 2018-11-24 17:45:57.288977\n",
      "Subject 10's first 00300 frames have been read by 2018-11-24 17:45:59.051517\n",
      "Subject 10's first 00400 frames have been read by 2018-11-24 17:46:00.888371\n",
      "Subject 10's first 00500 frames have been read by 2018-11-24 17:46:03.733989\n",
      "Subject 10's first 00600 frames have been read by 2018-11-24 17:46:05.770987\n",
      "Subject 10's first 00700 frames have been read by 2018-11-24 17:46:07.338852\n",
      "Subject 10's all 726 frames have been read by 2018-11-24 17:46:07.723340\n",
      "Subject 11's 572 frames have been started to read 2018-11-24 17:46:07.734082\n",
      "Subject 11's first 00100 frames have been read by 2018-11-24 17:46:09.232884\n",
      "Subject 11's first 00200 frames have been read by 2018-11-24 17:46:10.637959\n",
      "Subject 11's first 00300 frames have been read by 2018-11-24 17:46:12.063372\n",
      "Subject 11's first 00400 frames have been read by 2018-11-24 17:46:13.508509\n",
      "Subject 11's first 00500 frames have been read by 2018-11-24 17:46:14.990026\n",
      "Subject 11's all 572 frames have been read by 2018-11-24 17:46:16.000240\n",
      "Subject 12's 732 frames have been started to read 2018-11-24 17:46:16.017991\n",
      "Subject 12's first 00100 frames have been read by 2018-11-24 17:46:17.569723\n",
      "Subject 12's first 00200 frames have been read by 2018-11-24 17:46:19.042194\n",
      "Subject 12's first 00300 frames have been read by 2018-11-24 17:46:20.739273\n",
      "Subject 12's first 00400 frames have been read by 2018-11-24 17:46:22.781465\n",
      "Subject 12's first 00500 frames have been read by 2018-11-24 17:46:24.597763\n",
      "Subject 12's first 00600 frames have been read by 2018-11-24 17:46:27.274540\n",
      "Subject 12's first 00700 frames have been read by 2018-11-24 17:46:54.003348\n",
      "Subject 12's all 732 frames have been read by 2018-11-24 17:47:09.769099\n",
      "Subject 13's 485 frames have been started to read 2018-11-24 17:47:10.661467\n",
      "Subject 13's first 00100 frames have been read by 2018-11-24 17:47:51.431615\n",
      "Subject 13's first 00200 frames have been read by 2018-11-24 17:48:44.423738\n",
      "Subject 13's first 00300 frames have been read by 2018-11-24 17:49:28.847849\n"
     ]
    },
    {
     "name": "stdout",
     "output_type": "stream",
     "text": [
      "Subject 13's first 00400 frames have been read by 2018-11-24 17:49:59.542190\n",
      "Subject 13's all 485 frames have been read by 2018-11-24 17:50:34.506764\n",
      "Subject 14's 797 frames have been started to read 2018-11-24 17:50:37.458562\n",
      "Subject 14's first 00100 frames have been read by 2018-11-24 17:51:33.978282\n",
      "Subject 14's first 00200 frames have been read by 2018-11-24 17:51:59.094224\n",
      "Subject 14's first 00300 frames have been read by 2018-11-24 17:52:35.957118\n",
      "Subject 14's first 00400 frames have been read by 2018-11-24 17:53:09.868411\n",
      "Subject 14's first 00500 frames have been read by 2018-11-24 17:53:43.061522\n",
      "Subject 14's first 00600 frames have been read by 2018-11-24 17:54:13.033309\n",
      "Subject 14's first 00700 frames have been read by 2018-11-24 17:54:41.683809\n",
      "Subject 14's all 797 frames have been read by 2018-11-24 17:55:37.939563\n",
      "Subject 15's 654 frames have been started to read 2018-11-24 17:55:41.623891\n",
      "Subject 15's first 00100 frames have been read by 2018-11-24 17:56:23.509143\n",
      "Subject 15's first 00200 frames have been read by 2018-11-24 17:56:51.957918\n",
      "Subject 15's first 00300 frames have been read by 2018-11-24 17:57:42.257722\n",
      "Subject 15's first 00400 frames have been read by 2018-11-24 17:59:22.134369\n",
      "Subject 15's first 00500 frames have been read by 2018-11-24 18:00:14.973468\n",
      "Subject 15's first 00600 frames have been read by 2018-11-24 18:00:54.846688\n",
      "Subject 15's all 654 frames have been read by 2018-11-24 18:01:13.018850\n",
      "Subject 16's 914 frames have been started to read 2018-11-24 18:01:13.412342\n",
      "Subject 16's first 00100 frames have been read by 2018-11-24 18:01:47.865323\n",
      "Subject 16's first 00200 frames have been read by 2018-11-24 18:02:20.065435\n",
      "Subject 16's first 00300 frames have been read by 2018-11-24 18:02:33.058106\n",
      "Subject 16's first 00400 frames have been read by 2018-11-24 18:02:38.687279\n",
      "Subject 16's first 00500 frames have been read by 2018-11-24 18:02:42.565214\n",
      "Subject 16's first 00600 frames have been read by 2018-11-24 18:02:46.360728\n",
      "Subject 16's first 00700 frames have been read by 2018-11-24 18:02:49.253785\n",
      "Subject 16's first 00800 frames have been read by 2018-11-24 18:02:52.339543\n",
      "Subject 16's first 00900 frames have been read by 2018-11-24 18:02:59.739926\n",
      "Subject 16's all 914 frames have been read by 2018-11-24 18:03:02.583274\n",
      "Subject 17's 395 frames have been started to read 2018-11-24 18:03:02.791502\n",
      "Subject 17's first 00100 frames have been read by 2018-11-24 18:03:14.066185\n",
      "Subject 17's first 00200 frames have been read by 2018-11-24 18:03:38.441065\n",
      "Subject 17's first 00300 frames have been read by 2018-11-24 18:04:07.916936\n",
      "Subject 17's all 395 frames have been read by 2018-11-24 18:04:41.004457\n",
      "Subject 18's 614 frames have been started to read 2018-11-24 18:04:42.980315\n",
      "Subject 18's first 00100 frames have been read by 2018-11-24 18:05:14.950930\n"
     ]
    }
   ],
   "source": [
    "biwi = readBIWIDataset()"
   ]
  },
  {
   "cell_type": "code",
   "execution_count": null,
   "metadata": {},
   "outputs": [],
   "source": [
    "snippedBiwi = readBIWIDataset(frameTarFile = BIWI_SnippedData_file, labelsTarFile = BIWI_Lebels_file_Local)"
   ]
  },
  {
   "cell_type": "code",
   "execution_count": 3,
   "metadata": {},
   "outputs": [
    {
     "name": "stdout",
     "output_type": "stream",
     "text": [
      "1 (10, 480, 640, 3) (10, 6)\n"
     ]
    }
   ],
   "source": [
    "for subj, (inputMatrix, labels) in snippedBiwi.items():\n",
    "    print(subj, inputMatrix.shape, labels.shape)"
   ]
  },
  {
   "cell_type": "code",
   "execution_count": 1,
   "metadata": {},
   "outputs": [
    {
     "ename": "NameError",
     "evalue": "name 'biwi' is not defined",
     "output_type": "error",
     "traceback": [
      "\u001b[0;31m---------------------------------------------------------------------------\u001b[0m",
      "\u001b[0;31mNameError\u001b[0m                                 Traceback (most recent call last)",
      "\u001b[0;32m<ipython-input-1-3ae513738b54>\u001b[0m in \u001b[0;36m<module>\u001b[0;34m()\u001b[0m\n\u001b[0;32m----> 1\u001b[0;31m \u001b[0mlen\u001b[0m\u001b[0;34m(\u001b[0m\u001b[0mbiwi\u001b[0m\u001b[0;34m)\u001b[0m\u001b[0;34m\u001b[0m\u001b[0m\n\u001b[0m",
      "\u001b[0;31mNameError\u001b[0m: name 'biwi' is not defined"
     ]
    }
   ],
   "source": [
    "len(biwi)"
   ]
  },
  {
   "cell_type": "code",
   "execution_count": null,
   "metadata": {},
   "outputs": [],
   "source": []
  }
 ],
 "metadata": {
  "kernelspec": {
   "display_name": "Python 3",
   "language": "python",
   "name": "python3"
  },
  "language_info": {
   "codemirror_mode": {
    "name": "ipython",
    "version": 3
   },
   "file_extension": ".py",
   "mimetype": "text/x-python",
   "name": "python",
   "nbconvert_exporter": "python",
   "pygments_lexer": "ipython3",
   "version": "3.6.5"
  }
 },
 "nbformat": 4,
 "nbformat_minor": 2
}
