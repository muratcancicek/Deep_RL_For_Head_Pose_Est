{
 "cells": [
  {
   "cell_type": "code",
   "execution_count": 1,
   "metadata": {},
   "outputs": [
    {
     "name": "stderr",
     "output_type": "stream",
     "text": [
      "/home/mcicek/anaconda3/lib/python3.6/site-packages/h5py/__init__.py:36: FutureWarning: Conversion of the second argument of issubdtype from `float` to `np.floating` is deprecated. In future, it will be treated as `np.float64 == np.dtype(float).type`.\n",
      "  from ._conv import register_converters as _register_converters\n",
      "Using TensorFlow backend.\n"
     ]
    }
   ],
   "source": [
    "from DatasetHandler.BiwiBrowser import *"
   ]
  },
  {
   "cell_type": "code",
   "execution_count": 2,
   "metadata": {},
   "outputs": [],
   "source": [
    "def scaleAnnoByScalers(labels, scalers):\n",
    "    return ((labels - scalers[0]) - scalers[1]) / scalers[1]"
   ]
  },
  {
   "cell_type": "code",
   "execution_count": 3,
   "metadata": {},
   "outputs": [],
   "source": [
    "def labelFramesForSubj(frames, annos, timesteps = None, overlapping = False, scaling = True, scalers = None):\n",
    "    frames = {n: f for n, f in frames}\n",
    "    keys = sorted(frames & annos.keys())\n",
    "    inputMatrix = numpy.stack(itemgetter(*keys)(frames))\n",
    "    labels = numpy.stack(itemgetter(*keys)(annos))\n",
    "    if scaling: # scaleX()\n",
    "        #inputMatrix, labels = inputMatrix, scaleY(labels)\n",
    "        if scalers != None: labels = scaleAnnoByScalers(labels, scalers)\n",
    "    if timesteps != None:\n",
    "        inputMatrix, labels = reshaper(inputMatrix, labels, timesteps, overlapping)\n",
    "    return inputMatrix, labels"
   ]
  },
  {
   "cell_type": "code",
   "execution_count": 4,
   "metadata": {},
   "outputs": [],
   "source": [
    "def readBIWIDataset(dataFolder = BIWI_Data_folder, labelsTarFile = BIWI_Lebels_file, subjectList = None, timesteps = None, overlapping = False, scaling = True, preprocess_input = None):\n",
    "    if subjectList == None: subjectList = [s for s in range(1, 25)]\n",
    "    biwiFrames = readBIWI_Frames(dataFolder = dataFolder, subjectList = subjectList, preprocess_input = preprocess_input)\n",
    "    biwiAnnos = readBIWI_Annos(tarFile = labelsTarFile, subjectList = subjectList)\n",
    "    scalers = BIWI_Lebel_Scalers #getAnnoScalers(biwiAnnos, tarFile = labelsTarFile, subjectList = subjectList)\n",
    "    labeledFrames = lambda frames, labels: labelFramesForSubj(frames, labels, timesteps, overlapping, scaling, scalers)\n",
    "    biwi = (labeledFrames(frames, biwiAnnos[subj]) for subj, frames in biwiFrames.items())\n",
    "    print('All frames and annotations from ' + str(len(subjectList)) + ' datasets have been read by ' + now())\n",
    "    return biwi   "
   ]
  },
  {
   "cell_type": "code",
   "execution_count": 2,
   "metadata": {},
   "outputs": [
    {
     "name": "stdout",
     "output_type": "stream",
     "text": [
      "All frames and annotations from 1 datasets have been read by 2019-01-29 00:31:44.160664\n"
     ]
    }
   ],
   "source": [
    "biwi = readBIWIDataset(subjectList = [1])"
   ]
  },
  {
   "cell_type": "code",
   "execution_count": 11,
   "metadata": {},
   "outputs": [
    {
     "name": "stdout",
     "output_type": "stream",
     "text": [
      "Mins: [-92.04399872 -87.70659637 754.18200684 -84.3534317  -66.95036316\n",
      " -69.62425995]\n",
      "Maxs: [ 231.352005    246.68400574 1297.44995117   53.54709625   76.89344025\n",
      "   63.36795807]\n"
     ]
    }
   ],
   "source": [
    "biwiAnnos = readBIWI_Annos()\n",
    "maxs = numpy.array([float('-inf') for i in range(6)])\n",
    "mins = numpy.array([float('inf') for i in range(6)])\n",
    "for subj, annos in biwiAnnos.items():\n",
    "    #print(subj)\n",
    "    for name, anno in annos.items():\n",
    "        #anno = anno + (-1 * numpy.array([-92.04399871826172, -87.70659637451172, 754.1820068359375, -84.35343170166016, -66.95036315917969, -69.62425994873047]))\n",
    "        #anno = anno - (numpy.array([323.39600372314453, 334.3906021118164, 543.2679443359375, 137.90052795410156, 143.84380340576172, 132.99221801757812]) / 2)\n",
    "        #anno = anno / (numpy.array([323.39600372314453, 334.3906021118164, 543.2679443359375, 137.90052795410156, 143.84380340576172, 132.99221801757812]) / 2)\n",
    "        for i in range(6):\n",
    "            if anno[i] > maxs[i]:\n",
    "                maxs[i] = anno[i]\n",
    "            if anno[i] < mins[i]:\n",
    "                mins[i] = anno[i]\n",
    "print('Mins:', mins)\n",
    "print('Maxs:', maxs)\n",
    "#return [mins, maxs]"
   ]
  },
  {
   "cell_type": "code",
   "execution_count": 9,
   "metadata": {},
   "outputs": [
    {
     "data": {
      "text/plain": [
       "[array([-92.04399872, -87.70659637, 754.18200684, -84.3534317 ,\n",
       "        -66.95036316, -69.62425995]),\n",
       " array([ 231.352005  ,  246.68400574, 1297.44995117,   53.54709625,\n",
       "          76.89344025,   63.36795807])]"
      ]
     },
     "execution_count": 9,
     "metadata": {},
     "output_type": "execute_result"
    }
   ],
   "source": [
    "getMaxMinValuesOfAnnos()"
   ]
  },
  {
   "cell_type": "code",
   "execution_count": 8,
   "metadata": {},
   "outputs": [
    {
     "data": {
      "text/plain": [
       "[array([-92.04399872, -87.70659637, 754.18200684, -84.3534317 ,\n",
       "        -66.95036316, -69.62425995]),\n",
       " array([ 231.352005  ,  246.68400574, 1297.44995117,   53.54709625,\n",
       "          76.89344025,   63.36795807])]"
      ]
     },
     "execution_count": 8,
     "metadata": {},
     "output_type": "execute_result"
    }
   ],
   "source": [
    "BIWI_Lebel_Scalers"
   ]
  },
  {
   "cell_type": "code",
   "execution_count": 3,
   "metadata": {},
   "outputs": [
    {
     "name": "stdout",
     "output_type": "stream",
     "text": [
      "1 (498, 224, 224, 3) (498, 6)\n"
     ]
    }
   ],
   "source": [
    "m, l = [], []\n",
    "for subj, (inputMatrix, labels) in enumerate(biwi):\n",
    "    m.append(inputMatrix)\n",
    "    l.append(labels)\n",
    "    print(subj+1, inputMatrix.shape, labels.shape)"
   ]
  },
  {
   "cell_type": "code",
   "execution_count": 4,
   "metadata": {},
   "outputs": [],
   "source": [
    "m, l = m[0], l[0]"
   ]
  },
  {
   "cell_type": "code",
   "execution_count": 5,
   "metadata": {},
   "outputs": [
    {
     "data": {
      "text/plain": [
       "array([[-0.11009043, -0.24473778, -0.53073992,  0.1103741 , -0.01913834,\n",
       "         0.01042028],\n",
       "       [-0.11065878, -0.24514926, -0.53016177,  0.11347951, -0.02214213,\n",
       "         0.01082283],\n",
       "       [-0.11118012, -0.24486456, -0.53044534,  0.11328992, -0.02025011,\n",
       "         0.01128712],\n",
       "       ...,\n",
       "       [ 0.5317134 ,  0.07641781, -0.48777776,  0.83854968, -0.92924093,\n",
       "        -0.15185888],\n",
       "       [ 0.53393364,  0.07454336, -0.48819726,  0.84337212, -0.92867044,\n",
       "        -0.15532004],\n",
       "       [ 0.53770611,  0.09044452, -0.48696031,  0.82532875, -0.93205945,\n",
       "        -0.14547584]])"
      ]
     },
     "execution_count": 5,
     "metadata": {},
     "output_type": "execute_result"
    }
   ],
   "source": [
    "l"
   ]
  },
  {
   "cell_type": "code",
   "execution_count": 29,
   "metadata": {},
   "outputs": [],
   "source": [
    "def scaleAnnoByScalers(labels, scalers):\n",
    "    return ((l - scalers[0]) - ((scalers[1]-scalers[0])/2)) / ((scalers[1]-scalers[0])/2)"
   ]
  },
  {
   "cell_type": "code",
   "execution_count": 30,
   "metadata": {},
   "outputs": [],
   "source": [
    "labels = scaleAnnoByScalers(l, BIWI_Lebel_Scalers)"
   ]
  },
  {
   "cell_type": "code",
   "execution_count": 33,
   "metadata": {},
   "outputs": [
    {
     "data": {
      "text/plain": [
       "array([[ 51.8526001 ,  38.56969833, 881.64898682,  -7.7928443 ,\n",
       "          3.59507298,  -2.43524265],\n",
       "       [ 51.76070023,  38.50090027, 881.80603027,  -7.57872534,\n",
       "          3.37903452,  -2.40847516],\n",
       "       [ 51.67639923,  38.54850006, 881.72900391,  -7.59179783,\n",
       "          3.51511192,  -2.37760139],\n",
       "       ...,\n",
       "       [155.6309967 ,  92.26540375, 893.31896973,  42.41505432,\n",
       "        -61.86123657, -13.22617531],\n",
       "       [155.99000549,  91.95200348, 893.20501709,  42.74756241,\n",
       "        -61.82020569, -13.45632935],\n",
       "       [156.6000061 ,  94.61060333, 893.54101562,  41.50346756,\n",
       "        -62.06394958, -12.80172825]])"
      ]
     },
     "execution_count": 33,
     "metadata": {},
     "output_type": "execute_result"
    }
   ],
   "source": [
    "(labels * (scalers[1]-scalers[0])/2) + ((scalers[1]-scalers[0])/2) + scalers[0]"
   ]
  },
  {
   "cell_type": "code",
   "execution_count": 6,
   "metadata": {},
   "outputs": [
    {
     "data": {
      "text/plain": [
       "array([[ 51.8526001 ,  38.56969833, 881.64898682,  -7.7928443 ,\n",
       "          3.59507298,  -2.43524265],\n",
       "       [ 51.76070023,  38.50090027, 881.80603027,  -7.57872534,\n",
       "          3.37903452,  -2.40847516],\n",
       "       [ 51.67639923,  38.54850006, 881.72900391,  -7.59179783,\n",
       "          3.51511192,  -2.37760139],\n",
       "       ...,\n",
       "       [155.6309967 ,  92.26540375, 893.31896973,  42.41505432,\n",
       "        -61.86123657, -13.22617531],\n",
       "       [155.99000549,  91.95200348, 893.20501709,  42.74756241,\n",
       "        -61.82020569, -13.45632935],\n",
       "       [156.6000061 ,  94.61060333, 893.54101562,  41.50346756,\n",
       "        -62.06394958, -12.80172825]])"
      ]
     },
     "execution_count": 6,
     "metadata": {},
     "output_type": "execute_result"
    }
   ],
   "source": [
    "unscaleAnnoByScalers(l, BIWI_Lebel_Scalers)"
   ]
  },
  {
   "cell_type": "code",
   "execution_count": null,
   "metadata": {},
   "outputs": [],
   "source": []
  },
  {
   "cell_type": "code",
   "execution_count": 31,
   "metadata": {},
   "outputs": [
    {
     "name": "stdout",
     "output_type": "stream",
     "text": [
      "0.9727859045179674 -1.0\n"
     ]
    }
   ],
   "source": [
    "print(labels.max(), labels.min())"
   ]
  },
  {
   "cell_type": "code",
   "execution_count": 17,
   "metadata": {},
   "outputs": [],
   "source": [
    "scalers = BIWI_Lebel_Scalers"
   ]
  },
  {
   "cell_type": "code",
   "execution_count": 18,
   "metadata": {},
   "outputs": [
    {
     "data": {
      "text/plain": [
       "[array([-92.04399872, -87.70659637, 754.18200684, -84.3534317 ,\n",
       "        -66.95036316, -69.62425995]),\n",
       " array([ 231.352005  ,  246.68400574, 1297.44995117,   53.54709625,\n",
       "          76.89344025,   63.36795807])]"
      ]
     },
     "execution_count": 18,
     "metadata": {},
     "output_type": "execute_result"
    }
   ],
   "source": [
    "scalers"
   ]
  },
  {
   "cell_type": "code",
   "execution_count": 19,
   "metadata": {},
   "outputs": [
    {
     "data": {
      "text/plain": [
       "array([[ 51.8526001 ,  38.56969833, 881.64898682,  -7.7928443 ,\n",
       "          3.59507298,  -2.43524265],\n",
       "       [ 51.76070023,  38.50090027, 881.80603027,  -7.57872534,\n",
       "          3.37903452,  -2.40847516],\n",
       "       [ 51.67639923,  38.54850006, 881.72900391,  -7.59179783,\n",
       "          3.51511192,  -2.37760139],\n",
       "       ...,\n",
       "       [155.6309967 ,  92.26540375, 893.31896973,  42.41505432,\n",
       "        -61.86123657, -13.22617531],\n",
       "       [155.99000549,  91.95200348, 893.20501709,  42.74756241,\n",
       "        -61.82020569, -13.45632935],\n",
       "       [156.6000061 ,  94.61060333, 893.54101562,  41.50346756,\n",
       "        -62.06394958, -12.80172825]])"
      ]
     },
     "execution_count": 19,
     "metadata": {},
     "output_type": "execute_result"
    }
   ],
   "source": [
    "l"
   ]
  },
  {
   "cell_type": "code",
   "execution_count": 20,
   "metadata": {},
   "outputs": [
    {
     "data": {
      "text/plain": [
       "array([[143.89659882, 126.27629471, 127.46697998,  76.56058741,\n",
       "         70.54543614,  67.1890173 ],\n",
       "       [143.80469894, 126.20749664, 127.62402344,  76.77470636,\n",
       "         70.32939768,  67.21578479],\n",
       "       [143.72039795, 126.25509644, 127.54699707,  76.76163387,\n",
       "         70.46547508,  67.24665856],\n",
       "       ...,\n",
       "       [247.67499542, 179.97200012, 139.13696289, 126.76848602,\n",
       "          5.08912659,  56.39808464],\n",
       "       [248.03400421, 179.65859985, 139.02301025, 127.10099411,\n",
       "          5.13015747,  56.1679306 ],\n",
       "       [248.64400482, 182.31719971, 139.35900879, 125.85689926,\n",
       "          4.88641357,  56.8225317 ]])"
      ]
     },
     "execution_count": 20,
     "metadata": {},
     "output_type": "execute_result"
    }
   ],
   "source": [
    "l - scalers[0]"
   ]
  },
  {
   "cell_type": "code",
   "execution_count": 22,
   "metadata": {},
   "outputs": [
    {
     "data": {
      "text/plain": [
       "array([161.69800186, 167.19530106, 271.63397217,  68.95026398,\n",
       "        71.9219017 ,  66.49610901])"
      ]
     },
     "execution_count": 22,
     "metadata": {},
     "output_type": "execute_result"
    }
   ],
   "source": [
    "(scalers[1]-scalers[0])/2"
   ]
  },
  {
   "cell_type": "code",
   "execution_count": 23,
   "metadata": {},
   "outputs": [
    {
     "data": {
      "text/plain": [
       "array([[ -17.80140305,  -40.91900635, -144.16699219,    7.61032343,\n",
       "          -1.37646556,    0.69290829],\n",
       "       [ -17.89330292,  -40.98780441, -144.00994873,    7.82444239,\n",
       "          -1.59250402,    0.71967578],\n",
       "       [ -17.97760391,  -40.94020462, -144.0869751 ,    7.8113699 ,\n",
       "          -1.45642662,    0.75054955],\n",
       "       ...,\n",
       "       [  85.97699356,   12.77669907, -132.49700928,   57.81822205,\n",
       "         -66.83277512,  -10.09802437],\n",
       "       [  86.33600235,   12.4632988 , -132.61096191,   58.15073013,\n",
       "         -66.79174423,  -10.32817841],\n",
       "       [  86.94600296,   15.12189865, -132.27496338,   56.90663528,\n",
       "         -67.03548813,   -9.67357731]])"
      ]
     },
     "execution_count": 23,
     "metadata": {},
     "output_type": "execute_result"
    }
   ],
   "source": [
    "(l - scalers[0]) - ((scalers[1]-scalers[0])/2)"
   ]
  },
  {
   "cell_type": "code",
   "execution_count": null,
   "metadata": {},
   "outputs": [],
   "source": [
    "(l - scalers[0]) - ((scalers[1]-scalers[0])/2)[0]"
   ]
  },
  {
   "cell_type": "code",
   "execution_count": 25,
   "metadata": {},
   "outputs": [
    {
     "data": {
      "text/plain": [
       "array([[-0.11009043, -0.24473778, -0.53073992,  0.1103741 , -0.01913834,\n",
       "         0.01042028],\n",
       "       [-0.11065878, -0.24514926, -0.53016177,  0.11347951, -0.02214213,\n",
       "         0.01082283],\n",
       "       [-0.11118012, -0.24486456, -0.53044534,  0.11328992, -0.02025011,\n",
       "         0.01128712],\n",
       "       ...,\n",
       "       [ 0.5317134 ,  0.07641781, -0.48777776,  0.83854968, -0.92924093,\n",
       "        -0.15185888],\n",
       "       [ 0.53393364,  0.07454336, -0.48819726,  0.84337212, -0.92867044,\n",
       "        -0.15532004],\n",
       "       [ 0.53770611,  0.09044452, -0.48696031,  0.82532875, -0.93205945,\n",
       "        -0.14547584]])"
      ]
     },
     "execution_count": 25,
     "metadata": {},
     "output_type": "execute_result"
    }
   ],
   "source": [
    "((l - scalers[0]) - ((scalers[1]-scalers[0])/2)) / ((scalers[1]-scalers[0])/2)"
   ]
  },
  {
   "cell_type": "code",
   "execution_count": null,
   "metadata": {},
   "outputs": [],
   "source": []
  }
 ],
 "metadata": {
  "kernelspec": {
   "display_name": "Python 3",
   "language": "python",
   "name": "python3"
  },
  "language_info": {
   "codemirror_mode": {
    "name": "ipython",
    "version": 3
   },
   "file_extension": ".py",
   "mimetype": "text/x-python",
   "name": "python",
   "nbconvert_exporter": "python",
   "pygments_lexer": "ipython3",
   "version": "3.6.5"
  }
 },
 "nbformat": 4,
 "nbformat_minor": 2
}
