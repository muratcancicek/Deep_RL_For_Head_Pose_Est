{
 "cells": [
  {
   "cell_type": "code",
   "execution_count": 2,
   "metadata": {},
   "outputs": [
    {
     "name": "stderr",
     "output_type": "stream",
     "text": [
      "/home/mcicek/anaconda3/lib/python3.6/site-packages/h5py/__init__.py:36: FutureWarning: Conversion of the second argument of issubdtype from `float` to `np.floating` is deprecated. In future, it will be treated as `np.float64 == np.dtype(float).type`.\n",
      "  from ._conv import register_converters as _register_converters\n",
      "Using TensorFlow backend.\n"
     ]
    }
   ],
   "source": [
    "from keras.preprocessing.sequence import TimeseriesGenerator\n",
    "import numpy as np"
   ]
  },
  {
   "cell_type": "code",
   "execution_count": 11,
   "metadata": {},
   "outputs": [
    {
     "name": "stdout",
     "output_type": "stream",
     "text": [
      "56\n"
     ]
    }
   ],
   "source": [
    "print(len(data))"
   ]
  },
  {
   "cell_type": "code",
   "execution_count": 12,
   "metadata": {},
   "outputs": [
    {
     "name": "stdout",
     "output_type": "stream",
     "text": [
      "50\n"
     ]
    }
   ],
   "source": [
    "print(len(data[:-(len(data)%timesteps)]))"
   ]
  },
  {
   "cell_type": "code",
   "execution_count": 17,
   "metadata": {},
   "outputs": [
    {
     "data": {
      "text/plain": [
       "-6"
      ]
     },
     "execution_count": 17,
     "metadata": {},
     "output_type": "execute_result"
    }
   ],
   "source": [
    "-(len(data)%timesteps)"
   ]
  },
  {
   "cell_type": "code",
   "execution_count": 19,
   "metadata": {},
   "outputs": [
    {
     "data": {
      "text/plain": [
       "array([49])"
      ]
     },
     "execution_count": 19,
     "metadata": {},
     "output_type": "execute_result"
    }
   ],
   "source": [
    "data[:-(len(data)%timesteps)][-1]"
   ]
  },
  {
   "cell_type": "code",
   "execution_count": 43,
   "metadata": {},
   "outputs": [
    {
     "name": "stdout",
     "output_type": "stream",
     "text": [
      "6\n",
      "(60, 10, 1)\n"
     ]
    }
   ],
   "source": [
    "timesteps = 10\n",
    "data = np.array([[i] for i in range(57)][:-1]+([[0.]]*timesteps))\n",
    "labels = np.array(([[0.]]*timesteps)+[[i] for i in range(57)]+([[0.]]*timesteps))[1:]\n",
    "targets = [labels[i:i+timesteps] for i in range(0, len(labels)-timesteps+1, timesteps)][:-1]\n",
    "print(len(targets))#*timesteps\n",
    "targets = np.array([targets[int(i/timesteps)] for i in range(len(targets)*(timesteps))])\n",
    "print(targets.shape)\n",
    "data_gen = TimeseriesGenerator(data[:-(len(data)%timesteps)], targets,\n",
    "                                length=timesteps, sampling_rate=1, stride=timesteps,\n",
    "                                batch_size=5)\n",
    "batch_0 = data_gen[0]\n",
    "x, y = batch_0"
   ]
  },
  {
   "cell_type": "code",
   "execution_count": 68,
   "metadata": {},
   "outputs": [
    {
     "data": {
      "text/plain": [
       "(5, 6, 7)"
      ]
     },
     "execution_count": 68,
     "metadata": {},
     "output_type": "execute_result"
    }
   ],
   "source": [
    "(5, 6)+(7, )"
   ]
  },
  {
   "cell_type": "code",
   "execution_count": null,
   "metadata": {},
   "outputs": [],
   "source": [
    "img_gen = TimeseriesGenerator(inputMatrix, labels, length=timesteps, batch_size=batch_size)\n",
    "ang_gen = TimeseriesGenerator(labels, labels, length=timesteps, batch_size=batch_size)"
   ]
  },
  {
   "cell_type": "code",
   "execution_count": 37,
   "metadata": {},
   "outputs": [],
   "source": [
    "timesteps = 1\n",
    "inputMatrix = np.array([[i] for i in range(57)])\n",
    "labels = np.array([[i] for i in range(57)])\n",
    "data_gen = TimeseriesGenerator(inputMatrix[1:], labels[:-1], \n",
    "                                length=timesteps, sampling_rate=1, stride=timesteps,\n",
    "                                batch_size=5)\n",
    "batch_0 = data_gen[0]\n",
    "x, y = batch_0"
   ]
  },
  {
   "cell_type": "code",
   "execution_count": 38,
   "metadata": {},
   "outputs": [],
   "source": [
    "#data[:-(len(data)%timesteps)]"
   ]
  },
  {
   "cell_type": "code",
   "execution_count": 9,
   "metadata": {
    "scrolled": false
   },
   "outputs": [],
   "source": [
    "def getSequencesToSequences(inputMatrix, labels):\n",
    "    offset = labels.shape[0]%timesteps\n",
    "    if offset > 0: offset = timesteps - offset\n",
    "    npad = ((offset+1, timesteps), (0, 0), (0, 0), (0, 0))\n",
    "    inputMatrix = np.pad(inputMatrix[1:], pad_width=npad, mode='constant', constant_values=0)\n",
    "    npad = ((offset+1, timesteps), (0, 0))\n",
    "    inputLabels = np.pad(labels[:-1], pad_width=npad, mode='constant', constant_values=0)\n",
    "    npad = ((timesteps+offset+1, 0), (0, 0))\n",
    "    targets = np.pad(labels[1:], pad_width=npad, mode='constant', constant_values=0)\n",
    "    outputLabels = np.zeros(targets.shape[:1]+(timesteps,)+targets.shape[1:])\n",
    "    il = np.zeros_like(inputLabels)\n",
    "    for i in range(0, inputLabels.shape[0], timesteps):\n",
    "        il[i] = inputLabels[i]\n",
    "    inputLabels = il\n",
    "    for i in range(0, len(targets), timesteps):\n",
    "        outputLabels[i] = targets[i:i+timesteps] \n",
    "    return inputMatrix, inputLabels, outputLabels\n",
    "\n",
    "timesteps = 10\n",
    "inputMatrix = np.array([[[[i, i, i]]] for i in range(57)])\n",
    "labels = np.array([[i, i, i] for i in range(57)])\n",
    "\n",
    "inputMatrix, inputLabels, outputLabels = getSequencesToSequences(inputMatrix, labels)\n",
    "    \n",
    "img_gen = TimeseriesGenerator(inputMatrix, outputLabels, length=timesteps, sampling_rate=1, stride=timesteps, batch_size=6)\n",
    "ang_gen = TimeseriesGenerator(inputLabels, outputLabels, length=timesteps, sampling_rate=1, stride=timesteps, batch_size=6)\n",
    "batch_0 = img_gen[0]\n",
    "batch_0 = ang_gen[0]\n",
    "x, y = batch_0"
   ]
  },
  {
   "cell_type": "code",
   "execution_count": 10,
   "metadata": {
    "scrolled": true
   },
   "outputs": [
    {
     "data": {
      "text/plain": [
       "array([[[ 0.,  0.,  0.],\n",
       "        [ 0.,  0.,  0.],\n",
       "        [ 0.,  0.,  0.],\n",
       "        [ 0.,  0.,  0.],\n",
       "        [ 0.,  0.,  0.],\n",
       "        [ 0.,  0.,  0.],\n",
       "        [ 0.,  0.,  0.],\n",
       "        [ 0.,  0.,  0.],\n",
       "        [ 0.,  0.,  0.],\n",
       "        [ 0.,  0.,  0.]],\n",
       "\n",
       "       [[ 6.,  6.,  6.],\n",
       "        [ 0.,  0.,  0.],\n",
       "        [ 0.,  0.,  0.],\n",
       "        [ 0.,  0.,  0.],\n",
       "        [ 0.,  0.,  0.],\n",
       "        [ 0.,  0.,  0.],\n",
       "        [ 0.,  0.,  0.],\n",
       "        [ 0.,  0.,  0.],\n",
       "        [ 0.,  0.,  0.],\n",
       "        [ 0.,  0.,  0.]],\n",
       "\n",
       "       [[16., 16., 16.],\n",
       "        [ 0.,  0.,  0.],\n",
       "        [ 0.,  0.,  0.],\n",
       "        [ 0.,  0.,  0.],\n",
       "        [ 0.,  0.,  0.],\n",
       "        [ 0.,  0.,  0.],\n",
       "        [ 0.,  0.,  0.],\n",
       "        [ 0.,  0.,  0.],\n",
       "        [ 0.,  0.,  0.],\n",
       "        [ 0.,  0.,  0.]],\n",
       "\n",
       "       [[26., 26., 26.],\n",
       "        [ 0.,  0.,  0.],\n",
       "        [ 0.,  0.,  0.],\n",
       "        [ 0.,  0.,  0.],\n",
       "        [ 0.,  0.,  0.],\n",
       "        [ 0.,  0.,  0.],\n",
       "        [ 0.,  0.,  0.],\n",
       "        [ 0.,  0.,  0.],\n",
       "        [ 0.,  0.,  0.],\n",
       "        [ 0.,  0.,  0.]],\n",
       "\n",
       "       [[36., 36., 36.],\n",
       "        [ 0.,  0.,  0.],\n",
       "        [ 0.,  0.,  0.],\n",
       "        [ 0.,  0.,  0.],\n",
       "        [ 0.,  0.,  0.],\n",
       "        [ 0.,  0.,  0.],\n",
       "        [ 0.,  0.,  0.],\n",
       "        [ 0.,  0.,  0.],\n",
       "        [ 0.,  0.,  0.],\n",
       "        [ 0.,  0.,  0.]],\n",
       "\n",
       "       [[46., 46., 46.],\n",
       "        [ 0.,  0.,  0.],\n",
       "        [ 0.,  0.,  0.],\n",
       "        [ 0.,  0.,  0.],\n",
       "        [ 0.,  0.,  0.],\n",
       "        [ 0.,  0.,  0.],\n",
       "        [ 0.,  0.,  0.],\n",
       "        [ 0.,  0.,  0.],\n",
       "        [ 0.,  0.,  0.],\n",
       "        [ 0.,  0.,  0.]]])"
      ]
     },
     "execution_count": 10,
     "metadata": {},
     "output_type": "execute_result"
    }
   ],
   "source": [
    "x"
   ]
  },
  {
   "cell_type": "code",
   "execution_count": 102,
   "metadata": {
    "scrolled": true
   },
   "outputs": [
    {
     "data": {
      "text/plain": [
       "array([[[ 0.,  0.,  0.],\n",
       "        [ 0.,  0.,  0.],\n",
       "        [ 0.,  0.,  0.],\n",
       "        [ 0.,  0.,  0.],\n",
       "        [ 1.,  1.,  1.],\n",
       "        [ 2.,  2.,  2.],\n",
       "        [ 3.,  3.,  3.],\n",
       "        [ 4.,  4.,  4.],\n",
       "        [ 5.,  5.,  5.],\n",
       "        [ 6.,  6.,  6.]],\n",
       "\n",
       "       [[ 7.,  7.,  7.],\n",
       "        [ 8.,  8.,  8.],\n",
       "        [ 9.,  9.,  9.],\n",
       "        [10., 10., 10.],\n",
       "        [11., 11., 11.],\n",
       "        [12., 12., 12.],\n",
       "        [13., 13., 13.],\n",
       "        [14., 14., 14.],\n",
       "        [15., 15., 15.],\n",
       "        [16., 16., 16.]],\n",
       "\n",
       "       [[17., 17., 17.],\n",
       "        [18., 18., 18.],\n",
       "        [19., 19., 19.],\n",
       "        [20., 20., 20.],\n",
       "        [21., 21., 21.],\n",
       "        [22., 22., 22.],\n",
       "        [23., 23., 23.],\n",
       "        [24., 24., 24.],\n",
       "        [25., 25., 25.],\n",
       "        [26., 26., 26.]],\n",
       "\n",
       "       [[27., 27., 27.],\n",
       "        [28., 28., 28.],\n",
       "        [29., 29., 29.],\n",
       "        [30., 30., 30.],\n",
       "        [31., 31., 31.],\n",
       "        [32., 32., 32.],\n",
       "        [33., 33., 33.],\n",
       "        [34., 34., 34.],\n",
       "        [35., 35., 35.],\n",
       "        [36., 36., 36.]],\n",
       "\n",
       "       [[37., 37., 37.],\n",
       "        [38., 38., 38.],\n",
       "        [39., 39., 39.],\n",
       "        [40., 40., 40.],\n",
       "        [41., 41., 41.],\n",
       "        [42., 42., 42.],\n",
       "        [43., 43., 43.],\n",
       "        [44., 44., 44.],\n",
       "        [45., 45., 45.],\n",
       "        [46., 46., 46.]],\n",
       "\n",
       "       [[47., 47., 47.],\n",
       "        [48., 48., 48.],\n",
       "        [49., 49., 49.],\n",
       "        [50., 50., 50.],\n",
       "        [51., 51., 51.],\n",
       "        [52., 52., 52.],\n",
       "        [53., 53., 53.],\n",
       "        [54., 54., 54.],\n",
       "        [55., 55., 55.],\n",
       "        [56., 56., 56.]]])"
      ]
     },
     "execution_count": 102,
     "metadata": {},
     "output_type": "execute_result"
    }
   ],
   "source": [
    "y"
   ]
  },
  {
   "cell_type": "code",
   "execution_count": null,
   "metadata": {},
   "outputs": [],
   "source": []
  }
 ],
 "metadata": {
  "kernelspec": {
   "display_name": "Python 3",
   "language": "python",
   "name": "python3"
  },
  "language_info": {
   "codemirror_mode": {
    "name": "ipython",
    "version": 3
   },
   "file_extension": ".py",
   "mimetype": "text/x-python",
   "name": "python",
   "nbconvert_exporter": "python",
   "pygments_lexer": "ipython3",
   "version": "3.6.5"
  }
 },
 "nbformat": 4,
 "nbformat_minor": 2
}
