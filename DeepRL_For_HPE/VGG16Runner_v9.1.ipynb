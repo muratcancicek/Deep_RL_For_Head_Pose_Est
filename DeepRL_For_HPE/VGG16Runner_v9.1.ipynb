{
 "cells": [
  {
   "cell_type": "code",
   "execution_count": 1,
   "metadata": {
    "collapsed": true
   },
   "outputs": [
    {
     "name": "stderr",
     "output_type": "stream",
     "text": [
      "/home/mcicek/anaconda3/lib/python3.6/site-packages/h5py/__init__.py:36: FutureWarning: Conversion of the second argument of issubdtype from `float` to `np.floating` is deprecated. In future, it will be treated as `np.float64 == np.dtype(float).type`.\n",
      "  from ._conv import register_converters as _register_converters\n",
      "Using TensorFlow backend.\n"
     ]
    }
   ],
   "source": [
    "from DatasetHandler.BiwiBrowser import *\n",
    "from LSTM_VGG16.LSTM_VGG16Helper import *\n",
    "%matplotlib inline"
   ]
  },
  {
   "cell_type": "code",
   "execution_count": 2,
   "metadata": {},
   "outputs": [],
   "source": [
    "output_begin = 4\n",
    "num_outputs = 1"
   ]
  },
  {
   "cell_type": "code",
   "execution_count": 14,
   "metadata": {},
   "outputs": [],
   "source": [
    "timesteps = 16 # TimeseriesGenerator Handles overlapping\n",
    "learning_rate = 0.0001\n",
    "in_epochs = 1\n",
    "out_epochs = 7\n",
    "train_batch_size = 10\n",
    "test_batch_size = 10"
   ]
  },
  {
   "cell_type": "code",
   "execution_count": 15,
   "metadata": {},
   "outputs": [],
   "source": [
    "subjectList = [1, 2, 3, 4, 5, 7, 8, 11, 12, 14] #9[i for i in range(1, 9)] + [i for i in range(10, 25)] except [6, 13, 10, ]\n",
    "testSubjects = [9]"
   ]
  },
  {
   "cell_type": "code",
   "execution_count": 16,
   "metadata": {},
   "outputs": [],
   "source": [
    "num_datasets = len(subjectList)"
   ]
  },
  {
   "cell_type": "code",
   "execution_count": 17,
   "metadata": {},
   "outputs": [],
   "source": [
    "def getFinalModel(num_outputs = num_outputs):\n",
    "    inp = (224, 224, 3) # BIWI_Frame_Shape\n",
    "    vgg_model = VGG16(weights='imagenet', input_shape = inp, include_top=False) #BIWI_Frame_Shape\n",
    "    \"\"\"\"\n",
    "    vgg_model.layers.pop()\n",
    "    vgg_model.outputs = [vgg_model.layers[-1].output]#\n",
    "    vgg_model.output_layers = [vgg_model.layers[-1]]#\n",
    "    vgg_model.layers[-1].outbound_nodes = []#\n",
    "    \"\"\"\n",
    "    nb_pretrained_layers = len(vgg_model.layers)\n",
    "     #for layer in vgg_model.layers:\n",
    "     #   layer.trainable = False\n",
    "    #print(nb_pretrained_layers)\n",
    "    #vgg_model.summary()\n",
    "    rnn = Sequential()\n",
    "    rnn.add(TimeDistributed(vgg_model, input_shape=(timesteps, inp[0], inp[1], inp[2]), name = 'tdVGG16')) \n",
    "    rnn.add(TimeDistributed(Flatten()))\n",
    "    \n",
    "    \"\"\"\n",
    "    rnn.add(TimeDistributed(Dropout(0.25)))#\n",
    "    rnn.add(TimeDistributed(Dense(4096, activation='relu'), name = 'fc1024'))#, activation='relu'\n",
    "    rnn.add(TimeDistributed(Dropout(0.25)))#\n",
    "    rnn.add(TimeDistributed(Dense(4096, activation='relu'), name = 'fc104'))   # \n",
    "    rnn.add(TimeDistributed(Dropout(0.25)))#\n",
    "    rnn.add(TimeDistributed(Dense(1024, activation='relu'), name = 'fc10'))#\n",
    "    rnn.add(TimeDistributed(Dropout(0.25)))\n",
    "    \"\"\"\n",
    "\n",
    "    rnn.add(LSTM(256, dropout=0.25, recurrent_dropout=0.25)) #\n",
    "   # rnn.add(Flatten())\n",
    "    rnn.add(Dense(num_outputs))\n",
    "    #print(len(rnn.layers))\n",
    "    for layer in rnn.layers[:1]:#\n",
    "        layer.trainable = False#\n",
    "    adam = optimizers.Adam(lr=learning_rate)\n",
    "    rnn.compile(optimizer=adam, loss='mean_squared_error', metrics=['mae'])\n",
    "    return rnn"
   ]
  },
  {
   "cell_type": "code",
   "execution_count": 18,
   "metadata": {},
   "outputs": [],
   "source": [
    "keras.backend.clear_session()#\n",
    "full_model = getFinalModel(num_outputs = num_outputs)"
   ]
  },
  {
   "cell_type": "code",
   "execution_count": 19,
   "metadata": {},
   "outputs": [
    {
     "name": "stdout",
     "output_type": "stream",
     "text": [
      "_________________________________________________________________\n",
      "Layer (type)                 Output Shape              Param #   \n",
      "=================================================================\n",
      "tdVGG16 (TimeDistributed)    (None, 16, 7, 7, 512)     14714688  \n",
      "_________________________________________________________________\n",
      "time_distributed_1 (TimeDist (None, 16, 25088)         0         \n",
      "_________________________________________________________________\n",
      "lstm_1 (LSTM)                (None, 256)               25953280  \n",
      "_________________________________________________________________\n",
      "dense_1 (Dense)              (None, 1)                 257       \n",
      "=================================================================\n",
      "Total params: 40,668,225\n",
      "Trainable params: 25,953,537\n",
      "Non-trainable params: 14,714,688\n",
      "_________________________________________________________________\n"
     ]
    }
   ],
   "source": [
    "full_model.summary()"
   ]
  },
  {
   "cell_type": "code",
   "execution_count": 29,
   "metadata": {
    "scrolled": false
   },
   "outputs": [
    {
     "name": "stdout",
     "output_type": "stream",
     "text": [
      "All frames and annotations from 10 datasets have been read by 2019-01-12 23:28:08.528501\n",
      "1. set (Dataset 14) being trained for epoch 1!\n",
      "Epoch 1/1\n",
      "79/79 [==============================] - 54s 682ms/step - loss: 0.0091 - mean_absolute_error: 0.0756\n",
      "2. set (Dataset 8) being trained for epoch 1!\n",
      "Epoch 1/1\n",
      "76/76 [==============================] - 54s 706ms/step - loss: 0.0102 - mean_absolute_error: 0.0803\n",
      "3. set (Dataset 7) being trained for epoch 1!\n",
      "Epoch 1/1\n",
      "73/73 [==============================] - 52s 713ms/step - loss: 0.0095 - mean_absolute_error: 0.0773\n",
      "4. set (Dataset 12) being trained for epoch 1!\n",
      "Epoch 1/1\n",
      "72/72 [==============================] - 51s 713ms/step - loss: 0.0082 - mean_absolute_error: 0.0742\n",
      "5. set (Dataset 11) being trained for epoch 1!\n",
      "Epoch 1/1\n",
      "56/56 [==============================] - 40s 713ms/step - loss: 0.0061 - mean_absolute_error: 0.0625\n",
      "6. set (Dataset 3) being trained for epoch 1!\n",
      "Epoch 1/1\n",
      "72/72 [==============================] - 51s 712ms/step - loss: 0.0106 - mean_absolute_error: 0.0838\n",
      "7. set (Dataset 2) being trained for epoch 1!\n",
      "Epoch 1/1\n",
      "50/50 [==============================] - 36s 712ms/step - loss: 0.0082 - mean_absolute_error: 0.0722\n",
      "8. set (Dataset 5) being trained for epoch 1!\n",
      "Epoch 1/1\n",
      "93/93 [==============================] - 67s 718ms/step - loss: 0.0067 - mean_absolute_error: 0.0657\n",
      "9. set (Dataset 4) being trained for epoch 1!\n",
      "Epoch 1/1\n",
      "73/73 [==============================] - 52s 717ms/step - loss: 0.0064 - mean_absolute_error: 0.0559\n",
      "10. set (Dataset 1) being trained for epoch 1!\n",
      "Epoch 1/1\n",
      "49/49 [==============================] - 35s 707ms/step - loss: 0.0131 - mean_absolute_error: 0.0907\n",
      "Epoch 1 completed!\n",
      "All frames and annotations from 10 datasets have been read by 2019-01-12 23:37:34.707009\n",
      "1. set (Dataset 4) being trained for epoch 2!\n",
      "Epoch 1/1\n",
      "73/73 [==============================] - 52s 715ms/step - loss: 0.0064 - mean_absolute_error: 0.0600\n",
      "2. set (Dataset 7) being trained for epoch 2!\n",
      "Epoch 1/1\n",
      "73/73 [==============================] - 52s 718ms/step - loss: 0.0131 - mean_absolute_error: 0.0925\n",
      "3. set (Dataset 14) being trained for epoch 2!\n",
      "Epoch 1/1\n",
      "79/79 [==============================] - 56s 711ms/step - loss: 0.0123 - mean_absolute_error: 0.0872\n",
      "4. set (Dataset 5) being trained for epoch 2!\n",
      "Epoch 1/1\n",
      "93/93 [==============================] - 67s 719ms/step - loss: 0.0074 - mean_absolute_error: 0.0681\n",
      "5. set (Dataset 2) being trained for epoch 2!\n",
      "Epoch 1/1\n",
      "50/50 [==============================] - 36s 712ms/step - loss: 0.0109 - mean_absolute_error: 0.0825\n",
      "6. set (Dataset 1) being trained for epoch 2!\n",
      "Epoch 1/1\n",
      "49/49 [==============================] - 35s 706ms/step - loss: 0.0191 - mean_absolute_error: 0.1125\n",
      "7. set (Dataset 3) being trained for epoch 2!\n",
      "Epoch 1/1\n",
      "72/72 [==============================] - 51s 713ms/step - loss: 0.0118 - mean_absolute_error: 0.0857\n",
      "8. set (Dataset 8) being trained for epoch 2!\n",
      "Epoch 1/1\n",
      "76/76 [==============================] - 54s 714ms/step - loss: 0.0102 - mean_absolute_error: 0.0783\n",
      "9. set (Dataset 11) being trained for epoch 2!\n",
      "Epoch 1/1\n",
      "56/56 [==============================] - 40s 714ms/step - loss: 0.0059 - mean_absolute_error: 0.0618\n",
      "10. set (Dataset 12) being trained for epoch 2!\n",
      "Epoch 1/1\n",
      "72/72 [==============================] - 52s 716ms/step - loss: 0.0069 - mean_absolute_error: 0.0673\n",
      "Epoch 2 completed!\n",
      "All frames and annotations from 10 datasets have been read by 2019-01-12 23:47:04.186957\n",
      "1. set (Dataset 11) being trained for epoch 3!\n",
      "Epoch 1/1\n",
      "56/56 [==============================] - 40s 710ms/step - loss: 0.0061 - mean_absolute_error: 0.0588\n",
      "2. set (Dataset 14) being trained for epoch 3!\n",
      "Epoch 1/1\n",
      "79/79 [==============================] - 56s 712ms/step - loss: 0.0105 - mean_absolute_error: 0.0815\n",
      "3. set (Dataset 4) being trained for epoch 3!\n",
      "Epoch 1/1\n",
      "73/73 [==============================] - 52s 717ms/step - loss: 0.0062 - mean_absolute_error: 0.0547\n",
      "4. set (Dataset 8) being trained for epoch 3!\n",
      "Epoch 1/1\n",
      "76/76 [==============================] - 54s 716ms/step - loss: 0.0131 - mean_absolute_error: 0.0913\n",
      "5. set (Dataset 3) being trained for epoch 3!\n",
      "Epoch 1/1\n",
      "72/72 [==============================] - 51s 713ms/step - loss: 0.0082 - mean_absolute_error: 0.0689\n",
      "6. set (Dataset 12) being trained for epoch 3!\n",
      "Epoch 1/1\n",
      "72/72 [==============================] - 52s 715ms/step - loss: 0.0061 - mean_absolute_error: 0.0631\n",
      "7. set (Dataset 1) being trained for epoch 3!\n",
      "Epoch 1/1\n",
      "49/49 [==============================] - 35s 708ms/step - loss: 0.0110 - mean_absolute_error: 0.0865\n",
      "8. set (Dataset 7) being trained for epoch 3!\n",
      "Epoch 1/1\n",
      "73/73 [==============================] - 52s 718ms/step - loss: 0.0153 - mean_absolute_error: 0.1042\n",
      "9. set (Dataset 2) being trained for epoch 3!\n",
      "Epoch 1/1\n",
      "50/50 [==============================] - 36s 712ms/step - loss: 0.0071 - mean_absolute_error: 0.0657\n",
      "10. set (Dataset 5) being trained for epoch 3!\n",
      "Epoch 1/1\n",
      "93/93 [==============================] - 67s 719ms/step - loss: 0.0078 - mean_absolute_error: 0.0718\n",
      "Epoch 3 completed!\n",
      "All frames and annotations from 10 datasets have been read by 2019-01-12 23:56:33.886164\n",
      "1. set (Dataset 2) being trained for epoch 4!\n",
      "Epoch 1/1\n",
      "50/50 [==============================] - 35s 708ms/step - loss: 0.0065 - mean_absolute_error: 0.0653\n",
      "2. set (Dataset 4) being trained for epoch 4!\n",
      "Epoch 1/1\n",
      "73/73 [==============================] - 52s 718ms/step - loss: 0.0103 - mean_absolute_error: 0.0748\n",
      "3. set (Dataset 11) being trained for epoch 4!\n",
      "Epoch 1/1\n",
      "56/56 [==============================] - 40s 714ms/step - loss: 0.0046 - mean_absolute_error: 0.0545\n",
      "4. set (Dataset 7) being trained for epoch 4!\n",
      "Epoch 1/1\n",
      "73/73 [==============================] - 52s 718ms/step - loss: 0.0141 - mean_absolute_error: 0.0956\n",
      "5. set (Dataset 1) being trained for epoch 4!\n",
      "Epoch 1/1\n",
      "49/49 [==============================] - 35s 709ms/step - loss: 0.0116 - mean_absolute_error: 0.0859\n",
      "6. set (Dataset 5) being trained for epoch 4!\n",
      "Epoch 1/1\n",
      "93/93 [==============================] - 67s 720ms/step - loss: 0.0062 - mean_absolute_error: 0.0617\n",
      "7. set (Dataset 12) being trained for epoch 4!\n",
      "Epoch 1/1\n",
      "72/72 [==============================] - 52s 715ms/step - loss: 0.0071 - mean_absolute_error: 0.0652\n",
      "8. set (Dataset 14) being trained for epoch 4!\n",
      "Epoch 1/1\n",
      "79/79 [==============================] - 56s 711ms/step - loss: 0.0152 - mean_absolute_error: 0.0983\n",
      "9. set (Dataset 3) being trained for epoch 4!\n",
      "Epoch 1/1\n",
      "72/72 [==============================] - 51s 713ms/step - loss: 0.0087 - mean_absolute_error: 0.0724\n",
      "10. set (Dataset 8) being trained for epoch 4!\n",
      "Epoch 1/1\n",
      "76/76 [==============================] - 54s 715ms/step - loss: 0.0089 - mean_absolute_error: 0.0775\n",
      "Epoch 4 completed!\n",
      "All frames and annotations from 10 datasets have been read by 2019-01-13 00:06:03.852895\n",
      "1. set (Dataset 3) being trained for epoch 5!\n",
      "Epoch 1/1\n",
      "72/72 [==============================] - 51s 712ms/step - loss: 0.0082 - mean_absolute_error: 0.0710\n",
      "2. set (Dataset 11) being trained for epoch 5!\n",
      "Epoch 1/1\n",
      "56/56 [==============================] - 40s 716ms/step - loss: 0.0049 - mean_absolute_error: 0.0554\n",
      "3. set (Dataset 2) being trained for epoch 5!\n",
      "Epoch 1/1\n",
      "50/50 [==============================] - 36s 712ms/step - loss: 0.0090 - mean_absolute_error: 0.0781\n",
      "4. set (Dataset 14) being trained for epoch 5!\n",
      "Epoch 1/1\n",
      "79/79 [==============================] - 56s 711ms/step - loss: 0.0141 - mean_absolute_error: 0.0945\n",
      "5. set (Dataset 12) being trained for epoch 5!\n",
      "Epoch 1/1\n",
      "72/72 [==============================] - 52s 716ms/step - loss: 0.0084 - mean_absolute_error: 0.0709\n",
      "6. set (Dataset 8) being trained for epoch 5!\n",
      "Epoch 1/1\n",
      "76/76 [==============================] - 54s 717ms/step - loss: 0.0105 - mean_absolute_error: 0.0831\n",
      "7. set (Dataset 5) being trained for epoch 5!\n",
      "Epoch 1/1\n",
      "93/93 [==============================] - 67s 719ms/step - loss: 0.0049 - mean_absolute_error: 0.0564\n",
      "8. set (Dataset 4) being trained for epoch 5!\n",
      "Epoch 1/1\n",
      "73/73 [==============================] - 52s 717ms/step - loss: 0.0058 - mean_absolute_error: 0.0582\n",
      "9. set (Dataset 1) being trained for epoch 5!\n",
      "Epoch 1/1\n"
     ]
    },
    {
     "name": "stdout",
     "output_type": "stream",
     "text": [
      "49/49 [==============================] - 35s 709ms/step - loss: 0.0116 - mean_absolute_error: 0.0889\n",
      "10. set (Dataset 7) being trained for epoch 5!\n",
      "Epoch 1/1\n",
      "73/73 [==============================] - 52s 718ms/step - loss: 0.0144 - mean_absolute_error: 0.1011\n",
      "Epoch 5 completed!\n",
      "All frames and annotations from 10 datasets have been read by 2019-01-13 00:15:33.983343\n",
      "1. set (Dataset 1) being trained for epoch 6!\n",
      "Epoch 1/1\n",
      "49/49 [==============================] - 34s 703ms/step - loss: 0.0100 - mean_absolute_error: 0.0798\n",
      "2. set (Dataset 2) being trained for epoch 6!\n",
      "Epoch 1/1\n",
      "50/50 [==============================] - 36s 711ms/step - loss: 0.0089 - mean_absolute_error: 0.0754\n",
      "3. set (Dataset 3) being trained for epoch 6!\n",
      "Epoch 1/1\n",
      "72/72 [==============================] - 51s 713ms/step - loss: 0.0136 - mean_absolute_error: 0.0929\n",
      "4. set (Dataset 4) being trained for epoch 6!\n",
      "Epoch 1/1\n",
      "73/73 [==============================] - 52s 718ms/step - loss: 0.0056 - mean_absolute_error: 0.0553\n",
      "5. set (Dataset 5) being trained for epoch 6!\n",
      "Epoch 1/1\n",
      "93/93 [==============================] - 67s 720ms/step - loss: 0.0076 - mean_absolute_error: 0.0689\n",
      "6. set (Dataset 7) being trained for epoch 6!\n",
      "Epoch 1/1\n",
      "73/73 [==============================] - 52s 718ms/step - loss: 0.0080 - mean_absolute_error: 0.0742\n",
      "7. set (Dataset 8) being trained for epoch 6!\n",
      "Epoch 1/1\n",
      "76/76 [==============================] - 54s 715ms/step - loss: 0.0134 - mean_absolute_error: 0.0933\n",
      "8. set (Dataset 11) being trained for epoch 6!\n",
      "Epoch 1/1\n",
      "56/56 [==============================] - 40s 714ms/step - loss: 0.0080 - mean_absolute_error: 0.0732\n",
      "9. set (Dataset 12) being trained for epoch 6!\n",
      "Epoch 1/1\n",
      "72/72 [==============================] - 51s 715ms/step - loss: 0.0071 - mean_absolute_error: 0.0695\n",
      "10. set (Dataset 14) being trained for epoch 6!\n",
      "Epoch 1/1\n",
      "79/79 [==============================] - 56s 711ms/step - loss: 0.0129 - mean_absolute_error: 0.0893\n",
      "Epoch 6 completed!\n",
      "All frames and annotations from 10 datasets have been read by 2019-01-13 00:25:03.630619\n",
      "1. set (Dataset 12) being trained for epoch 7!\n",
      "Epoch 1/1\n",
      "72/72 [==============================] - 51s 712ms/step - loss: 0.0066 - mean_absolute_error: 0.0639\n",
      "2. set (Dataset 3) being trained for epoch 7!\n",
      "Epoch 1/1\n",
      "72/72 [==============================] - 51s 714ms/step - loss: 0.0110 - mean_absolute_error: 0.0835\n",
      "3. set (Dataset 1) being trained for epoch 7!\n",
      "Epoch 1/1\n",
      "49/49 [==============================] - 35s 709ms/step - loss: 0.0205 - mean_absolute_error: 0.1194\n",
      "4. set (Dataset 11) being trained for epoch 7!\n",
      "Epoch 1/1\n",
      "56/56 [==============================] - 40s 713ms/step - loss: 0.0067 - mean_absolute_error: 0.0649\n",
      "5. set (Dataset 8) being trained for epoch 7!\n",
      "Epoch 1/1\n",
      "76/76 [==============================] - 54s 715ms/step - loss: 0.0128 - mean_absolute_error: 0.0906\n",
      "6. set (Dataset 14) being trained for epoch 7!\n",
      "Epoch 1/1\n",
      "79/79 [==============================] - 56s 711ms/step - loss: 0.0108 - mean_absolute_error: 0.0803\n",
      "7. set (Dataset 7) being trained for epoch 7!\n",
      "Epoch 1/1\n",
      "73/73 [==============================] - 52s 717ms/step - loss: 0.0072 - mean_absolute_error: 0.0651\n",
      "8. set (Dataset 2) being trained for epoch 7!\n",
      "Epoch 1/1\n",
      "50/50 [==============================] - 36s 712ms/step - loss: 0.0113 - mean_absolute_error: 0.0832\n",
      "9. set (Dataset 5) being trained for epoch 7!\n",
      "Epoch 1/1\n",
      "93/93 [==============================] - 67s 718ms/step - loss: 0.0064 - mean_absolute_error: 0.0624\n",
      "10. set (Dataset 4) being trained for epoch 7!\n",
      "Epoch 1/1\n",
      "73/73 [==============================] - 52s 717ms/step - loss: 0.0077 - mean_absolute_error: 0.0694\n",
      "Epoch 7 completed!\n"
     ]
    }
   ],
   "source": [
    "full_model = trainImageModelForEpochs(full_model, out_epochs, subjectList, testSubjects, timesteps, False, output_begin, num_outputs, batch_size = train_batch_size, in_epochs = in_epochs)"
   ]
  },
  {
   "cell_type": "code",
   "execution_count": 30,
   "metadata": {},
   "outputs": [
    {
     "name": "stdout",
     "output_type": "stream",
     "text": [
      "All frames and annotations from 1 datasets have been read by 2019-01-13 00:34:30.187167\n"
     ]
    }
   ],
   "source": [
    "test_generators, test_labelSets = getTestBiwiForImageModel(testSubjects, timesteps, False, output_begin, num_outputs, batch_size = test_batch_size)\n",
    "test_gen, test_labels = test_generators[0], test_labelSets[0] #[1]"
   ]
  },
  {
   "cell_type": "code",
   "execution_count": 31,
   "metadata": {},
   "outputs": [
    {
     "name": "stdout",
     "output_type": "stream",
     "text": [
      "87/87 [==============================] - 57s 659ms/step\n"
     ]
    }
   ],
   "source": [
    "predictions = full_model.predict_generator(test_gen, verbose = 1)\n",
    "#predictions = full_model.predict(test_gen[0][0], verbose = 1)\n",
    "output1 = numpy.concatenate((test_labels[timesteps:, :1], predictions[:, :1]), axis=1)"
   ]
  },
  {
   "cell_type": "code",
   "execution_count": 32,
   "metadata": {},
   "outputs": [
    {
     "data": {
      "text/plain": [
       "[<matplotlib.lines.Line2D at 0x7fc44c216a90>,\n",
       " <matplotlib.lines.Line2D at 0x7fc44c216be0>]"
      ]
     },
     "execution_count": 32,
     "metadata": {},
     "output_type": "execute_result"
    },
    {
     "data": {
      "image/png": "[encoded data removed]",
      "text/plain": [
       "<Figure size 1224x360 with 1 Axes>"
      ]
     },
     "metadata": {},
     "output_type": "display_data"
    }
   ],
   "source": [
    "plt.figure(figsize=(17,5))\n",
    "plt.plot(output1*90)"
   ]
  },
  {
   "cell_type": "code",
   "execution_count": 33,
   "metadata": {},
   "outputs": [
    {
     "name": "stdout",
     "output_type": "stream",
     "text": [
      "The average error on Yaw angle estimation: 11.11 Degree\n"
     ]
    }
   ],
   "source": [
    "dif = (test_labels[timesteps:, :1] - predictions[:, :1])*90\n",
    "print(\"The average error on Yaw angle estimation: %.2f Degree\" % (np.abs(dif).mean()))"
   ]
  },
  {
   "cell_type": "code",
   "execution_count": null,
   "metadata": {},
   "outputs": [],
   "source": []
  },
  {
   "cell_type": "code",
   "execution_count": 21,
   "metadata": {},
   "outputs": [
    {
     "name": "stdout",
     "output_type": "stream",
     "text": [
      "The average error on Yaw angle estimation: 6.41 Degree\n"
     ]
    }
   ],
   "source": [
    "dif = (test_labels[timesteps:, :1] - predictions[:, :1])*90\n",
    "print(\"The average error on Yaw angle estimation: %.2f Degree\" % (np.abs(dif).mean()))"
   ]
  },
  {
   "cell_type": "code",
   "execution_count": null,
   "metadata": {},
   "outputs": [],
   "source": []
  },
  {
   "cell_type": "code",
   "execution_count": 13,
   "metadata": {},
   "outputs": [
    {
     "name": "stdout",
     "output_type": "stream",
     "text": [
      "The average error on Yaw angle estimation: 8.28 Degree\n"
     ]
    }
   ],
   "source": [
    "dif = (test_labels[timesteps:, :1] - predictions[:, :1])*90\n",
    "print(\"The average error on Yaw angle estimation: %.2f Degree\" % (np.abs(dif).mean()))"
   ]
  },
  {
   "cell_type": "code",
   "execution_count": null,
   "metadata": {},
   "outputs": [],
   "source": []
  },
  {
   "cell_type": "code",
   "execution_count": null,
   "metadata": {},
   "outputs": [],
   "source": [
    "full_model.evaluate_generator(test_gen)"
   ]
  },
  {
   "cell_type": "code",
   "execution_count": null,
   "metadata": {},
   "outputs": [],
   "source": [
    "exit()"
   ]
  }
 ],
 "metadata": {
  "kernelspec": {
   "display_name": "Python 3",
   "language": "python",
   "name": "python3"
  },
  "language_info": {
   "codemirror_mode": {
    "name": "ipython",
    "version": 3
   },
   "file_extension": ".py",
   "mimetype": "text/x-python",
   "name": "python",
   "nbconvert_exporter": "python",
   "pygments_lexer": "ipython3",
   "version": "3.6.5"
  }
 },
 "nbformat": 4,
 "nbformat_minor": 2
}
