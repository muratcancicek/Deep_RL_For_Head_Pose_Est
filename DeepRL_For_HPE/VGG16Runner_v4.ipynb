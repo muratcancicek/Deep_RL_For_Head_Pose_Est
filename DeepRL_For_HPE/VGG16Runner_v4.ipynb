{
 "cells": [
  {
   "cell_type": "code",
   "execution_count": 1,
   "metadata": {},
   "outputs": [
    {
     "name": "stderr",
     "output_type": "stream",
     "text": [
      "/home/mcicek/anaconda3/lib/python3.6/site-packages/h5py/__init__.py:36: FutureWarning: Conversion of the second argument of issubdtype from `float` to `np.floating` is deprecated. In future, it will be treated as `np.float64 == np.dtype(float).type`.\n",
      "  from ._conv import register_converters as _register_converters\n",
      "Using TensorFlow backend.\n"
     ]
    }
   ],
   "source": [
    "from DatasetHandler.BiwiBrowser import *\n",
    "import keras\n",
    "import numpy as np\n",
    "%matplotlib inline\n",
    "#from keras import Model \n",
    "from keras.layers import *\n",
    "import matplotlib.pyplot as plt\n",
    "from keras.optimizers import SGD\n",
    "from keras.models import Sequential\n",
    "from keras.constraints import maxnorm\n",
    "from keras.applications.vgg16 import VGG16\n",
    "from sklearn.preprocessing import MinMaxScaler\n",
    "from keras.preprocessing.image import load_img\n",
    "from keras.preprocessing.image import img_to_array\n",
    "from keras.layers.convolutional import MaxPooling2D\n",
    "from keras.layers.convolutional import Convolution2D\n",
    "from keras.applications.vgg16 import preprocess_input\n",
    "from keras.applications.vgg16 import decode_predictions\n",
    "from keras.preprocessing.sequence import TimeseriesGenerator"
   ]
  },
  {
   "cell_type": "code",
   "execution_count": 34,
   "metadata": {},
   "outputs": [],
   "source": [
    "num_datasets = 24"
   ]
  },
  {
   "cell_type": "code",
   "execution_count": 35,
   "metadata": {},
   "outputs": [],
   "source": [
    "num_outputs = 1"
   ]
  },
  {
   "cell_type": "code",
   "execution_count": 41,
   "metadata": {},
   "outputs": [],
   "source": [
    "timesteps = 16\n",
    "overlapping = True"
   ]
  },
  {
   "cell_type": "code",
   "execution_count": 42,
   "metadata": {},
   "outputs": [],
   "source": [
    "#keras.backend.clear_session()\n",
    "def getFinalModel(num_outputs = num_outputs):\n",
    "    dense_layer_1 = 1#int((patch_size[0] * patch_size[1]) / 1)0010#00000\n",
    "    dense_layer_2 = 8\n",
    "    inp = BIWI_Frame_Shape\n",
    "    vgg_model = VGG16(weights='imagenet', include_top=False, input_shape = BIWI_Frame_Shape)\n",
    "    rnn = Sequential()\n",
    "    rnn.add(TimeDistributed(vgg_model, input_shape=(timesteps, inp[0], inp[1], inp[2])))#batch_size = timesteps, \n",
    "    \n",
    "    rnn.add(TimeDistributed(Flatten()))\n",
    "    rnn.add(LSTM(16, dropout=0.2, recurrent_dropout=0.2)) # , activation='relu', stateful=True\n",
    "#    rnn.add(TimeDistributed(Dropout(0.2)))\n",
    "    rnn.add(Dense(num_outputs))\n",
    "\n",
    "    for layer in rnn.layers[:15]:\n",
    "        layer.trainable = False\n",
    "    rnn.compile(optimizer='adam', loss='mean_squared_error', metrics=['mae'])\n",
    "    return rnn"
   ]
  },
  {
   "cell_type": "code",
   "execution_count": 43,
   "metadata": {},
   "outputs": [],
   "source": [
    "full_model = getFinalModel(num_outputs = num_outputs)"
   ]
  },
  {
   "cell_type": "code",
   "execution_count": 44,
   "metadata": {},
   "outputs": [
    {
     "name": "stdout",
     "output_type": "stream",
     "text": [
      "All frames and annotations from 24 datasets have been read by 2018-12-25 21:16:12.197884\n"
     ]
    }
   ],
   "source": [
    "biwi = readBIWIDataset(subjectList = [s for s in range(1, num_datasets+1)])#, timesteps = timesteps, overlapping = overlapping"
   ]
  },
  {
   "cell_type": "code",
   "execution_count": 45,
   "metadata": {},
   "outputs": [
    {
     "name": "stdout",
     "output_type": "stream",
     "text": [
      "Epoch 1/1\n",
      "241/241 [==============================] - 217s 902ms/step - loss: 0.5546 - mean_absolute_error: 0.6647\n",
      "Batch 1 done!\n",
      "Epoch 1/1\n",
      "248/248 [==============================] - 227s 913ms/step - loss: 0.9996 - mean_absolute_error: 0.9325\n",
      "Batch 2 done!\n",
      "Epoch 1/1\n",
      "357/357 [==============================] - 325s 909ms/step - loss: 0.9492 - mean_absolute_error: 0.9198\n",
      "Batch 3 done!\n",
      "Epoch 1/1\n",
      "364/364 [==============================] - 331s 909ms/step - loss: 0.4991 - mean_absolute_error: 0.6198\n",
      "Batch 4 done!\n",
      "Epoch 1/1\n",
      "465/465 [==============================] - 423s 910ms/step - loss: 0.5127 - mean_absolute_error: 0.6470\n",
      "Batch 5 done!\n",
      "Epoch 1/1\n",
      "263/263 [==============================] - 239s 909ms/step - loss: 0.2729 - mean_absolute_error: 0.4513\n",
      "Batch 6 done!\n",
      "Epoch 1/1\n",
      "365/365 [==============================] - 331s 908ms/step - loss: 0.1776 - mean_absolute_error: 0.3407\n",
      "Batch 7 done!\n",
      "Epoch 1/1\n",
      "378/378 [==============================] - 344s 909ms/step - loss: 1.0802 - mean_absolute_error: 0.9736\n",
      "Batch 8 done!\n",
      "Epoch 1/1\n",
      "433/433 [==============================] - 394s 910ms/step - loss: 1.1083 - mean_absolute_error: 0.9923\n",
      "Batch 9 done!\n",
      "Epoch 1/1\n",
      "355/355 [==============================] - 323s 910ms/step - loss: 0.7793 - mean_absolute_error: 0.8208\n",
      "Batch 10 done!\n",
      "Epoch 1/1\n",
      "278/278 [==============================] - 253s 909ms/step - loss: 0.5801 - mean_absolute_error: 0.6953\n",
      "Batch 11 done!\n",
      "Epoch 1/1\n",
      "358/358 [==============================] - 326s 909ms/step - loss: 0.3332 - mean_absolute_error: 0.4907\n",
      "Batch 12 done!\n",
      "Epoch 1/1\n",
      "235/235 [==============================] - 213s 906ms/step - loss: 0.4408 - mean_absolute_error: 0.5866\n",
      "Batch 13 done!\n",
      "Epoch 1/1\n",
      "391/391 [==============================] - 355s 908ms/step - loss: 0.4790 - mean_absolute_error: 0.6028\n",
      "Batch 14 done!\n",
      "Epoch 1/1\n",
      "319/319 [==============================] - 290s 909ms/step - loss: 0.5507 - mean_absolute_error: 0.6760\n",
      "Batch 15 done!\n",
      "Epoch 1/1\n",
      "449/449 [==============================] - 408s 910ms/step - loss: 0.3505 - mean_absolute_error: 0.5024\n",
      "Batch 16 done!\n",
      "Epoch 1/1\n",
      "190/190 [==============================] - 172s 905ms/step - loss: 0.5339 - mean_absolute_error: 0.6871\n",
      "Batch 17 done!\n",
      "Epoch 1/1\n",
      "299/299 [==============================] - 272s 909ms/step - loss: 0.2945 - mean_absolute_error: 0.4745\n",
      "Batch 18 done!\n",
      "Epoch 1/1\n",
      "243/243 [==============================] - 221s 908ms/step - loss: 0.5216 - mean_absolute_error: 0.6630\n",
      "Batch 19 done!\n",
      "Epoch 1/1\n",
      "270/270 [==============================] - 245s 908ms/step - loss: 0.3879 - mean_absolute_error: 0.5376\n",
      "Batch 20 done!\n",
      "Epoch 1/1\n",
      "309/309 [==============================] - 281s 909ms/step - loss: 0.2953 - mean_absolute_error: 0.4547\n",
      "Batch 21 done!\n",
      "Epoch 1/1\n",
      "325/325 [==============================] - 295s 907ms/step - loss: 0.4314 - mean_absolute_error: 0.5723\n",
      "Batch 22 done!\n",
      "Epoch 1/1\n",
      "277/277 [==============================] - 251s 907ms/step - loss: 0.6156 - mean_absolute_error: 0.7306\n",
      "Batch 23 done!\n",
      "Batch 24 done!\n"
     ]
    }
   ],
   "source": [
    "c = 0\n",
    "test_generators = []\n",
    "test_labelSets = []\n",
    "for inputMatrix, labels in biwi:\n",
    "    data_gen = TimeseriesGenerator(inputMatrix, labels[:, :num_outputs], length=timesteps, batch_size=2)\n",
    "    if c < num_datasets-1:\n",
    "        full_model.fit_generator(data_gen, steps_per_epoch=len(data_gen), epochs=1, verbose=1) #\n",
    "    else:\n",
    "        test_generators.append(data_gen)\n",
    "        test_labelSets.append(labels[:, :num_outputs])\n",
    "    c += 1\n",
    "    print('Batch %d done!' % c)"
   ]
  },
  {
   "cell_type": "code",
   "execution_count": 46,
   "metadata": {},
   "outputs": [],
   "source": [
    "test_gen = test_generators[0]\n",
    "test_labels = test_labelSets[0]"
   ]
  },
  {
   "cell_type": "code",
   "execution_count": 47,
   "metadata": {},
   "outputs": [],
   "source": [
    "predictions = full_model.predict_generator(test_gen)"
   ]
  },
  {
   "cell_type": "code",
   "execution_count": 48,
   "metadata": {},
   "outputs": [],
   "source": [
    "output1 = numpy.concatenate((test_labels[timesteps:, :1], predictions[:, :1]), axis=1)"
   ]
  },
  {
   "cell_type": "code",
   "execution_count": 49,
   "metadata": {},
   "outputs": [
    {
     "data": {
      "text/plain": [
       "[<matplotlib.lines.Line2D at 0x7fb7cd1a7860>,\n",
       " <matplotlib.lines.Line2D at 0x7fb7cd1a79b0>]"
      ]
     },
     "execution_count": 49,
     "metadata": {},
     "output_type": "execute_result"
    },
    {
     "data": {
      "image/png": "[encoded data removed]",
      "text/plain": [
       "<Figure size 432x288 with 1 Axes>"
      ]
     },
     "metadata": {},
     "output_type": "display_data"
    }
   ],
   "source": [
    "plt.plot(output1)"
   ]
  },
  {
   "cell_type": "code",
   "execution_count": null,
   "metadata": {},
   "outputs": [],
   "source": []
  }
 ],
 "metadata": {
  "kernelspec": {
   "display_name": "Python 3",
   "language": "python",
   "name": "python3"
  },
  "language_info": {
   "codemirror_mode": {
    "name": "ipython",
    "version": 3
   },
   "file_extension": ".py",
   "mimetype": "text/x-python",
   "name": "python",
   "nbconvert_exporter": "python",
   "pygments_lexer": "ipython3",
   "version": "3.6.5"
  }
 },
 "nbformat": 4,
 "nbformat_minor": 2
}
