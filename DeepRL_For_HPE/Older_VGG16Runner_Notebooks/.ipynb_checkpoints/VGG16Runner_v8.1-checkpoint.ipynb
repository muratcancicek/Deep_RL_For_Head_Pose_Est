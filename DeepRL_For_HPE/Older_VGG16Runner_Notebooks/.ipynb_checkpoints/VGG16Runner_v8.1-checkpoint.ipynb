{
 "cells": [
  {
   "cell_type": "code",
   "execution_count": 1,
   "metadata": {},
   "outputs": [
    {
     "name": "stderr",
     "output_type": "stream",
     "text": [
      "/home/mcicek/anaconda3/lib/python3.6/site-packages/h5py/__init__.py:36: FutureWarning: Conversion of the second argument of issubdtype from `float` to `np.floating` is deprecated. In future, it will be treated as `np.float64 == np.dtype(float).type`.\n",
      "  from ._conv import register_converters as _register_converters\n",
      "Using TensorFlow backend.\n"
     ]
    }
   ],
   "source": [
    "from DatasetHandler.BiwiBrowser import *\n",
    "from LSTM_VGG16.LSTM_VGG16Helper import *\n",
    "%matplotlib inline"
   ]
  },
  {
   "cell_type": "code",
   "execution_count": 2,
   "metadata": {},
   "outputs": [],
   "source": [
    "output_begin = 4\n",
    "num_outputs = 1"
   ]
  },
  {
   "cell_type": "code",
   "execution_count": 47,
   "metadata": {},
   "outputs": [],
   "source": [
    "timesteps = 26 # TimeseriesGenerator Handles overlapping\n",
    "in_epochs = 1\n",
    "out_epochs = 1\n",
    "train_batch_size = 1\n",
    "test_batch_size = 1"
   ]
  },
  {
   "cell_type": "code",
   "execution_count": 42,
   "metadata": {},
   "outputs": [],
   "source": [
    "subjectList = [1] #, 2, 3, 4, 5, 7, 8, 11, 12, 14 except [6, 13, 10, ]\n",
    "testSubjects = [1]"
   ]
  },
  {
   "cell_type": "code",
   "execution_count": 43,
   "metadata": {},
   "outputs": [],
   "source": [
    "num_datasets = len(subjectList)"
   ]
  },
  {
   "cell_type": "code",
   "execution_count": 44,
   "metadata": {},
   "outputs": [],
   "source": [
    "def getFinalModel(num_outputs = num_outputs):\n",
    "    inp = BIWI_Frame_Shape\n",
    "    vgg_model = VGG16(weights='imagenet', include_top=False, input_shape = BIWI_Frame_Shape)\n",
    "    rnn = Sequential()\n",
    "    rnn.add(TimeDistributed(vgg_model, input_shape=(timesteps, inp[0], inp[1], inp[2])))\n",
    "    rnn.add(TimeDistributed(Flatten()))\n",
    "    \n",
    "    rnn.add(TimeDistributed(Dense(1024, activation='relu')))\n",
    "    rnn.add(LSTM(128, dropout=0.4, recurrent_dropout=0.2))\n",
    "    rnn.add(Dense(num_outputs))\n",
    "\n",
    "    for layer in rnn.layers[:15]:\n",
    "        layer.trainable = False\n",
    "    rnn.compile(optimizer='adam', loss='mean_squared_error', metrics=['mae'])\n",
    "    return rnn"
   ]
  },
  {
   "cell_type": "code",
   "execution_count": 45,
   "metadata": {},
   "outputs": [],
   "source": [
    "keras.backend.clear_session()\n",
    "full_model = getFinalModel(num_outputs = num_outputs)"
   ]
  },
  {
   "cell_type": "code",
   "execution_count": 46,
   "metadata": {},
   "outputs": [
    {
     "name": "stdout",
     "output_type": "stream",
     "text": [
      "All frames and annotations from 1 datasets have been read by 2019-01-01 20:12:52.752574\n",
      "1. set (Dataset 1) being trained for epoch 1!\n",
      "Epoch 1/1\n",
      "472/472 [==============================] - 346s 733ms/step - loss: 0.4677 - mean_absolute_error: 0.5468\n",
      "Epoch 1 completed!\n"
     ]
    }
   ],
   "source": [
    "full_model = trainForEpochs(full_model, out_epochs, subjectList, testSubjects, timesteps, False, output_begin, num_outputs, batch_size = train_batch_size, in_epochs = in_epochs)"
   ]
  },
  {
   "cell_type": "code",
   "execution_count": 48,
   "metadata": {},
   "outputs": [
    {
     "name": "stdout",
     "output_type": "stream",
     "text": [
      "All frames and annotations from 1 datasets have been read by 2019-01-01 20:19:50.754907\n"
     ]
    }
   ],
   "source": [
    "#[1]\n",
    "test_generators, test_labelSets = getTestBiwi(testSubjects, timesteps, False, output_begin, num_outputs, batch_size = test_batch_size)\n",
    "test_gen, test_labels = test_generators[0], test_labelSets[0] "
   ]
  },
  {
   "cell_type": "code",
   "execution_count": null,
   "metadata": {},
   "outputs": [],
   "source": [
    "predictions = full_model.predict_generator(test_gen)\n",
    "output1 = numpy.concatenate((test_labels[timesteps:, :1], predictions[:, :1]), axis=1)"
   ]
  },
  {
   "cell_type": "code",
   "execution_count": null,
   "metadata": {},
   "outputs": [],
   "source": [
    "plt.figure(figsize=(30,10))\n",
    "plt.plot(output1)"
   ]
  },
  {
   "cell_type": "code",
   "execution_count": null,
   "metadata": {},
   "outputs": [],
   "source": []
  }
 ],
 "metadata": {
  "kernelspec": {
   "display_name": "Python 3",
   "language": "python",
   "name": "python3"
  },
  "language_info": {
   "codemirror_mode": {
    "name": "ipython",
    "version": 3
   },
   "file_extension": ".py",
   "mimetype": "text/x-python",
   "name": "python",
   "nbconvert_exporter": "python",
   "pygments_lexer": "ipython3",
   "version": "3.6.5"
  }
 },
 "nbformat": 4,
 "nbformat_minor": 2
}
