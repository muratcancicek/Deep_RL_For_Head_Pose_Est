{
 "cells": [
  {
   "cell_type": "code",
   "execution_count": 2,
   "metadata": {},
   "outputs": [],
   "source": [
    "import numpy as np"
   ]
  },
  {
   "cell_type": "code",
   "execution_count": 3,
   "metadata": {},
   "outputs": [],
   "source": [
    "from keras.preprocessing.image import load_img\n",
    "from keras.preprocessing.image import img_to_array\n",
    "from keras.applications.vgg16 import preprocess_input\n",
    "from keras.applications.vgg16 import decode_predictions\n",
    "from keras.applications.vgg16 import VGG16\n",
    "import keras"
   ]
  },
  {
   "cell_type": "code",
   "execution_count": 4,
   "metadata": {},
   "outputs": [],
   "source": [
    "from keras.layers import *\n",
    "from keras import Model "
   ]
  },
  {
   "cell_type": "code",
   "execution_count": 18,
   "metadata": {},
   "outputs": [
    {
     "name": "stdout",
     "output_type": "stream",
     "text": [
      "Frames from /home/mcicek/Datasets/HeadPoses/biwi/hpdb/ have been started to read by 2018-12-21 01:01:32.279269\n",
      "Subject 01's frames have been started to read 2018-12-21 01:01:32.280496\n",
      "Subject 01's all frames have been read by 2018-12-21 01:01:32.280530\n",
      "Subject 02's frames have been started to read 2018-12-21 01:01:32.281668\n",
      "Subject 02's all frames have been read by 2018-12-21 01:01:32.281692\n",
      "Subject 03's frames have been started to read 2018-12-21 01:01:32.282794\n",
      "Subject 03's all frames have been read by 2018-12-21 01:01:32.282813\n",
      "/home/mcicek/Datasets/HeadPoses/biwi/db_annotations.tgz has been started to read by 2018-12-21 01:01:32.282823\n",
      "3 annotations have been read by 2018-12-21 01:01:33.913692\n"
     ]
    }
   ],
   "source": [
    "from DatasetHandler.BiwiBrowser import *\n",
    "biwi = readBIWIDataset(subjectList = [s for s in range(1, 4)])#"
   ]
  },
  {
   "cell_type": "code",
   "execution_count": null,
   "metadata": {
    "collapsed": true
   },
   "outputs": [],
   "source": [
    "frames, labelsList = [], []\n",
    "for inputMatrix, labels in biwi:\n",
    "    frames.append(inputMatrix)\n",
    "    labelsList.append(labels)"
   ]
  },
  {
   "cell_type": "code",
   "execution_count": null,
   "metadata": {
    "collapsed": true
   },
   "outputs": [],
   "source": [
    "inputMatrix.shape"
   ]
  },
  {
   "cell_type": "code",
   "execution_count": null,
   "metadata": {
    "collapsed": true
   },
   "outputs": [],
   "source": [
    "inputMatrix, labels = frames[0], labelsList[0]"
   ]
  },
  {
   "cell_type": "code",
   "execution_count": null,
   "metadata": {
    "collapsed": true
   },
   "outputs": [],
   "source": [
    "for inputMat, lbls in [e for e in zip(frames, labelsList)][1:-1]:\n",
    "    inputMatrix = np.append(inputMatrix, inputMat, axis = 0)\n",
    "    labels = np.append(labels, lbls, axis = 0)"
   ]
  },
  {
   "cell_type": "code",
   "execution_count": null,
   "metadata": {
    "collapsed": true
   },
   "outputs": [],
   "source": [
    "# Inspect the model\n",
    "vgg16.summary()"
   ]
  },
  {
   "cell_type": "code",
   "execution_count": null,
   "metadata": {
    "collapsed": true
   },
   "outputs": [],
   "source": [
    "# Verify things look as expected\n",
    "full_model.summary()"
   ]
  },
  {
   "cell_type": "code",
   "execution_count": 5,
   "metadata": {},
   "outputs": [],
   "source": [
    "patch_size = BIWI_Frame_Shape #(48, 64, 3)#"
   ]
  },
  {
   "cell_type": "code",
   "execution_count": 6,
   "metadata": {},
   "outputs": [],
   "source": [
    "num_outputs = 1"
   ]
  },
  {
   "cell_type": "code",
   "execution_count": 7,
   "metadata": {},
   "outputs": [],
   "source": [
    "keras.backend.clear_session()\n",
    "def getFinalModel(num_outputs = num_outputs):\n",
    "    dense_layer_1 = 1#int((patch_size[0] * patch_size[1]) / 1)0010#00000\n",
    "    dense_layer_2 = 8\n",
    "    \n",
    "    vgg16 = VGG16(weights='imagenet', include_top=False, input_shape= patch_size)\n",
    "    block5_pool = vgg16.get_layer('block5_pool').output\n",
    "    gate = (int(d) for d in block5_pool.shape[1:])\n",
    "    #vgg16.summary()\n",
    "    # This shape has to match the last layer in VGG16 (without top)\n",
    "    dense_input  = Input(shape=gate) #patch_size) #(15, 20, 512)\n",
    "    dense_output = Flatten(name='flatten')(dense_input)\n",
    "    dense_output = Dense(dense_layer_1, activation='relu', name='fc1')(dense_output)\n",
    "    dense_output = Dense(dense_layer_2, activation='relu', name='fc2')(dense_output)\n",
    "    dense_output = Dense(num_outputs, name='predictions')(dense_output)#activation='softmax', \n",
    "\n",
    "    top_model = Model(inputs=dense_input, outputs=dense_output, name='top_model')\n",
    "    # Now combine the two models\n",
    "    full_output = top_model(block5_pool)\n",
    "    full_model  = Model(inputs=vgg16.input, outputs=full_output)\n",
    "\n",
    "    for layer in full_model.layers[:15]:\n",
    "        layer.trainable = False\n",
    "    full_model.compile(optimizer='adam', loss='mean_squared_error', metrics=['mae'])#'accuracy'\n",
    "    return full_model"
   ]
  },
  {
   "cell_type": "code",
   "execution_count": 8,
   "metadata": {},
   "outputs": [],
   "source": [
    "full_model = getFinalModel(num_outputs = num_outputs)"
   ]
  },
  {
   "cell_type": "code",
   "execution_count": 19,
   "metadata": {},
   "outputs": [
    {
     "name": "stdout",
     "output_type": "stream",
     "text": [
      "Epoch 1/1\n",
      " - 14s - loss: 5892.9376 - mean_absolute_error: 62.4736\n",
      "Epoch 1/1\n",
      " - 15s - loss: 17984.9096 - mean_absolute_error: 120.3879\n"
     ]
    }
   ],
   "source": [
    "c = 0\n",
    "frames, labelsList = [], []\n",
    "for inputMatrix, labels in biwi:\n",
    "    if c < 2:\n",
    "        full_model.fit(inputMatrix, labels[:, :num_outputs], batch_size=10, epochs=1, verbose=2)\n",
    "    else:\n",
    "        frames.append(inputMatrix)\n",
    "        labelsList.append(labels)\n",
    "    c += 1"
   ]
  },
  {
   "cell_type": "code",
   "execution_count": null,
   "metadata": {
    "collapsed": true
   },
   "outputs": [],
   "source": [
    "full_model.fit(inputMatrix, labels[:, :num_outputs], batch_size=10, epochs=1, verbose=2)"
   ]
  },
  {
   "cell_type": "code",
   "execution_count": 20,
   "metadata": {},
   "outputs": [],
   "source": [
    "#test_inputMatrix, test_labels = frames[-1], labelsList[-1]\n",
    "test_inputMatrix, test_labels = frames[0], labelsList[0]"
   ]
  },
  {
   "cell_type": "code",
   "execution_count": null,
   "metadata": {
    "collapsed": true
   },
   "outputs": [],
   "source": [
    "#full_model.evaluate(test_inputMatrix, test_labels, batch_size=10)"
   ]
  },
  {
   "cell_type": "code",
   "execution_count": 25,
   "metadata": {},
   "outputs": [],
   "source": [
    "predictions = full_model.predict(test_inputMatrix, batch_size=10)"
   ]
  },
  {
   "cell_type": "code",
   "execution_count": 22,
   "metadata": {},
   "outputs": [],
   "source": [
    "import matplotlib.pyplot as plt\n",
    "%matplotlib inline"
   ]
  },
  {
   "cell_type": "code",
   "execution_count": 23,
   "metadata": {},
   "outputs": [],
   "source": [
    "output1 = numpy.concatenate((test_labels[:, :1], predictions[:, :1]), axis=1)"
   ]
  },
  {
   "cell_type": "code",
   "execution_count": null,
   "metadata": {
    "collapsed": true
   },
   "outputs": [],
   "source": [
    "predictions.shape"
   ]
  },
  {
   "cell_type": "code",
   "execution_count": 26,
   "metadata": {},
   "outputs": [
    {
     "data": {
      "text/plain": [
       "[<matplotlib.lines.Line2D at 0x7fcb341a0e80>,\n",
       " <matplotlib.lines.Line2D at 0x7fcb341a0e48>]"
      ]
     },
     "execution_count": 26,
     "metadata": {},
     "output_type": "execute_result"
    },
    {
     "data": {
      "image/png": "[encoded data removed]",
      "text/plain": [
       "<Figure size 432x288 with 1 Axes>"
      ]
     },
     "metadata": {},
     "output_type": "display_data"
    }
   ],
   "source": [
    "plt.plot(output1)"
   ]
  },
  {
   "cell_type": "code",
   "execution_count": null,
   "metadata": {
    "collapsed": true
   },
   "outputs": [],
   "source": [
    "output1 = numpy.concatenate((test_labels[:, :1], predictions[:, :1]), axis=1)\n",
    "output2 = numpy.concatenate((test_labels[:, 1:2], predictions[:, 1:2]), axis=1)\n",
    "output3 = numpy.concatenate((test_labels[:, 2:3], predictions[:, 2:3]), axis=1)"
   ]
  },
  {
   "cell_type": "code",
   "execution_count": null,
   "metadata": {
    "collapsed": true
   },
   "outputs": [],
   "source": [
    "# Three subplots sharing both x/y axes\n",
    "f, (ax1, ax2, ax3) = plt.subplots(3, sharex=True)\n",
    "ax1.plot(output1)\n",
    "ax1.set_title('Sharing both axes')\n",
    "ax2.plot(output2)\n",
    "ax3.plot(output3)\n",
    "# Fine-tune figure; make subplots close to each other and hide x ticks for\n",
    "# all but bottom plot.\n",
    "f.subplots_adjust(hspace=0)\n",
    "plt.setp([a.get_xticklabels() for a in f.axes[:-1]], visible=False)"
   ]
  },
  {
   "cell_type": "code",
   "execution_count": null,
   "metadata": {
    "collapsed": true
   },
   "outputs": [],
   "source": []
  }
 ],
 "metadata": {
  "kernelspec": {
   "display_name": "Python 3",
   "language": "python",
   "name": "python3"
  },
  "language_info": {
   "codemirror_mode": {
    "name": "ipython",
    "version": 3
   },
   "file_extension": ".py",
   "mimetype": "text/x-python",
   "name": "python",
   "nbconvert_exporter": "python",
   "pygments_lexer": "ipython3",
   "version": "3.6.5"
  }
 },
 "nbformat": 4,
 "nbformat_minor": 2
}
