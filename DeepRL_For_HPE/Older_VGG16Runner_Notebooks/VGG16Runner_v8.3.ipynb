{
 "cells": [
  {
   "cell_type": "code",
   "execution_count": 1,
   "metadata": {
    "scrolled": true
   },
   "outputs": [
    {
     "name": "stderr",
     "output_type": "stream",
     "text": [
      "/home/mcicek/anaconda3/lib/python3.6/site-packages/h5py/__init__.py:36: FutureWarning: Conversion of the second argument of issubdtype from `float` to `np.floating` is deprecated. In future, it will be treated as `np.float64 == np.dtype(float).type`.\n",
      "  from ._conv import register_converters as _register_converters\n",
      "Using TensorFlow backend.\n"
     ]
    }
   ],
   "source": [
    "from DatasetHandler.BiwiBrowser import *\n",
    "from LSTM_VGG16.LSTM_VGG16Helper import *\n",
    "%matplotlib inline"
   ]
  },
  {
   "cell_type": "code",
   "execution_count": 2,
   "metadata": {},
   "outputs": [],
   "source": [
    "from ipywidgets import IntProgress\n",
    "from IPython.display import display\n",
    "import time"
   ]
  },
  {
   "cell_type": "code",
   "execution_count": 3,
   "metadata": {},
   "outputs": [],
   "source": [
    "output_begin = 4\n",
    "num_outputs = 1"
   ]
  },
  {
   "cell_type": "code",
   "execution_count": 37,
   "metadata": {},
   "outputs": [],
   "source": [
    "timesteps = 40 # TimeseriesGenerator Handles overlapping\n",
    "in_epochs = 1\n",
    "out_epochs = 1\n",
    "train_batch_size = 1\n",
    "test_batch_size = 1"
   ]
  },
  {
   "cell_type": "code",
   "execution_count": 38,
   "metadata": {},
   "outputs": [],
   "source": [
    "subjectList = [1] #, 2, 3, 4, 5, 7, 8, 11, 12, 14 except [6, 13, 10, ]\n",
    "testSubjects = [1]"
   ]
  },
  {
   "cell_type": "code",
   "execution_count": 39,
   "metadata": {},
   "outputs": [],
   "source": [
    "num_datasets = len(subjectList)"
   ]
  },
  {
   "cell_type": "code",
   "execution_count": 63,
   "metadata": {},
   "outputs": [],
   "source": [
    "def getImageModel(num_outputs = num_outputs):\n",
    "    inp = BIWI_Frame_Shape\n",
    "    vgg_model = VGG16(weights='imagenet', include_top=False, input_shape = BIWI_Frame_Shape)\n",
    "    rnn = Sequential()\n",
    "    rnn.add(TimeDistributed(vgg_model, input_shape=(timesteps, inp[0], inp[1], inp[2])))\n",
    "    rnn.add(TimeDistributed(Flatten()))\n",
    "    \n",
    "    rnn.add(TimeDistributed(Dense(1024, activation='relu')))\n",
    "    rnn.add(LSTM(128, dropout=0.2, recurrent_dropout=0.2, activation='relu', recurrent_activation='relu', name='img_lstm'))#, return_sequences=True\n",
    "\n",
    "    for layer in rnn.layers[:15]:\n",
    "        layer.trainable = False\n",
    "   # rnn.compile(optimizer='adam', loss='mean_squared_error', metrics=['mae'])\n",
    "    return rnn"
   ]
  },
  {
   "cell_type": "code",
   "execution_count": 64,
   "metadata": {},
   "outputs": [],
   "source": [
    "def getAngleModel(num_outputs = num_outputs):\n",
    "    rnn = Sequential()\n",
    "    #rnn.add(TimeDistributed(Input(shape=(timesteps,))))\n",
    "   # rnn.add(TimeDistributed(Flatten(), input_shape=(timesteps, num_outputs)))\n",
    "    #rnn.add(TimeDistributed(Reshape()))\n",
    "    rnn.add(LSTM(26, dropout=0.2, recurrent_dropout=0.2, activation='relu', recurrent_activation='relu', name='ang_lstm', input_shape=(timesteps, num_outputs)))\n",
    "  #  rnn.compile(optimizer='adam', loss='mean_squared_error', metrics=['mae']), return_sequences=True\n",
    "    return rnn"
   ]
  },
  {
   "cell_type": "code",
   "execution_count": 65,
   "metadata": {},
   "outputs": [],
   "source": [
    "def getFinalModel(num_outputs = num_outputs):\n",
    "    imageModel = getImageModel(num_outputs = num_outputs)\n",
    "    angleModel = getAngleModel(num_outputs = num_outputs)\n",
    "    merged = merge([imageModel.output, angleModel.output], 'concat', name='matrix')#.outputC, axis=-1, mode='concat'))  keras.layers.merge\n",
    "    print(merged.shape)\n",
    "    #lstm = LSTM(129, dropout=0.2, recurrent_dropout=0.2, name='fnl_lstm')(lstm)TimeDistributed(, name='td_dense_finel')\n",
    "    dense = Dense(num_outputs, name='dense_finel')(merged)\n",
    "    rnn = Model([imageModel.input, angleModel.input], dense)\n",
    "   # rnn.add(merged)\n",
    "    rnn.compile(optimizer='adam', loss='mean_squared_error', metrics=['mae'])\n",
    "    return rnn"
   ]
  },
  {
   "cell_type": "code",
   "execution_count": 66,
   "metadata": {},
   "outputs": [
    {
     "name": "stdout",
     "output_type": "stream",
     "text": [
      "(?, 154)\n"
     ]
    },
    {
     "name": "stderr",
     "output_type": "stream",
     "text": [
      "/home/mcicek/anaconda3/lib/python3.6/site-packages/ipykernel_launcher.py:4: UserWarning: The `merge` function is deprecated and will be removed after 08/2017. Use instead layers from `keras.layers.merge`, e.g. `add`, `concatenate`, etc.\n",
      "  after removing the cwd from sys.path.\n",
      "/home/mcicek/anaconda3/lib/python3.6/site-packages/keras/legacy/layers.py:465: UserWarning: The `Merge` layer is deprecated and will be removed after 08/2017. Use instead layers from `keras.layers.merge`, e.g. `add`, `concatenate`, etc.\n",
      "  name=name)\n"
     ]
    }
   ],
   "source": [
    "keras.backend.clear_session()\n",
    "full_model = getFinalModel(num_outputs = num_outputs)"
   ]
  },
  {
   "cell_type": "code",
   "execution_count": null,
   "metadata": {},
   "outputs": [
    {
     "name": "stdout",
     "output_type": "stream",
     "text": [
      "All frames and annotations from 1 datasets have been read by 2019-01-08 02:50:50.394406\n",
      "1. set (Dataset 1) being trained for epoch 1!\n",
      "Epoch 1/1\n",
      "119/498 [======>.......................] - ETA: 7:05 - loss: nan - mean_absolute_error: nan"
     ]
    }
   ],
   "source": [
    "full_model = trainFinalModelForEpochs(full_model, out_epochs, subjectList, testSubjects, timesteps, False, output_begin, num_outputs, batch_size = train_batch_size, in_epochs = in_epochs)"
   ]
  },
  {
   "cell_type": "code",
   "execution_count": null,
   "metadata": {},
   "outputs": [],
   "source": [
    "#full_model.summary()"
   ]
  },
  {
   "cell_type": "code",
   "execution_count": null,
   "metadata": {},
   "outputs": [],
   "source": [
    "#[1]\n",
    "test_generators, test_labelSets = getTestBiwiForFinalModel(testSubjects, timesteps, False, output_begin, num_outputs, batch_size = test_batch_size)\n",
    "test_gen, test_labels = test_generators[0], test_labelSets[0] "
   ]
  },
  {
   "cell_type": "code",
   "execution_count": null,
   "metadata": {},
   "outputs": [],
   "source": [
    "def slide(m, x):\n",
    "        m[0, :-1] = m[0, 1:]\n",
    "        m[0, -1] = x\n",
    "        return m"
   ]
  },
  {
   "cell_type": "code",
   "execution_count": null,
   "metadata": {},
   "outputs": [],
   "source": [
    "cur_pred = np.zeros((1, timesteps, 1))\n",
    "pred = []\n",
    "c =0\n",
    "f = IntProgress(min=0, max=len(test_labels)) # instantiate the bar\n",
    "display(f) # display the bar\n",
    "for (inputMatrix, inputLabels), outputLabels in test_gen:\n",
    "    im = inputMatrix.reshape(inputMatrix.shape[:1] + (1,) + inputMatrix.shape[1:])\n",
    "    #l = inputLabels.reshape(inputLabels.shape[:1] + (1,) + inputLabels.shape[1:])\n",
    "    c+=1\n",
    "    f.value += 1 # signal to increment the progress bar\n",
    "    if c > len(test_labels): break\n",
    "    for i in range(len(inputLabels)):#50\n",
    "        p = full_model.predict([im[i], cur_pred])\n",
    "        pred.append(p)\n",
    "        cur_pred = slide(cur_pred, p)\n",
    "        "
   ]
  },
  {
   "cell_type": "code",
   "execution_count": null,
   "metadata": {},
   "outputs": [],
   "source": [
    "output1 = numpy.concatenate((test_labels[:, :1], np.array(pred)[:, 0, :1]), axis=1)"
   ]
  },
  {
   "cell_type": "code",
   "execution_count": null,
   "metadata": {},
   "outputs": [],
   "source": [
    "plt.figure(figsize=(30,10))\n",
    "plt.plot(output1)"
   ]
  },
  {
   "cell_type": "code",
   "execution_count": null,
   "metadata": {},
   "outputs": [],
   "source": []
  },
  {
   "cell_type": "code",
   "execution_count": null,
   "metadata": {},
   "outputs": [],
   "source": [
    "predictions = full_model.predict_generator(test_gen, steps= len(test_labels[timesteps:, :1]), verbose=1)\n",
    "output1 = numpy.concatenate((test_labels[timesteps:, :1], predictions[:, :1]), axis=1)"
   ]
  }
 ],
 "metadata": {
  "kernelspec": {
   "display_name": "Python 3",
   "language": "python",
   "name": "python3"
  },
  "language_info": {
   "codemirror_mode": {
    "name": "ipython",
    "version": 3
   },
   "file_extension": ".py",
   "mimetype": "text/x-python",
   "name": "python",
   "nbconvert_exporter": "python",
   "pygments_lexer": "ipython3",
   "version": "3.6.5"
  }
 },
 "nbformat": 4,
 "nbformat_minor": 2
}
