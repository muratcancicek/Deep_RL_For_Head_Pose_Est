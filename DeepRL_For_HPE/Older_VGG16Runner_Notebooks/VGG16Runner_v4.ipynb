{
 "cells": [
  {
   "cell_type": "code",
   "execution_count": 1,
   "metadata": {},
   "outputs": [
    {
     "name": "stderr",
     "output_type": "stream",
     "text": [
      "/home/mcicek/anaconda3/lib/python3.6/site-packages/h5py/__init__.py:36: FutureWarning: Conversion of the second argument of issubdtype from `float` to `np.floating` is deprecated. In future, it will be treated as `np.float64 == np.dtype(float).type`.\n",
      "  from ._conv import register_converters as _register_converters\n",
      "Using TensorFlow backend.\n"
     ]
    }
   ],
   "source": [
    "from DatasetHandler.BiwiBrowser import *\n",
    "import keras\n",
    "import numpy as np\n",
    "%matplotlib inline\n",
    "#from keras import Model \n",
    "from keras.layers import *\n",
    "import matplotlib.pyplot as plt\n",
    "from keras.optimizers import SGD\n",
    "from keras.models import Sequential\n",
    "from keras.constraints import maxnorm\n",
    "from keras.applications.vgg16 import VGG16\n",
    "from sklearn.preprocessing import MinMaxScaler\n",
    "from keras.preprocessing.image import load_img\n",
    "from keras.preprocessing.image import img_to_array\n",
    "from keras.layers.convolutional import MaxPooling2D\n",
    "from keras.layers.convolutional import Convolution2D\n",
    "from keras.applications.vgg16 import preprocess_input\n",
    "from keras.applications.vgg16 import decode_predictions\n",
    "from keras.preprocessing.sequence import TimeseriesGenerator"
   ]
  },
  {
   "cell_type": "code",
   "execution_count": 3,
   "metadata": {},
   "outputs": [],
   "source": [
    "num_outputs = 1"
   ]
  },
  {
   "cell_type": "code",
   "execution_count": 4,
   "metadata": {},
   "outputs": [],
   "source": [
    "timesteps = 16\n",
    "overlapping = True"
   ]
  },
  {
   "cell_type": "code",
   "execution_count": 8,
   "metadata": {},
   "outputs": [],
   "source": [
    "subjectList = [1, 2, 3, 4, 5, 7, 8, 9, 11, 12, 14] # except [6, 13, 10, ]"
   ]
  },
  {
   "cell_type": "code",
   "execution_count": 12,
   "metadata": {},
   "outputs": [],
   "source": [
    "num_datasets = len(subjectList)"
   ]
  },
  {
   "cell_type": "code",
   "execution_count": 9,
   "metadata": {},
   "outputs": [],
   "source": [
    "#keras.backend.clear_session()\n",
    "def getFinalModel(num_outputs = num_outputs):\n",
    "    dense_layer_1 = 1#int((patch_size[0] * patch_size[1]) / 1)0010#00000\n",
    "    dense_layer_2 = 8\n",
    "    inp = BIWI_Frame_Shape\n",
    "    vgg_model = VGG16(weights='imagenet', include_top=False, input_shape = BIWI_Frame_Shape)\n",
    "    rnn = Sequential()\n",
    "    rnn.add(TimeDistributed(vgg_model, input_shape=(timesteps, inp[0], inp[1], inp[2])))#batch_size = timesteps, \n",
    "    \n",
    "    rnn.add(TimeDistributed(Flatten()))\n",
    "    rnn.add(LSTM(16, dropout=0.2, recurrent_dropout=0.2)) # , activation='relu', stateful=True\n",
    "#    rnn.add(TimeDistributed(Dropout(0.2)))\n",
    "    rnn.add(Dense(num_outputs))\n",
    "\n",
    "    for layer in rnn.layers[:15]:\n",
    "        layer.trainable = False\n",
    "    rnn.compile(optimizer='adam', loss='mean_squared_error', metrics=['mae'])\n",
    "    return rnn"
   ]
  },
  {
   "cell_type": "code",
   "execution_count": 10,
   "metadata": {},
   "outputs": [],
   "source": [
    "full_model = getFinalModel(num_outputs = num_outputs)"
   ]
  },
  {
   "cell_type": "code",
   "execution_count": 17,
   "metadata": {},
   "outputs": [
    {
     "name": "stdout",
     "output_type": "stream",
     "text": [
      "All frames and annotations from 11 datasets have been read by 2018-12-29 16:46:21.529146\n"
     ]
    }
   ],
   "source": [
    "biwi = readBIWIDataset(subjectList = subjectList)#, timesteps = timesteps, overlapping = overlapping[s for s in range(1, num_datasets+1)]"
   ]
  },
  {
   "cell_type": "code",
   "execution_count": 18,
   "metadata": {},
   "outputs": [
    {
     "name": "stdout",
     "output_type": "stream",
     "text": [
      "Epoch 1/1\n",
      "241/241 [==============================] - 216s 897ms/step - loss: 0.1648 - mean_absolute_error: 0.3262\n",
      "Batch 1 done!\n",
      "Epoch 1/1\n",
      "248/248 [==============================] - 221s 890ms/step - loss: 0.1801 - mean_absolute_error: 0.3355\n",
      "Batch 2 done!\n",
      "Epoch 1/1\n",
      "357/357 [==============================] - 316s 885ms/step - loss: 0.1635 - mean_absolute_error: 0.3257\n",
      "Batch 3 done!\n",
      "Epoch 1/1\n",
      "364/364 [==============================] - 322s 885ms/step - loss: 0.1481 - mean_absolute_error: 0.3077\n",
      "Batch 4 done!\n",
      "Epoch 1/1\n",
      "465/465 [==============================] - 412s 886ms/step - loss: 0.1400 - mean_absolute_error: 0.2932\n",
      "Batch 5 done!\n",
      "Epoch 1/1\n",
      "365/365 [==============================] - 323s 885ms/step - loss: 0.2503 - mean_absolute_error: 0.4117\n",
      "Batch 6 done!\n",
      "Epoch 1/1\n",
      "378/378 [==============================] - 335s 886ms/step - loss: 0.1518 - mean_absolute_error: 0.3190\n",
      "Batch 7 done!\n",
      "Epoch 1/1\n",
      "433/433 [==============================] - 384s 886ms/step - loss: 0.1994 - mean_absolute_error: 0.3589\n",
      "Batch 8 done!\n",
      "Batch 9 done!\n",
      "Epoch 1/1\n",
      "358/358 [==============================] - 317s 885ms/step - loss: 0.1795 - mean_absolute_error: 0.3461\n",
      "Batch 10 done!\n",
      "Epoch 1/1\n",
      "391/391 [==============================] - 346s 884ms/step - loss: 0.2182 - mean_absolute_error: 0.3742\n",
      "Batch 11 done!\n"
     ]
    }
   ],
   "source": [
    "c = 0\n",
    "test_generators = []\n",
    "test_labelSets = []\n",
    "for inputMatrix, labels in biwi:\n",
    "    data_gen = TimeseriesGenerator(inputMatrix, labels[:, 4:5], length=timesteps, batch_size=2)\n",
    "    if c+1 != 9: #< num_datasets-1:\n",
    "        full_model.fit_generator(data_gen, steps_per_epoch=len(data_gen), epochs=1, verbose=1) #\n",
    "    else:\n",
    "        test_generators.append(data_gen)\n",
    "        test_labelSets.append(labels[:, 4:5])\n",
    "    c += 1\n",
    "    print('Batch %d done!' % c)"
   ]
  },
  {
   "cell_type": "code",
   "execution_count": 19,
   "metadata": {},
   "outputs": [],
   "source": [
    "test_gen = test_generators[0]\n",
    "test_labels = test_labelSets[0]"
   ]
  },
  {
   "cell_type": "code",
   "execution_count": 20,
   "metadata": {},
   "outputs": [],
   "source": [
    "predictions = full_model.predict_generator(test_gen)"
   ]
  },
  {
   "cell_type": "code",
   "execution_count": 21,
   "metadata": {},
   "outputs": [],
   "source": [
    "output1 = numpy.concatenate((test_labels[timesteps:, :1], predictions[:, :1]), axis=1)"
   ]
  },
  {
   "cell_type": "code",
   "execution_count": 22,
   "metadata": {},
   "outputs": [
    {
     "data": {
      "text/plain": [
       "[<matplotlib.lines.Line2D at 0x7f6e3545ada0>,\n",
       " <matplotlib.lines.Line2D at 0x7f6e3545aef0>]"
      ]
     },
     "execution_count": 22,
     "metadata": {},
     "output_type": "execute_result"
    },
    {
     "data": {
      "image/png": "[encoded data removed]",
      "text/plain": [
       "<Figure size 432x288 with 1 Axes>"
      ]
     },
     "metadata": {},
     "output_type": "display_data"
    }
   ],
   "source": [
    "plt.plot(output1)"
   ]
  },
  {
   "cell_type": "code",
   "execution_count": null,
   "metadata": {},
   "outputs": [],
   "source": []
  }
 ],
 "metadata": {
  "kernelspec": {
   "display_name": "Python 3",
   "language": "python",
   "name": "python3"
  },
  "language_info": {
   "codemirror_mode": {
    "name": "ipython",
    "version": 3
   },
   "file_extension": ".py",
   "mimetype": "text/x-python",
   "name": "python",
   "nbconvert_exporter": "python",
   "pygments_lexer": "ipython3",
   "version": "3.6.5"
  }
 },
 "nbformat": 4,
 "nbformat_minor": 2
}
