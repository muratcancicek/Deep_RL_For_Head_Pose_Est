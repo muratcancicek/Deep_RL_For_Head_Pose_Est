{
 "cells": [
  {
   "cell_type": "code",
   "execution_count": 5,
   "metadata": {},
   "outputs": [
    {
     "name": "stderr",
     "output_type": "stream",
     "text": [
      "/home/mcicek/anaconda3/lib/python3.6/site-packages/h5py/__init__.py:36: FutureWarning: Conversion of the second argument of issubdtype from `float` to `np.floating` is deprecated. In future, it will be treated as `np.float64 == np.dtype(float).type`.\n",
      "  from ._conv import register_converters as _register_converters\n",
      "Using TensorFlow backend.\n"
     ]
    }
   ],
   "source": [
    "import keras\n",
    "import numpy as np\n",
    "%matplotlib inline\n",
    "from keras import Model \n",
    "from keras.layers import *\n",
    "import matplotlib.pyplot as plt\n",
    "from keras.optimizers import SGD\n",
    "from keras.models import Sequential\n",
    "from keras.constraints import maxnorm\n",
    "from DatasetHandler.BiwiBrowser import *\n",
    "from keras.applications.vgg16 import VGG16\n",
    "from sklearn.preprocessing import MinMaxScaler\n",
    "from keras.preprocessing.image import load_img\n",
    "from keras.preprocessing.image import img_to_array\n",
    "from keras.layers.convolutional import MaxPooling2D\n",
    "from keras.layers.convolutional import Convolution2D\n",
    "from keras.applications.vgg16 import preprocess_input\n",
    "from keras.applications.vgg16 import decode_predictions"
   ]
  },
  {
   "cell_type": "code",
   "execution_count": 6,
   "metadata": {},
   "outputs": [],
   "source": [
    "def scale(arr):\n",
    "    scaler = MinMaxScaler(feature_range=(-1, 1))\n",
    "    scaler = scaler.fit(arr)\n",
    "    # normalize the dataset and printscaler, \n",
    "    normalized = scaler.transform(arr)\n",
    "    return normalized "
   ]
  },
  {
   "cell_type": "code",
   "execution_count": 7,
   "metadata": {},
   "outputs": [],
   "source": [
    "def reshaper(m, l, timesteps = 1):\n",
    "    wasted = (m.shape[0] % timesteps)\n",
    "    m, l = m[wasted:], l[wasted:]\n",
    "    l = scale(l)\n",
    "    m = m.reshape((int(m.shape[0]/timesteps), timesteps, m.shape[1], m.shape[2], m.shape[3]))\n",
    "    l = l.reshape((int(l.shape[0]/timesteps), timesteps, l.shape[1]))\n",
    "    l = l[:, -1, :]\n",
    "    return m, l"
   ]
  },
  {
   "cell_type": "code",
   "execution_count": 22,
   "metadata": {},
   "outputs": [],
   "source": [
    "num_datasets = 8"
   ]
  },
  {
   "cell_type": "code",
   "execution_count": 9,
   "metadata": {},
   "outputs": [],
   "source": [
    "num_outputs = 1"
   ]
  },
  {
   "cell_type": "code",
   "execution_count": 10,
   "metadata": {},
   "outputs": [],
   "source": [
    "timesteps = 1"
   ]
  },
  {
   "cell_type": "code",
   "execution_count": 27,
   "metadata": {},
   "outputs": [],
   "source": [
    "keras.backend.clear_session()\n",
    "def getFinalModel(num_outputs = num_outputs):\n",
    "    dense_layer_1 = 1#int((patch_size[0] * patch_size[1]) / 1)0010#00000\n",
    "    dense_layer_2 = 8\n",
    "    inp = BIWI_Frame_Shape\n",
    "    vgg_model = VGG16(weights='imagenet', include_top=False, input_shape = BIWI_Frame_Shape)\n",
    "    rnn = Sequential()\n",
    "    rnn.add(TimeDistributed(vgg_model, batch_size = timesteps, input_shape=(timesteps, inp[0], inp[1], inp[2])))#\n",
    "    \n",
    "    rnn.add(TimeDistributed(Flatten()))\n",
    "    rnn.add(LSTM(64, dropout=0.2, recurrent_dropout=0.2, stateful=True)) # , activation='relu'\n",
    "#    rnn.add(TimeDistributed(Dropout(0.2)))\n",
    "    rnn.add(Dense(num_outputs))\n",
    "\n",
    "    for layer in rnn.layers[:15]:\n",
    "        layer.trainable = False\n",
    "    rnn.compile(optimizer='adam', loss='mean_squared_error', metrics=['mae'])\n",
    "    return rnn"
   ]
  },
  {
   "cell_type": "code",
   "execution_count": 28,
   "metadata": {},
   "outputs": [],
   "source": [
    "full_model = getFinalModel(num_outputs = num_outputs)"
   ]
  },
  {
   "cell_type": "code",
   "execution_count": 29,
   "metadata": {},
   "outputs": [
    {
     "name": "stdout",
     "output_type": "stream",
     "text": [
      "Frames from /home/mcicek/Datasets/HeadPoses/biwi/hpdb/ have been started to read by 2018-12-23 03:01:39.020264\n",
      "Subject 01's frames have been started to read 2018-12-23 03:01:39.025455\n",
      "Subject 01's all frames have been read by 2018-12-23 03:01:39.025590\n",
      "Subject 02's frames have been started to read 2018-12-23 03:01:39.030198\n",
      "Subject 02's all frames have been read by 2018-12-23 03:01:39.030328\n",
      "Subject 03's frames have been started to read 2018-12-23 03:01:39.036968\n",
      "Subject 03's all frames have been read by 2018-12-23 03:01:39.037098\n",
      "Subject 04's frames have been started to read 2018-12-23 03:01:39.043944\n",
      "Subject 04's all frames have been read by 2018-12-23 03:01:39.044088\n",
      "Subject 05's frames have been started to read 2018-12-23 03:01:39.051712\n",
      "Subject 05's all frames have been read by 2018-12-23 03:01:39.051830\n",
      "Subject 06's frames have been started to read 2018-12-23 03:01:39.055760\n",
      "Subject 06's all frames have been read by 2018-12-23 03:01:39.055826\n",
      "Subject 07's frames have been started to read 2018-12-23 03:01:39.059816\n",
      "Subject 07's all frames have been read by 2018-12-23 03:01:39.059866\n",
      "Subject 08's frames have been started to read 2018-12-23 03:01:39.062970\n",
      "Subject 08's all frames have been read by 2018-12-23 03:01:39.063017\n",
      "/home/mcicek/Datasets/HeadPoses/biwi/db_annotations.tgz has been started to read by 2018-12-23 03:01:39.063048\n",
      "8 annotations have been read by 2018-12-23 03:01:42.713063\n"
     ]
    }
   ],
   "source": [
    "biwi = readBIWIDataset(subjectList = [s for s in range(1, num_datasets+1)])#"
   ]
  },
  {
   "cell_type": "code",
   "execution_count": 30,
   "metadata": {},
   "outputs": [
    {
     "name": "stdout",
     "output_type": "stream",
     "text": [
      "Epoch 1/1\n",
      " - 17s - loss: 1.0141 - mean_absolute_error: 0.8008\n",
      "Batch 1 done!\n",
      "Epoch 1/1\n",
      " - 18s - loss: 1.0620 - mean_absolute_error: 0.8506\n",
      "Batch 2 done!\n",
      "Epoch 1/1\n",
      " - 26s - loss: 2.3540 - mean_absolute_error: 1.3915\n",
      "Batch 3 done!\n",
      "Epoch 1/1\n",
      " - 27s - loss: 2.1471 - mean_absolute_error: 1.2676\n",
      "Batch 4 done!\n",
      "Epoch 1/1\n",
      " - 34s - loss: 0.5649 - mean_absolute_error: 0.6061\n",
      "Batch 5 done!\n",
      "Epoch 1/1\n",
      " - 19s - loss: 0.8017 - mean_absolute_error: 0.7555\n",
      "Batch 6 done!\n",
      "Epoch 1/1\n",
      " - 26s - loss: 1.0310 - mean_absolute_error: 0.8267\n",
      "Batch 7 done!\n",
      "Batch 8 done!\n"
     ]
    }
   ],
   "source": [
    "c = 0\n",
    "frames, labelsList = [], []\n",
    "for inputMatrix, labels in biwi:\n",
    "    inputMatrix, labels = reshaper(inputMatrix, labels, timesteps = timesteps)\n",
    "    if c < num_datasets-1:\n",
    "        full_model.fit(inputMatrix, labels[:, :num_outputs], batch_size = timesteps, epochs=1, verbose=2, shuffle=False) #\n",
    "        full_model.reset_states()\n",
    "        frames.append(inputMatrix)\n",
    "        labelsList.append(scale(labels))\n",
    "    else:\n",
    "        frames.append(inputMatrix)\n",
    "        labelsList.append(scale(labels))\n",
    "    c += 1\n",
    "    print('Batch %d done!' % c)"
   ]
  },
  {
   "cell_type": "code",
   "execution_count": 31,
   "metadata": {},
   "outputs": [],
   "source": [
    "test_inputMatrix, test_labels = frames[0], labelsList[0]"
   ]
  },
  {
   "cell_type": "code",
   "execution_count": 32,
   "metadata": {},
   "outputs": [],
   "source": [
    "predictions = full_model.predict(test_inputMatrix, batch_size = timesteps)"
   ]
  },
  {
   "cell_type": "code",
   "execution_count": 33,
   "metadata": {},
   "outputs": [],
   "source": [
    "output1 = numpy.concatenate((test_labels[:, :1], predictions[:, :1]), axis=1)"
   ]
  },
  {
   "cell_type": "code",
   "execution_count": 34,
   "metadata": {},
   "outputs": [
    {
     "data": {
      "text/plain": [
       "[<matplotlib.lines.Line2D at 0x7fde4035ad30>,\n",
       " <matplotlib.lines.Line2D at 0x7fde4035ae80>]"
      ]
     },
     "execution_count": 34,
     "metadata": {},
     "output_type": "execute_result"
    },
    {
     "data": {
      "image/png": "[encoded data removed]",
      "text/plain": [
       "<Figure size 432x288 with 1 Axes>"
      ]
     },
     "metadata": {},
     "output_type": "display_data"
    }
   ],
   "source": [
    "plt.plot(output1)"
   ]
  },
  {
   "cell_type": "code",
   "execution_count": null,
   "metadata": {},
   "outputs": [],
   "source": [
    "output1 = numpy.concatenate((test_labels[:, :1], predictions[:, :1]), axis=1)\n",
    "output2 = numpy.concatenate((test_labels[:, 1:2], predictions[:, 1:2]), axis=1)\n",
    "output3 = numpy.concatenate((test_labels[:, 2:3], predictions[:, 2:3]), axis=1)"
   ]
  },
  {
   "cell_type": "code",
   "execution_count": null,
   "metadata": {},
   "outputs": [],
   "source": [
    "# Three subplots sharing both x/y axes\n",
    "f, (ax1, ax2, ax3) = plt.subplots(3, sharex=True)\n",
    "ax1.plot(output1)\n",
    "ax1.set_title('Sharing both axes')\n",
    "ax2.plot(output2)\n",
    "ax3.plot(output3)\n",
    "# Fine-tune figure; make subplots close to each other and hide x ticks for\n",
    "# all but bottom plot.\n",
    "f.subplots_adjust(hspace=0)\n",
    "plt.setp([a.get_xticklabels() for a in f.axes[:-1]], visible=False)"
   ]
  },
  {
   "cell_type": "code",
   "execution_count": null,
   "metadata": {},
   "outputs": [],
   "source": []
  }
 ],
 "metadata": {
  "kernelspec": {
   "display_name": "Python 3",
   "language": "python",
   "name": "python3"
  },
  "language_info": {
   "codemirror_mode": {
    "name": "ipython",
    "version": 3
   },
   "file_extension": ".py",
   "mimetype": "text/x-python",
   "name": "python",
   "nbconvert_exporter": "python",
   "pygments_lexer": "ipython3",
   "version": "3.6.5"
  }
 },
 "nbformat": 4,
 "nbformat_minor": 2
}
