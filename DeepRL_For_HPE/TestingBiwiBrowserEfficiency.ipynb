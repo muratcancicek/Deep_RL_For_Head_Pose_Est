{
 "cells": [
  {
   "cell_type": "code",
   "execution_count": 1,
   "metadata": {},
   "outputs": [
    {
     "name": "stdout",
     "output_type": "stream",
     "text": [
      "p /home/mcicek/Projects/deep_rl_for_head_pose_est/DeepRL_For_HPE/DatasetHandler/BiwiTarBrowser.py\n"
     ]
    },
    {
     "name": "stderr",
     "output_type": "stream",
     "text": [
      "/home/mcicek/anaconda3/lib/python3.6/site-packages/h5py/__init__.py:36: FutureWarning: Conversion of the second argument of issubdtype from `float` to `np.floating` is deprecated. In future, it will be treated as `np.float64 == np.dtype(float).type`.\n",
      "  from ._conv import register_converters as _register_converters\n",
      "Using TensorFlow backend.\n"
     ]
    }
   ],
   "source": [
    "from DatasetHandler import BiwiTarBrowser\n",
    "from DatasetHandler import BiwiBrowser"
   ]
  },
  {
   "cell_type": "code",
   "execution_count": null,
   "metadata": {},
   "outputs": [],
   "source": [
    "snippedBiwi = readBIWIDataset(frameTarFile = BIWI_SnippedData_file, labelsTarFile = BIWI_Lebels_file_Local)"
   ]
  },
  {
   "cell_type": "code",
   "execution_count": null,
   "metadata": {},
   "outputs": [],
   "source": [
    "for subj, (inputMatrix, labels) in snippedBiwi.items():\n",
    "    print(subj, inputMatrix.shape, labels.shape)"
   ]
  },
  {
   "cell_type": "code",
   "execution_count": null,
   "metadata": {},
   "outputs": [],
   "source": [
    "biwi = readBIWIDataset()"
   ]
  },
  {
   "cell_type": "code",
   "execution_count": null,
   "metadata": {},
   "outputs": [],
   "source": [
    "import cv2"
   ]
  },
  {
   "cell_type": "code",
   "execution_count": 2,
   "metadata": {},
   "outputs": [
    {
     "name": "stdout",
     "output_type": "stream",
     "text": [
      "Subject 01's frames have been started to read 2018-11-24 01:23:24.043392\n",
      "Subject 01's first 00000 frame have started to be extracted by 2018-11-24 01:23:24.043449\n",
      "Subject 01's first 00000 frame have started to be parsed by 2018-11-24 01:23:24.043481\n",
      "Subject 01's first 00000 frames have been read by 2018-11-24 01:23:24.158772\n",
      "Subject 01's first 00001 frame have started to be extracted by 2018-11-24 01:23:24.158826\n",
      "Subject 01's first 00001 frame have started to be parsed by 2018-11-24 01:23:24.158869\n",
      "Subject 01's first 00001 frames have been read by 2018-11-24 01:23:24.168504\n",
      "Subject 01's first 00002 frame have started to be extracted by 2018-11-24 01:23:24.168543\n",
      "Subject 01's first 00002 frame have started to be parsed by 2018-11-24 01:23:24.168582\n",
      "Subject 01's first 00002 frames have been read by 2018-11-24 01:23:24.182091\n",
      "Subject 01's first 00003 frame have started to be extracted by 2018-11-24 01:23:24.182127\n",
      "Subject 01's first 00003 frame have started to be parsed by 2018-11-24 01:23:24.182159\n",
      "Subject 01's first 00003 frames have been read by 2018-11-24 01:23:24.194524\n",
      "Subject 01's first 00004 frame have started to be extracted by 2018-11-24 01:23:24.194559\n",
      "Subject 01's first 00004 frame have started to be parsed by 2018-11-24 01:23:24.194590\n",
      "Subject 01's first 00004 frames have been read by 2018-11-24 01:23:24.204155\n",
      "Subject 01's first 00005 frame have started to be extracted by 2018-11-24 01:23:24.204193\n",
      "Subject 01's first 00005 frame have started to be parsed by 2018-11-24 01:23:24.204227\n",
      "Subject 01's first 00005 frames have been read by 2018-11-24 01:23:24.213739\n",
      "Subject 01's first 00006 frame have started to be extracted by 2018-11-24 01:23:24.213770\n",
      "Subject 01's first 00006 frame have started to be parsed by 2018-11-24 01:23:24.213802\n",
      "Subject 01's first 00006 frames have been read by 2018-11-24 01:23:24.223847\n",
      "Subject 01's first 00007 frame have started to be extracted by 2018-11-24 01:23:24.223877\n",
      "Subject 01's first 00007 frame have started to be parsed by 2018-11-24 01:23:24.223905\n",
      "Subject 01's first 00007 frames have been read by 2018-11-24 01:23:24.234407\n",
      "Subject 01's first 00008 frame have started to be extracted by 2018-11-24 01:23:24.234436\n",
      "Subject 01's first 00008 frame have started to be parsed by 2018-11-24 01:23:24.234463\n",
      "Subject 01's first 00008 frames have been read by 2018-11-24 01:23:24.246256\n",
      "Subject 01's first 00009 frame have started to be extracted by 2018-11-24 01:23:24.246375\n",
      "Subject 01's first 00009 frame have started to be parsed by 2018-11-24 01:23:24.246412\n",
      "Subject 01's first 00009 frames have been read by 2018-11-24 01:23:24.257100\n",
      "Subject 01's all frames have been read 2018-11-24 01:23:24.257149\n",
      "Subject 01's annotations have been read 2018-11-24 01:23:25.089371\n",
      "Subject 02's annotations have been read 2018-11-24 01:23:25.426062\n",
      "Subject 03's annotations have been read 2018-11-24 01:23:25.918547\n",
      "Subject 04's annotations have been read 2018-11-24 01:23:26.365688\n",
      "Subject 05's annotations have been read 2018-11-24 01:23:26.869798\n",
      "Subject 06's annotations have been read 2018-11-24 01:23:27.146259\n",
      "Subject 07's annotations have been read 2018-11-24 01:23:27.501545\n",
      "Subject 08's annotations have been read 2018-11-24 01:23:27.844518\n",
      "Subject 09's annotations have been read 2018-11-24 01:23:28.200034\n",
      "Subject 10's annotations have been read 2018-11-24 01:23:28.471064\n",
      "Subject 11's annotations have been read 2018-11-24 01:23:28.669682\n",
      "Subject 12's annotations have been read 2018-11-24 01:23:28.903337\n",
      "Subject 13's annotations have been read 2018-11-24 01:23:29.048600\n",
      "Subject 14's annotations have been read 2018-11-24 01:23:29.262854\n",
      "Subject 15's annotations have been read 2018-11-24 01:23:29.421051\n",
      "Subject 16's annotations have been read 2018-11-24 01:23:29.613238\n",
      "Subject 17's annotations have been read 2018-11-24 01:23:29.690008\n",
      "Subject 18's annotations have been read 2018-11-24 01:23:29.793255\n",
      "Subject 19's annotations have been read 2018-11-24 01:23:29.868555\n",
      "Subject 20's annotations have been read 2018-11-24 01:23:29.939593\n",
      "Subject 21's annotations have been read 2018-11-24 01:23:30.005300\n",
      "Subject 22's annotations have been read 2018-11-24 01:23:30.057506\n",
      "Subject 23's annotations have been read 2018-11-24 01:23:30.090275\n",
      "Subject 24's annotations have been read 2018-11-24 01:23:30.108586\n",
      "1 (10, 480, 640, 3) (10, 6)\n"
     ]
    }
   ],
   "source": [
    "BiwiTarBrowser.printSamplesFromBIWIDataset(BiwiTarBrowser.BIWI_SnippedData_file, BiwiTarBrowser.BIWI_Lebels_file_Local)"
   ]
  },
  {
   "cell_type": "code",
   "execution_count": 4,
   "metadata": {},
   "outputs": [
    {
     "name": "stdout",
     "output_type": "stream",
     "text": [
      "Subject 01's frames have been started to read 2018-11-24 01:05:28.113826\n",
      "Subject 01's first 00000 frame have started to be parsed by 2018-11-24 01:05:28.113860\n",
      "Subject 01's first 00000 frame have been parsed by 2018-11-24 01:05:28.123397\n",
      "Subject 01's first 00001 frame have started to be parsed by 2018-11-24 01:05:28.123446\n",
      "Subject 01's first 00001 frame have been parsed by 2018-11-24 01:05:28.132332\n",
      "Subject 01's first 00002 frame have started to be parsed by 2018-11-24 01:05:28.132372\n",
      "Subject 01's first 00002 frame have been parsed by 2018-11-24 01:05:28.141206\n",
      "Subject 01's first 00003 frame have started to be parsed by 2018-11-24 01:05:28.141246\n",
      "Subject 01's first 00003 frame have been parsed by 2018-11-24 01:05:28.150140\n",
      "Subject 01's first 00004 frame have started to be parsed by 2018-11-24 01:05:28.150192\n",
      "Subject 01's first 00004 frame have been parsed by 2018-11-24 01:05:28.159058\n",
      "Subject 01's first 00005 frame have started to be parsed by 2018-11-24 01:05:28.159098\n",
      "Subject 01's first 00005 frame have been parsed by 2018-11-24 01:05:28.167976\n",
      "Subject 01's first 00006 frame have started to be parsed by 2018-11-24 01:05:28.168024\n",
      "Subject 01's first 00006 frame have been parsed by 2018-11-24 01:05:28.176954\n",
      "Subject 01's first 00007 frame have started to be parsed by 2018-11-24 01:05:28.177011\n",
      "Subject 01's first 00007 frame have been parsed by 2018-11-24 01:05:28.185932\n",
      "Subject 01's first 00008 frame have started to be parsed by 2018-11-24 01:05:28.185983\n",
      "Subject 01's first 00008 frame have been parsed by 2018-11-24 01:05:28.194891\n",
      "Subject 01's first 00009 frame have started to be parsed by 2018-11-24 01:05:28.194933\n",
      "Subject 01's first 00009 frame have been parsed by 2018-11-24 01:05:28.203826\n",
      "Subject 01's frames have been read 2018-11-24 01:05:28.203866\n",
      "Subject 01's annotations have been read 2018-11-24 01:05:29.024696\n",
      "Subject 02's annotations have been read 2018-11-24 01:05:29.353102\n",
      "Subject 03's annotations have been read 2018-11-24 01:05:29.813979\n",
      "Subject 04's annotations have been read 2018-11-24 01:05:30.241940\n",
      "Subject 05's annotations have been read 2018-11-24 01:05:30.760132\n",
      "Subject 06's annotations have been read 2018-11-24 01:05:31.047283\n",
      "Subject 07's annotations have been read 2018-11-24 01:05:31.415290\n",
      "Subject 08's annotations have been read 2018-11-24 01:05:31.761560\n",
      "Subject 09's annotations have been read 2018-11-24 01:05:32.118394\n",
      "Subject 10's annotations have been read 2018-11-24 01:05:32.391729\n",
      "Subject 11's annotations have been read 2018-11-24 01:05:32.594606\n",
      "Subject 12's annotations have been read 2018-11-24 01:05:32.840420\n",
      "Subject 13's annotations have been read 2018-11-24 01:05:32.997810\n",
      "Subject 14's annotations have been read 2018-11-24 01:05:33.231631\n",
      "Subject 15's annotations have been read 2018-11-24 01:05:33.389822\n",
      "Subject 16's annotations have been read 2018-11-24 01:05:33.580645\n",
      "Subject 17's annotations have been read 2018-11-24 01:05:33.664041\n",
      "Subject 18's annotations have been read 2018-11-24 01:05:33.766411\n",
      "Subject 19's annotations have been read 2018-11-24 01:05:33.840844\n",
      "Subject 20's annotations have been read 2018-11-24 01:05:33.911512\n",
      "Subject 21's annotations have been read 2018-11-24 01:05:33.981048\n",
      "Subject 22's annotations have been read 2018-11-24 01:05:34.032614\n",
      "Subject 23's annotations have been read 2018-11-24 01:05:34.064714\n",
      "Subject 24's annotations have been read 2018-11-24 01:05:34.082869\n",
      "1 (10, 480, 640, 3) (10, 6)\n"
     ]
    }
   ],
   "source": [
    "BiwiBrowser.printSamplesFromBIWIDataset(BiwiBrowser.BIWI_SnippedData_folder, BiwiTarBrowser.BIWI_Lebels_file_Local)"
   ]
  },
  {
   "cell_type": "code",
   "execution_count": null,
   "metadata": {},
   "outputs": [],
   "source": [
    "BiwiBrowserBiwiTarBrowser."
   ]
  }
 ],
 "metadata": {
  "kernelspec": {
   "display_name": "Python 3",
   "language": "python",
   "name": "python3"
  },
  "language_info": {
   "codemirror_mode": {
    "name": "ipython",
    "version": 3
   },
   "file_extension": ".py",
   "mimetype": "text/x-python",
   "name": "python",
   "nbconvert_exporter": "python",
   "pygments_lexer": "ipython3",
   "version": "3.6.5"
  }
 },
 "nbformat": 4,
 "nbformat_minor": 2
}
