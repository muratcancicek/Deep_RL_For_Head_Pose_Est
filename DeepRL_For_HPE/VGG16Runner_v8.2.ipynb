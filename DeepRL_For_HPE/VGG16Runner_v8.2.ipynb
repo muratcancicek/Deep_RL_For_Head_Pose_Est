{
 "cells": [
  {
   "cell_type": "code",
   "execution_count": 1,
   "metadata": {
    "scrolled": true
   },
   "outputs": [
    {
     "name": "stderr",
     "output_type": "stream",
     "text": [
      "/home/mcicek/anaconda3/lib/python3.6/site-packages/h5py/__init__.py:36: FutureWarning: Conversion of the second argument of issubdtype from `float` to `np.floating` is deprecated. In future, it will be treated as `np.float64 == np.dtype(float).type`.\n",
      "  from ._conv import register_converters as _register_converters\n",
      "Using TensorFlow backend.\n"
     ]
    }
   ],
   "source": [
    "from DatasetHandler.BiwiBrowser import *\n",
    "from LSTM_VGG16.LSTM_VGG16Helper import *\n",
    "%matplotlib inline"
   ]
  },
  {
   "cell_type": "code",
   "execution_count": 2,
   "metadata": {},
   "outputs": [],
   "source": [
    "output_begin = 4\n",
    "num_outputs = 1"
   ]
  },
  {
   "cell_type": "code",
   "execution_count": 3,
   "metadata": {},
   "outputs": [],
   "source": [
    "timesteps = 26 # TimeseriesGenerator Handles overlapping\n",
    "in_epochs = 1\n",
    "out_epochs = 10\n",
    "train_batch_size = 1\n",
    "test_batch_size = 1"
   ]
  },
  {
   "cell_type": "code",
   "execution_count": 4,
   "metadata": {},
   "outputs": [],
   "source": [
    "subjectList = [1, 2, 3, 4, 5, 7, 8, 11, 12, 14] # except [6, 13, 10, ]\n",
    "testSubjects = [9]"
   ]
  },
  {
   "cell_type": "code",
   "execution_count": 5,
   "metadata": {},
   "outputs": [],
   "source": [
    "num_datasets = len(subjectList)"
   ]
  },
  {
   "cell_type": "code",
   "execution_count": 6,
   "metadata": {},
   "outputs": [],
   "source": [
    "def getImageModel(num_outputs = num_outputs):\n",
    "    inp = BIWI_Frame_Shape\n",
    "    vgg_model = VGG16(weights='imagenet', include_top=False, input_shape = BIWI_Frame_Shape)\n",
    "    rnn = Sequential()\n",
    "    rnn.add(TimeDistributed(vgg_model, input_shape=(timesteps, inp[0], inp[1], inp[2])))\n",
    "    rnn.add(TimeDistributed(Flatten()))\n",
    "    \n",
    "    rnn.add(TimeDistributed(Dense(1024, activation='relu')))\n",
    "    rnn.add(LSTM(128, dropout=0.2, recurrent_dropout=0.2, name='img_lstm'))\n",
    "\n",
    "    for layer in rnn.layers[:15]:\n",
    "        layer.trainable = False\n",
    "   # rnn.compile(optimizer='adam', loss='mean_squared_error', metrics=['mae'])\n",
    "    return rnn"
   ]
  },
  {
   "cell_type": "code",
   "execution_count": 7,
   "metadata": {},
   "outputs": [],
   "source": [
    "def getAngleModel(num_outputs = num_outputs):\n",
    "    rnn = Sequential()\n",
    "    rnn.add(LSTM(26, dropout=0.2, recurrent_dropout=0.2, input_shape=(timesteps, num_outputs), name='ang_lstm'))\n",
    "  #  rnn.compile(optimizer='adam', loss='mean_squared_error', metrics=['mae'])\n",
    "    return rnn"
   ]
  },
  {
   "cell_type": "code",
   "execution_count": 8,
   "metadata": {},
   "outputs": [],
   "source": [
    "def getFinalModel(num_outputs = num_outputs):\n",
    "    imageModel = getImageModel(num_outputs = num_outputs)\n",
    "    angleModel = getAngleModel(num_outputs = num_outputs)\n",
    "    merged = concatenate([imageModel.output, angleModel.output])#TimeDistributed()C, axis=-1, mode='concat'))  keras.layers.merge\n",
    "    dense = Dense(num_outputs)(merged)\n",
    "    rnn = Model([imageModel.input, angleModel.input], dense)\n",
    "   # rnn.add(merged)\n",
    "    rnn.compile(optimizer='adam', loss='mean_squared_error', metrics=['mae'])\n",
    "    return rnn"
   ]
  },
  {
   "cell_type": "code",
   "execution_count": 9,
   "metadata": {},
   "outputs": [],
   "source": [
    "keras.backend.clear_session()\n",
    "full_model = getFinalModel(num_outputs = num_outputs)"
   ]
  },
  {
   "cell_type": "code",
   "execution_count": 10,
   "metadata": {},
   "outputs": [],
   "source": [
    "#full_model.summary()"
   ]
  },
  {
   "cell_type": "code",
   "execution_count": 11,
   "metadata": {},
   "outputs": [
    {
     "name": "stdout",
     "output_type": "stream",
     "text": [
      "All frames and annotations from 1 datasets have been read by 2019-01-02 04:41:23.714118\n"
     ]
    }
   ],
   "source": [
    "#[1]\n",
    "test_generators, test_labelSets = getTestBiwiForFinalModel(testSubjects, timesteps, False, output_begin, num_outputs, batch_size = test_batch_size)\n",
    "test_gen, test_labels = test_generators[0], test_labelSets[0] "
   ]
  },
  {
   "cell_type": "code",
   "execution_count": null,
   "metadata": {},
   "outputs": [
    {
     "name": "stdout",
     "output_type": "stream",
     "text": [
      "All frames and annotations from 10 datasets have been read by 2019-01-02 04:41:38.854337\n",
      "1. set (Dataset 12) being trained for epoch 1!\n",
      "Epoch 1/1\n",
      "732/732 [==============================] - 547s 747ms/step - loss: 0.1409 - mean_absolute_error: 0.2971\n",
      "2. set (Dataset 3) being trained for epoch 1!\n",
      "Epoch 1/1\n",
      "401/730 [===============>..............] - ETA: 3:59 - loss: 0.0804 - mean_absolute_error: 0.2257"
     ]
    }
   ],
   "source": [
    "full_model = trainFinalModelForEpochs(full_model, out_epochs, subjectList, testSubjects, timesteps, False, output_begin, num_outputs, batch_size = train_batch_size, in_epochs = in_epochs)"
   ]
  },
  {
   "cell_type": "code",
   "execution_count": null,
   "metadata": {},
   "outputs": [],
   "source": [
    "predictions = full_model.predict_generator(test_gen, steps= len(test_labels[timesteps:, :1]), verbose=2)\n",
    "output1 = numpy.concatenate((test_labels[timesteps:, :1], predictions[:, :1]), axis=1)"
   ]
  },
  {
   "cell_type": "code",
   "execution_count": null,
   "metadata": {},
   "outputs": [],
   "source": [
    "def slide(m, x):\n",
    "        m[0, :-1] = m[0, 1:]\n",
    "        m[0, -1] = x\n",
    "        return m"
   ]
  },
  {
   "cell_type": "code",
   "execution_count": null,
   "metadata": {},
   "outputs": [],
   "source": [
    "cur_pred = np.zeros((1, 26, 1))\n",
    "pred = []\n",
    "c =0\n",
    "for (inputMatrix, inputLabels), outputLabels in test_gen:\n",
    "    im = inputMatrix.reshape(inputMatrix.shape[:1] + (1,) + inputMatrix.shape[1:])\n",
    "    #l = inputLabels.reshape(inputLabels.shape[:1] + (1,) + inputLabels.shape[1:])\n",
    "    c+=1\n",
    "    if c > len(test_labels): break\n",
    "    for i in range(len(inputLabels)):#50\n",
    "        p = full_model.predict([im[i], cur_pred])\n",
    "        pred.append(p)\n",
    "        cur_pred = slide(cur_pred, p)\n",
    "        "
   ]
  },
  {
   "cell_type": "code",
   "execution_count": null,
   "metadata": {},
   "outputs": [],
   "source": [
    "pr = np.array(pred)[:, :1]"
   ]
  },
  {
   "cell_type": "code",
   "execution_count": null,
   "metadata": {},
   "outputs": [],
   "source": [
    "pr.shape"
   ]
  },
  {
   "cell_type": "code",
   "execution_count": null,
   "metadata": {},
   "outputs": [],
   "source": [
    "output1 = numpy.concatenate((test_labels[:len(pred), :1], np.array(pred)[:, 0, :1]), axis=1)"
   ]
  },
  {
   "cell_type": "code",
   "execution_count": null,
   "metadata": {},
   "outputs": [],
   "source": [
    "plt.figure(figsize=(30,10))\n",
    "plt.plot(output1)"
   ]
  },
  {
   "cell_type": "code",
   "execution_count": null,
   "metadata": {},
   "outputs": [],
   "source": []
  }
 ],
 "metadata": {
  "kernelspec": {
   "display_name": "Python 3",
   "language": "python",
   "name": "python3"
  },
  "language_info": {
   "codemirror_mode": {
    "name": "ipython",
    "version": 3
   },
   "file_extension": ".py",
   "mimetype": "text/x-python",
   "name": "python",
   "nbconvert_exporter": "python",
   "pygments_lexer": "ipython3",
   "version": "3.6.5"
  }
 },
 "nbformat": 4,
 "nbformat_minor": 2
}
