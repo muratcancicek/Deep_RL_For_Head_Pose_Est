{
 "cells": [
  {
   "cell_type": "code",
   "execution_count": 1,
   "metadata": {},
   "outputs": [
    {
     "name": "stderr",
     "output_type": "stream",
     "text": [
      "/home/mcicek/anaconda3/lib/python3.6/site-packages/h5py/__init__.py:36: FutureWarning: Conversion of the second argument of issubdtype from `float` to `np.floating` is deprecated. In future, it will be treated as `np.float64 == np.dtype(float).type`.\n",
      "  from ._conv import register_converters as _register_converters\n",
      "Using TensorFlow backend.\n"
     ]
    }
   ],
   "source": [
    "from FC_RNN_Evaluater.FC_RNN_Evaluater import *\n",
    "from FC_RNN_Evaluater.Stateful_FC_RNN_Configuration import *\n",
    "from FC_RNN_Evaluater.runFC_RNN_Experiment import *"
   ]
  },
  {
   "cell_type": "code",
   "execution_count": 27,
   "metadata": {},
   "outputs": [],
   "source": [
    "from keras import Model\n",
    "from keras.layers import TimeDistributed, LSTM, Dense, Dropout, Flatten, Input"
   ]
  },
  {
   "cell_type": "code",
   "execution_count": 34,
   "metadata": {},
   "outputs": [],
   "source": [
    "def getFinalModel(timesteps = timesteps, lstm_nodes = lstm_nodes, lstm_dropout = lstm_dropout, \n",
    "                  lstm_recurrent_dropout = lstm_recurrent_dropout, num_outputs = num_outputs, \n",
    "                  lr = learning_rate, include_vgg_top = include_vgg_top, use_vgg16 = use_vgg16):\n",
    "    if use_vgg16:\n",
    "        modelID = 'VGG16' \n",
    "        inp = (224, 224, 3)\n",
    "        modelPackage = vgg16\n",
    "        margins = (8, 8, 48, 48)\n",
    "        Target_Frame_Shape = (240, 320, 3)\n",
    "        cnn_model = vgg16.VGG16(weights='imagenet', input_shape = inp, include_top=include_vgg_top) \n",
    "\n",
    "    def preprocess_input(imagePath): return preprocess_input_for_model(imagePath, Target_Frame_Shape, margins, modelPackage)\n",
    "    \n",
    "    if include_vgg_top:\n",
    "        modelID = modelID + '_inc_top'\n",
    "        cnn_model.layers.pop()\n",
    "        cnn_model.outputs = [cnn_model.layers[-1].output]\n",
    "        cnn_model.output_layers = [cnn_model.layers[-1]] \n",
    "        cnn_model.layers[-1].outbound_nodes = []\n",
    "        x = cnn_model.layers[-1].output\n",
    "        x = Dense(1024, activation='relu', name='predictions')(x)\n",
    "        model1 = Model(input=cnn_model.input,output=x)\n",
    "\n",
    "    cnn_model.summary()\n",
    "    rnn = Sequential()\n",
    "    rnn.add(TimeDistributed(model1, batch_input_shape=(train_batch_size, timesteps, inp[0], inp[1], inp[2]), name = 'tdCNN')) \n",
    "\n",
    "    if not include_vgg_top:\n",
    "        rnn.add(TimeDistributed(Flatten()))\n",
    "        \n",
    "    \"\"\"\n",
    "        cnn_model.pop()\n",
    "    rnn.add(TimeDistributed(Dropout(0.25), name = 'dropout025_conv'))\n",
    "    rnn.add(TimeDistributed(Dense(1024), name = 'fc1024')) # , activation='relu', activation='relu', kernel_regularizer=regularizers.l2(0.001)\n",
    "    rnn.add(TimeDistributed(Dropout(0.25), name = 'dropout025'))\n",
    "    \"\"\"\n",
    "    rnn.add(TimeDistributed(Dense(num_outputs), name = 'fc3'))\n",
    "\n",
    "    rnn.add(LSTM(lstm_nodes, dropout=lstm_dropout, recurrent_dropout=lstm_recurrent_dropout, stateful=True))#, activation='relu'\n",
    "    \n",
    "    \n",
    "    #model = Model(inputs=cnn_model.input, outputs=rnn(TimeDistributed(cnn_model.output)))\n",
    "    \n",
    "    modelID = modelID + '_seqLen%d' % timesteps\n",
    "    modelID = modelID + '_stateful'\n",
    "    modelID = modelID + '_lstm%d' % lstm_nodes\n",
    "    rnn.add(Dense(num_outputs))\n",
    "    \n",
    "    modelID = modelID + '_output%d' % num_outputs\n",
    "\n",
    "    modelID = modelID + '_BatchSize%d' % train_batch_size\n",
    "    modelID = modelID + '_inEpochs%d' % in_epochs\n",
    "    modelID = modelID + '_outEpochs%d' % out_epochs\n",
    "    \n",
    "    for layer in rnn.layers[:1]: \n",
    "        layer.trainable = False\n",
    "    adam = Adam(lr=lr)\n",
    "    modelID = modelID + '_AdamOpt_lr-%f' % lr\n",
    "    rnn.compile(optimizer=adam, loss='mean_absolute_error') #'mean_squared_error', metrics=['mae'])#\n",
    "    modelID = modelID + '_%s' % now()[:-7].replace(' ', '_').replace(':', '-')\n",
    "    return cnn_model, rnn, modelID, preprocess_input"
   ]
  },
  {
   "cell_type": "code",
   "execution_count": 35,
   "metadata": {},
   "outputs": [
    {
     "name": "stderr",
     "output_type": "stream",
     "text": [
      "/home/mcicek/anaconda3/lib/python3.6/site-packages/ipykernel_launcher.py:22: UserWarning: Update your `Model` call to the Keras 2 API: `Model(inputs=Tensor(\"in..., outputs=Tensor(\"pr...)`\n"
     ]
    },
    {
     "name": "stdout",
     "output_type": "stream",
     "text": [
      "_________________________________________________________________\n",
      "Layer (type)                 Output Shape              Param #   \n",
      "=================================================================\n",
      "input_18 (InputLayer)        (None, 224, 224, 3)       0         \n",
      "_________________________________________________________________\n",
      "block1_conv1 (Conv2D)        (None, 224, 224, 64)      1792      \n",
      "_________________________________________________________________\n",
      "block1_conv2 (Conv2D)        (None, 224, 224, 64)      36928     \n",
      "_________________________________________________________________\n",
      "block1_pool (MaxPooling2D)   (None, 112, 112, 64)      0         \n",
      "_________________________________________________________________\n",
      "block2_conv1 (Conv2D)        (None, 112, 112, 128)     73856     \n",
      "_________________________________________________________________\n",
      "block2_conv2 (Conv2D)        (None, 112, 112, 128)     147584    \n",
      "_________________________________________________________________\n",
      "block2_pool (MaxPooling2D)   (None, 56, 56, 128)       0         \n",
      "_________________________________________________________________\n",
      "block3_conv1 (Conv2D)        (None, 56, 56, 256)       295168    \n",
      "_________________________________________________________________\n",
      "block3_conv2 (Conv2D)        (None, 56, 56, 256)       590080    \n",
      "_________________________________________________________________\n",
      "block3_conv3 (Conv2D)        (None, 56, 56, 256)       590080    \n",
      "_________________________________________________________________\n",
      "block3_pool (MaxPooling2D)   (None, 28, 28, 256)       0         \n",
      "_________________________________________________________________\n",
      "block4_conv1 (Conv2D)        (None, 28, 28, 512)       1180160   \n",
      "_________________________________________________________________\n",
      "block4_conv2 (Conv2D)        (None, 28, 28, 512)       2359808   \n",
      "_________________________________________________________________\n",
      "block4_conv3 (Conv2D)        (None, 28, 28, 512)       2359808   \n",
      "_________________________________________________________________\n",
      "block4_pool (MaxPooling2D)   (None, 14, 14, 512)       0         \n",
      "_________________________________________________________________\n",
      "block5_conv1 (Conv2D)        (None, 14, 14, 512)       2359808   \n",
      "_________________________________________________________________\n",
      "block5_conv2 (Conv2D)        (None, 14, 14, 512)       2359808   \n",
      "_________________________________________________________________\n",
      "block5_conv3 (Conv2D)        (None, 14, 14, 512)       2359808   \n",
      "_________________________________________________________________\n",
      "block5_pool (MaxPooling2D)   (None, 7, 7, 512)         0         \n",
      "_________________________________________________________________\n",
      "flatten (Flatten)            (None, 25088)             0         \n",
      "_________________________________________________________________\n",
      "fc1 (Dense)                  (None, 4096)              102764544 \n",
      "_________________________________________________________________\n",
      "fc2 (Dense)                  (None, 4096)              16781312  \n",
      "=================================================================\n",
      "Total params: 134,260,544\n",
      "Trainable params: 134,260,544\n",
      "Non-trainable params: 0\n",
      "_________________________________________________________________\n"
     ]
    }
   ],
   "source": [
    "vgg_model, full_model, modelID, preprocess_input = getFinalModel(timesteps = timesteps, lstm_nodes = lstm_nodes, lstm_dropout = lstm_dropout, lstm_recurrent_dropout = lstm_recurrent_dropout, \n",
    "                      num_outputs = num_outputs, lr = learning_rate, include_vgg_top = include_vgg_top)"
   ]
  },
  {
   "cell_type": "code",
   "execution_count": 3,
   "metadata": {},
   "outputs": [
    {
     "name": "stdout",
     "output_type": "stream",
     "text": [
      "All frames and annotations from 1 datasets have been read by 2019-01-29 00:45:23.596839\n",
      "1. set (Dataset 9) being trained for epoch 1 by 2019-01-29 00:45:32.509373!\n",
      "Epoch 1/1\n",
      "882/882 [==============================] - 27s 31ms/step - loss: 0.3977\n",
      "Epoch 1 completed!\n"
     ]
    }
   ],
   "source": [
    "full_model = trainCNN_LSTM(full_model, modelID, out_epochs, trainingSubjects, timesteps, output_begin, num_outputs, \n",
    "                  batch_size = train_batch_size, in_epochs = in_epochs, stateful = STATEFUL, preprocess_input = preprocess_input)"
   ]
  },
  {
   "cell_type": "code",
   "execution_count": 12,
   "metadata": {},
   "outputs": [],
   "source": [
    "def unscaleEstimations(test_labels, predictions, scalers, output_begin, num_outputs):\n",
    "    \"\"\"* label_rescaling_factor * label_rescaling_factor\n",
    "    \"\"\"\n",
    "    sclrs = [scalers[0][output_begin:output_begin+num_outputs], scalers[1][output_begin:output_begin+num_outputs]]\n",
    "    test_labels = unscaleAnnoByScalers(test_labels, sclrs)\n",
    "    predictions = unscaleAnnoByScalers(predictions, sclrs)\n",
    "    return test_labels, predictions"
   ]
  },
  {
   "cell_type": "code",
   "execution_count": 13,
   "metadata": {},
   "outputs": [],
   "source": [
    "def evaluateSubject(full_model, subject, test_gen, test_labels, timesteps, output_begin, num_outputs, angles, batch_size, stateful = False, record = False):\n",
    "    if num_outputs == 1: angles = ['Yaw']\n",
    "    printLog('For the Subject %d (%s):' % (subject, BIWI_Subject_IDs[subject]), record = record)\n",
    "    predictions = full_model.predict_generator(test_gen, steps = int(len(test_labels)/batch_size), verbose = 1)\n",
    "    #kerasEval = full_model.evaluate_generator(test_gen) \n",
    "    test_labels, predictions = unscaleEstimations(test_labels, predictions, BIWI_Lebel_Scalers, output_begin, num_outputs)\n",
    "    full_model.reset_states()\n",
    "    outputs = []\n",
    "    for i in range(num_outputs):\n",
    "        if stateful:\n",
    "            start_index = (test_labels.shape[0] % batch_size) if batch_size > 1 else 0\n",
    "            matrix = numpy.concatenate((test_labels[start_index:, i:i+1], predictions[:, i:i+1]), axis=1)\n",
    "            differences = (test_labels[start_index:, i:i+1] - predictions[:, i:i+1])\n",
    "        else:\n",
    "            print(test_labels[:, i:i+1].shape, predictions[:, i:i+1].shape)\n",
    "            matrix = numpy.concatenate((test_labels[:, i:i+1], predictions[:, i:i+1]), axis=1)\n",
    "            differences = (test_labels[:, i:i+1] - predictions[:, i:i+1])\n",
    "        absolute_mean_error = np.abs(differences).mean()\n",
    "        printLog(\"\\tThe absolute mean error on %s angle estimation: %.2f Degree\" % (angles[i], absolute_mean_error), record = record)\n",
    "        outputs.append((matrix, absolute_mean_error))\n",
    "    return full_model, outputs\n"
   ]
  },
  {
   "cell_type": "code",
   "execution_count": 14,
   "metadata": {},
   "outputs": [],
   "source": [
    "def evaluateCNN_LSTM(full_model, label_rescaling_factor, testSubjects, timesteps, output_begin, \n",
    "                     num_outputs, batch_size, angles, stateful = False, record = False, preprocess_input = None):\n",
    "    if num_outputs == 1: angles = ['Yaw']\n",
    "    test_generators, test_labelSets = getTestBiwiForImageModel(testSubjects, timesteps, False, output_begin, num_outputs, \n",
    "                                            batch_size = batch_size, stateful = stateful, record = record, preprocess_input = preprocess_input)\n",
    "    results = []\n",
    "    for subject, test_gen, test_labels in zip(testSubjects, test_generators, test_labelSets):\n",
    "        full_model, outputs = evaluateSubject(full_model, subject, test_gen, test_labels, timesteps, output_begin, num_outputs, angles, batch_size = batch_size, stateful = stateful, record = record)\n",
    "        results.append((subject, outputs))\n",
    "    means = evaluateAverage(results, angles, num_outputs, record = record)\n",
    "    return full_model, means, results \n"
   ]
  },
  {
   "cell_type": "code",
   "execution_count": 15,
   "metadata": {},
   "outputs": [
    {
     "name": "stdout",
     "output_type": "stream",
     "text": [
      "All frames and annotations from 1 datasets have been read by 2019-01-29 00:52:13.451180\n",
      "For the Subject 9 (M03):\n",
      "882/882 [==============================] - 12s 14ms/step\n",
      "\tThe absolute mean error on Pitch angle estimation: 20.35 Degree\n",
      "\tThe absolute mean error on Yaw angle estimation: 29.29 Degree\n",
      "\tThe absolute mean error on Roll angle estimation: 31.73 Degree\n"
     ]
    }
   ],
   "source": [
    " full_model, means, results = evaluateCNN_LSTM(full_model, label_rescaling_factor = label_rescaling_factor, \n",
    "                     testSubjects = testSubjects, timesteps = timesteps,  output_begin = output_begin, \n",
    "                    num_outputs = num_outputs, batch_size = test_batch_size, angles = angles, stateful = STATEFUL, preprocess_input = preprocess_input)"
   ]
  },
  {
   "cell_type": "code",
   "execution_count": 10,
   "metadata": {},
   "outputs": [
    {
     "name": "stdout",
     "output_type": "stream",
     "text": [
      "All frames and annotations from 1 datasets have been read by 2019-01-28 23:01:54.311180\n"
     ]
    }
   ],
   "source": [
    "test_generators, test_labelSets = getTestBiwiForImageModel(testSubjects, timesteps, False, output_begin, num_outputs, \n",
    "                                            batch_size = 1, stateful = True, preprocess_input = preprocess_input)"
   ]
  },
  {
   "cell_type": "code",
   "execution_count": 11,
   "metadata": {},
   "outputs": [],
   "source": [
    "test_gen, test_labels = test_generators[0], test_labelSets[0]"
   ]
  },
  {
   "cell_type": "code",
   "execution_count": 12,
   "metadata": {},
   "outputs": [
    {
     "data": {
      "text/plain": [
       "array([[1.81540612, 1.01903605, 1.20626227],\n",
       "       [1.81104456, 1.02161907, 1.21798137],\n",
       "       [1.8071115 , 1.02693495, 1.2186752 ],\n",
       "       ...,\n",
       "       [1.86528669, 1.18353251, 1.28262154],\n",
       "       [1.86317814, 1.19736085, 1.28078107],\n",
       "       [1.85303369, 1.19928671, 1.2678096 ]])"
      ]
     },
     "execution_count": 12,
     "metadata": {},
     "output_type": "execute_result"
    }
   ],
   "source": [
    "test_labels"
   ]
  },
  {
   "cell_type": "code",
   "execution_count": null,
   "metadata": {},
   "outputs": [],
   "source": []
  }
 ],
 "metadata": {
  "kernelspec": {
   "display_name": "Python 3",
   "language": "python",
   "name": "python3"
  },
  "language_info": {
   "codemirror_mode": {
    "name": "ipython",
    "version": 3
   },
   "file_extension": ".py",
   "mimetype": "text/x-python",
   "name": "python",
   "nbconvert_exporter": "python",
   "pygments_lexer": "ipython3",
   "version": "3.6.5"
  }
 },
 "nbformat": 4,
 "nbformat_minor": 2
}
