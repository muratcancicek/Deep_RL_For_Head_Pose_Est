{
 "cells": [
  {
   "cell_type": "code",
   "execution_count": 1,
   "metadata": {},
   "outputs": [
    {
     "name": "stderr",
     "output_type": "stream",
     "text": [
      "/home/mcicek/anaconda3/lib/python3.6/site-packages/h5py/__init__.py:36: FutureWarning: Conversion of the second argument of issubdtype from `float` to `np.floating` is deprecated. In future, it will be treated as `np.float64 == np.dtype(float).type`.\n",
      "  from ._conv import register_converters as _register_converters\n",
      "Using TensorFlow backend.\n"
     ]
    }
   ],
   "source": [
    "from DatasetHandler.BiwiBrowser import *"
   ]
  },
  {
   "cell_type": "code",
   "execution_count": 4,
   "metadata": {},
   "outputs": [
    {
     "name": "stdout",
     "output_type": "stream",
     "text": [
      "Frames from /home/mcicek/Datasets/HeadPoses/biwi/hpdb/ have been started to read by 2018-11-25 19:19:39.160361\n",
      "Subject 01's frames have been started to read 2018-11-25 19:19:39.161400\n",
      "Subject 01's all frames have been read by 2018-11-25 19:19:39.161423\n",
      "Subject 02's frames have been started to read 2018-11-25 19:19:39.162252\n",
      "Subject 02's all frames have been read by 2018-11-25 19:19:39.162273\n",
      "/home/mcicek/Datasets/HeadPoses/biwi/db_annotations.tgz has been started to read by 2018-11-25 19:19:39.162285\n",
      "2 annotations have been read by 2018-11-25 19:19:40.320009\n"
     ]
    }
   ],
   "source": [
    "biwi = readBIWIDataset(subjectList = [s for s in range(1, 3)])#"
   ]
  },
  {
   "cell_type": "code",
   "execution_count": 6,
   "metadata": {
    "collapsed": true
   },
   "outputs": [
    {
     "name": "stdout",
     "output_type": "stream",
     "text": [
      "2018-11-25 18:16:40.294981\n",
      "(498, 480, 640, 3) (498, 6)\n",
      "2018-11-25 18:16:44.989585\n",
      "(511, 480, 640, 3) (511, 6)\n",
      "2018-11-25 18:16:49.748465\n",
      "(730, 480, 640, 3) (730, 6)\n",
      "2018-11-25 18:16:56.560447\n",
      "(744, 480, 640, 3) (744, 6)\n",
      "2018-11-25 18:17:03.468438\n",
      "(946, 480, 640, 3) (946, 6)\n",
      "2018-11-25 18:17:12.034162\n",
      "(542, 480, 640, 3) (542, 6)\n",
      "2018-11-25 18:17:16.946352\n",
      "(745, 480, 640, 3) (745, 6)\n",
      "2018-11-25 18:17:23.987011\n",
      "(772, 480, 640, 3) (772, 6)\n",
      "2018-11-25 18:17:31.263877\n",
      "(882, 480, 640, 3) (882, 6)\n",
      "2018-11-25 18:17:39.548119\n",
      "(726, 480, 640, 3) (726, 6)\n",
      "2018-11-25 18:17:46.316646\n",
      "(572, 480, 640, 3) (572, 6)\n",
      "2018-11-25 18:17:51.688467\n",
      "(732, 480, 640, 3) (732, 6)\n",
      "2018-11-25 18:17:58.481056\n",
      "(485, 480, 640, 3) (485, 6)\n",
      "2018-11-25 18:18:03.021992\n",
      "(797, 480, 640, 3) (797, 6)\n",
      "2018-11-25 18:18:10.505422\n",
      "(654, 480, 640, 3) (654, 6)\n",
      "2018-11-25 18:18:16.482274\n",
      "(914, 480, 640, 3) (914, 6)\n",
      "2018-11-25 18:18:24.682501\n",
      "(395, 480, 640, 3) (395, 6)\n",
      "2018-11-25 18:18:28.276877\n",
      "(614, 480, 640, 3) (614, 6)\n",
      "2018-11-25 18:18:33.803057\n",
      "(502, 480, 640, 3) (502, 6)\n",
      "2018-11-25 18:18:38.385801\n",
      "(556, 480, 640, 3) (556, 6)\n",
      "2018-11-25 18:18:43.462110\n",
      "(634, 480, 640, 3) (634, 6)\n",
      "2018-11-25 18:18:49.131424\n",
      "(665, 480, 640, 3) (665, 6)\n",
      "2018-11-25 18:18:55.160847\n",
      "(569, 480, 640, 3) (569, 6)\n",
      "2018-11-25 18:19:00.283258\n",
      "(492, 480, 640, 3) (492, 6)\n",
      "2018-11-25 18:19:04.737584\n",
      "2018-11-25 18:19:04.739356\n"
     ]
    }
   ],
   "source": [
    "print(now())\n",
    "for inputMatrix, labels in biwi:\n",
    "    print(inputMatrix.shape, labels.shape)\n",
    "    print(now())\n",
    "print(now())"
   ]
  },
  {
   "cell_type": "code",
   "execution_count": 3,
   "metadata": {},
   "outputs": [
    {
     "ename": "TypeError",
     "evalue": "'generator' object is not subscriptable",
     "output_type": "error",
     "traceback": [
      "\u001b[0;31m---------------------------------------------------------------------------\u001b[0m",
      "\u001b[0;31mTypeError\u001b[0m                                 Traceback (most recent call last)",
      "\u001b[0;32m<ipython-input-3-f7d144e41d40>\u001b[0m in \u001b[0;36m<module>\u001b[0;34m()\u001b[0m\n\u001b[0;32m----> 1\u001b[0;31m \u001b[0;34m[\u001b[0m\u001b[0ms\u001b[0m \u001b[0;32mfor\u001b[0m \u001b[0ms\u001b[0m \u001b[0;32min\u001b[0m \u001b[0mbiwi\u001b[0m\u001b[0;34m[\u001b[0m\u001b[0;34m:\u001b[0m\u001b[0;36m3\u001b[0m\u001b[0;34m]\u001b[0m\u001b[0;34m]\u001b[0m\u001b[0;34m\u001b[0m\u001b[0m\n\u001b[0m",
      "\u001b[0;31mTypeError\u001b[0m: 'generator' object is not subscriptable"
     ]
    }
   ],
   "source": []
  },
  {
   "cell_type": "code",
   "execution_count": 4,
   "metadata": {},
   "outputs": [
    {
     "name": "stdout",
     "output_type": "stream",
     "text": [
      "1 (498, 480, 640, 3) (498, 6)\n",
      "2 (511, 480, 640, 3) (511, 6)\n",
      "3 (730, 480, 640, 3) (730, 6)\n"
     ]
    }
   ],
   "source": [
    "for subj, (inputMatrix, labels) in biwi.items():\n",
    "    print(subj, inputMatrix.shape, labels.shape)"
   ]
  },
  {
   "cell_type": "code",
   "execution_count": null,
   "metadata": {},
   "outputs": [],
   "source": [
    "snippedBiwi = readBIWIDataset(frameTarFile = BIWI_SnippedData_file, labelsTarFile = BIWI_Lebels_file_Local)"
   ]
  },
  {
   "cell_type": "code",
   "execution_count": null,
   "metadata": {},
   "outputs": [],
   "source": []
  }
 ],
 "metadata": {
  "kernelspec": {
   "display_name": "Python 3",
   "language": "python",
   "name": "python3"
  },
  "language_info": {
   "codemirror_mode": {
    "name": "ipython",
    "version": 3
   },
   "file_extension": ".py",
   "mimetype": "text/x-python",
   "name": "python",
   "nbconvert_exporter": "python",
   "pygments_lexer": "ipython3",
   "version": "3.6.5"
  }
 },
 "nbformat": 4,
 "nbformat_minor": 2
}
