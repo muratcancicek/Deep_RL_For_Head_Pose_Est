{
 "cells": [
  {
   "cell_type": "code",
   "execution_count": 1,
   "metadata": {},
   "outputs": [
    {
     "name": "stderr",
     "output_type": "stream",
     "text": [
      "Using TensorFlow backend.\n"
     ]
    }
   ],
   "source": [
    "from DatasetHandler.BiwiBrowser import *\n",
    "from LSTM_VGG16.LSTM_VGG16Helper import *\n",
    "%matplotlib inline"
   ]
  },
  {
   "cell_type": "code",
   "execution_count": 2,
   "metadata": {},
   "outputs": [],
   "source": [
    "output_begin = 4\n",
    "num_outputs = 1"
   ]
  },
  {
   "cell_type": "code",
   "execution_count": 3,
   "metadata": {},
   "outputs": [],
   "source": [
    "timesteps = 26 # TimeseriesGenerator Handles overlapping\n",
    "in_epochs = 1\n",
    "out_epochs = 3\n",
    "train_batch_size = 4\n",
    "test_batch_size = 1"
   ]
  },
  {
   "cell_type": "code",
   "execution_count": 4,
   "metadata": {},
   "outputs": [],
   "source": [
    "subjectList = [1, 2, 3, 4, 5, 7, 8, 11, 12, 14] # except [6, 13, 10, ]\n",
    "testSubjects = [9]"
   ]
  },
  {
   "cell_type": "code",
   "execution_count": null,
   "metadata": {},
   "outputs": [],
   "source": [
    "num_datasets = len(subjectList)"
   ]
  },
  {
   "cell_type": "code",
   "execution_count": null,
   "metadata": {},
   "outputs": [],
   "source": [
    "def getFinalModel(num_outputs = num_outputs):\n",
    "    inp = (224, 224, 3) # BIWI_Frame_Shape\n",
    "    vgg_model = VGG16(weights='imagenet', input_shape = inp) #BIWI_Frame_Shape, include_top=False\n",
    "    \"\"\"\"\n",
    "    \"\"\"\n",
    "    vgg_model.layers.pop()\n",
    "    vgg_model.outputs = [vgg_model.layers[-1].output]#\n",
    "    vgg_model.output_layers = [vgg_model.layers[-1]]#\n",
    "    vgg_model.layers[-1].outbound_nodes = []#\n",
    "    nb_pretrained_layers = len(vgg_model.layers)\n",
    "    for layer in vgg_model.layers: #\n",
    "        layer.trainable = False#\n",
    "    #print(nb_pretrained_layers)\n",
    "    #vgg_model.summary()\n",
    "    rnn = Sequential()\n",
    "    rnn.add(TimeDistributed(vgg_model, input_shape=(timesteps, inp[0], inp[1], inp[2]), name = 'tdVGG16')) \n",
    "    rnn.add(TimeDistributed(Flatten()))\n",
    "    \n",
    "   # rnn.add(TimeDistributed(Dense(4096, activation='relu'), name = 'fc1024')), activation='relu'\n",
    "   # rnn.add(TimeDistributed(Dense(4096, activation='relu'), name = 'fc104'))    \n",
    "   # rnn.add(TimeDistributed(Dropout(0.25)))\n",
    "    rnn.add(TimeDistributed(Dense(1024, activation='relu'), name = 'fc10'))#\n",
    "    rnn.add(TimeDistributed(Dropout(0.25)))\n",
    "\n",
    "    rnn.add(LSTM(128, dropout=0.25, recurrent_dropout=0.25))\n",
    "   # rnn.add(Flatten())\n",
    "    rnn.add(Dense(num_outputs))\n",
    "    #print(len(rnn.layers))\n",
    "    for layer in rnn.layers[:1]:#\n",
    "        layer.trainable = False#\n",
    "    adam = optimizers.Adam(lr=0.0001)\n",
    "    rnn.compile(optimizer=adam, loss='mean_squared_error', metrics=['mae'])\n",
    "    return rnn"
   ]
  },
  {
   "cell_type": "code",
   "execution_count": null,
   "metadata": {},
   "outputs": [
    {
     "name": "stdout",
     "output_type": "stream",
     "text": [
      "Downloading data from https://github.com/fchollet/deep-learning-models/releases/download/v0.1/vgg16_weights_tf_dim_ordering_tf_kernels.h5\n",
      "446586880/553467096 [=======================>......] - ETA: 2:36"
     ]
    }
   ],
   "source": [
    "keras.backend.clear_session()#\n",
    "full_model = getFinalModel(num_outputs = num_outputs)"
   ]
  },
  {
   "cell_type": "code",
   "execution_count": null,
   "metadata": {},
   "outputs": [],
   "source": [
    "full_model.summary()"
   ]
  },
  {
   "cell_type": "code",
   "execution_count": null,
   "metadata": {
    "scrolled": true
   },
   "outputs": [],
   "source": [
    "full_model = trainImageModelForEpochs(full_model, out_epochs, subjectList, testSubjects, timesteps, False, output_begin, num_outputs, batch_size = train_batch_size, in_epochs = in_epochs)"
   ]
  },
  {
   "cell_type": "code",
   "execution_count": null,
   "metadata": {},
   "outputs": [],
   "source": [
    "test_generators, test_labelSets = getTestBiwiForImageModel(testSubjects, timesteps, False, output_begin, num_outputs, batch_size = test_batch_size)\n",
    "test_gen, test_labels = test_generators[0], test_labelSets[0] #[1]"
   ]
  },
  {
   "cell_type": "code",
   "execution_count": null,
   "metadata": {},
   "outputs": [],
   "source": [
    "predictions = full_model.predict_generator(test_gen, verbose = 1)\n",
    "#predictions = full_model.predict(test_gen[0][0], verbose = 1)\n",
    "output1 = numpy.concatenate((test_labels[timesteps:, :1], predictions[:, :1]), axis=1)"
   ]
  },
  {
   "cell_type": "code",
   "execution_count": null,
   "metadata": {},
   "outputs": [],
   "source": [
    "print([i[0] for i in predictions[:10]])"
   ]
  },
  {
   "cell_type": "code",
   "execution_count": null,
   "metadata": {},
   "outputs": [],
   "source": [
    "plt.figure(figsize=(30,10))\n",
    "plt.plot(output1)"
   ]
  },
  {
   "cell_type": "code",
   "execution_count": null,
   "metadata": {},
   "outputs": [],
   "source": []
  },
  {
   "cell_type": "code",
   "execution_count": null,
   "metadata": {},
   "outputs": [],
   "source": [
    "exit()"
   ]
  },
  {
   "cell_type": "code",
   "execution_count": null,
   "metadata": {},
   "outputs": [],
   "source": [
    "len(test_gen[0][0])"
   ]
  },
  {
   "cell_type": "code",
   "execution_count": null,
   "metadata": {},
   "outputs": [],
   "source": [
    "test_gen[23][0][0][0][124][110]"
   ]
  },
  {
   "cell_type": "code",
   "execution_count": null,
   "metadata": {},
   "outputs": [],
   "source": []
  }
 ],
 "metadata": {
  "kernelspec": {
   "display_name": "Python 3",
   "language": "python",
   "name": "python3"
  },
  "language_info": {
   "codemirror_mode": {
    "name": "ipython",
    "version": 3
   },
   "file_extension": ".py",
   "mimetype": "text/x-python",
   "name": "python",
   "nbconvert_exporter": "python",
   "pygments_lexer": "ipython3",
   "version": "3.6.4"
  }
 },
 "nbformat": 4,
 "nbformat_minor": 2
}
